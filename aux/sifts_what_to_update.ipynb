{
 "cells": [
  {
   "cell_type": "code",
   "execution_count": 1,
   "metadata": {
    "ExecuteTime": {
     "end_time": "2020-12-09T15:33:45.063752Z",
     "start_time": "2020-12-09T15:26:06.073156Z"
    },
    "code_folding": []
   },
   "outputs": [],
   "source": [
    "import re, os, zlib, time, pickle, urllib, datetime, multiprocessing \n",
    "\n",
    "r = urllib.request.urlopen('ftp://ftp.ebi.ac.uk/pub/databases/msd/sifts/xml/')\n",
    "ls_long = r.fp.read().decode() \n",
    "pdbids = [i.split()[8][:4] for i in ls_long.split('\\r\\n') if i]\n",
    "# executed in 2m 41s, finished 09:18:06 2020-12-09"
   ]
  },
  {
   "cell_type": "code",
   "execution_count": null,
   "metadata": {
    "ExecuteTime": {
     "start_time": "2020-12-09T15:44:36.778Z"
    },
    "code_folding": []
   },
   "outputs": [],
   "source": [
    "re_dbver = re.compile(b'(?<=dbEntryVersion=\\\").*?(?=\\\")')\n",
    "def sifts_get_database_version_by_pdbid(pdbid): \n",
    "    try:\n",
    "        r     = urllib.request.urlopen(f'ftp://ftp.ebi.ac.uk/pub/databases/msd/sifts/xml/{pdbid}.xml.gz')\n",
    "        gz    = r.fp.read(500) \n",
    "        xml   = zlib.decompressobj(32+zlib.MAX_WBITS).decompress(gz)\n",
    "        ver   = re.search(re_dbver, xml).group(0).decode() \n",
    "        return pdbid, ver\n",
    "    except:\n",
    "        return None \n",
    "\n",
    "num_worker = 5\n",
    "with multiprocessing.Pool(num_worker) as p, open('sifts.progress', 'w') as fw: \n",
    "    num_jobs = len(pdbids)\n",
    "    jobs = [p.apply_async(sifts_get_database_version_by_pdbid, (i,)) for i in pdbids]\n",
    "    while True:\n",
    "        time.sleep(60) \n",
    "        num_ready = len([job.ready() for job in jobs if job.ready()])\n",
    "        print(f'Finish rate: {num_ready} / {num_jobs} @ {datetime.datetime.now().isoformat()}', file=fw)\n",
    "        fw.flush()\n",
    "        if num_ready == num_jobs:\n",
    "            result = [job.get() for job in jobs]\n",
    "            with open('sifts.pkl', 'wb') as _fw: pickle.dump(result, file=_fw)\n",
    "            break\n",
    "\n",
    "#import concurrent \n",
    "#with concurrent.futures.ThreadPoolExecutor(max_workers=4) as executor:\n",
    "#    executor.map(sifts_get_database_version_by_pdbid, pdbids) "
   ]
  }
 ],
 "metadata": {
  "kernelspec": {
   "display_name": "Python 3",
   "language": "python",
   "name": "python3"
  },
  "language_info": {
   "codemirror_mode": {
    "name": "ipython",
    "version": 3
   },
   "file_extension": ".py",
   "mimetype": "text/x-python",
   "name": "python",
   "nbconvert_exporter": "python",
   "pygments_lexer": "ipython3",
   "version": "3.8.5"
  }
 },
 "nbformat": 4,
 "nbformat_minor": 4
}
