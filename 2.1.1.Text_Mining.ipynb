{
 "cells": [
  {
   "cell_type": "markdown",
   "metadata": {},
   "source": [
    "### Varibles and Modules"
   ]
  },
  {
   "cell_type": "code",
   "execution_count": 1,
   "metadata": {
    "ExecuteTime": {
     "end_time": "2020-09-10T12:38:12.203904Z",
     "start_time": "2020-09-10T12:38:11.529362Z"
    }
   },
   "outputs": [
    {
     "name": "stderr",
     "output_type": "stream",
     "text": [
      "RDKit WARNING: [08:38:12] Enabling RDKit 2019.09.3 jupyter extensions\n"
     ]
    }
   ],
   "source": [
    "from data.pub import env\n",
    "rcsb_cif_gz_dir = env().rcsb_cif_gz_dir # local PDB database \n",
    "rcsb_cif_dir    = env().rcsb_cif_dir # local PDB database \n",
    "Add_CIF         = env().Add_CIF   \n",
    "Cov_Miner       = env().Cov_Miner \n",
    "covalent_raw    = env().covalent_raw  \n",
    "covalent_csv    = env().covalent_csv # result after filtration  \n",
    "adduct_cif_dir  = env().adduct_cif_dir   \n",
    "\n",
    "import os, time, datetime, shlex, pathlib, subprocess  \n",
    "from multiprocessing import Pool\n",
    "from urllib.request import urlopen \n",
    "_ = [pathlib.Path(i).mkdir(parents=True, exist_ok=True) \n",
    "        for i in [rcsb_cif_gz_dir, rcsb_cif_dir, adduct_cif_dir]]   "
   ]
  },
  {
   "cell_type": "markdown",
   "metadata": {},
   "source": [
    "### Delete obselete pdb"
   ]
  },
  {
   "cell_type": "code",
   "execution_count": null,
   "metadata": {
    "ExecuteTime": {
     "end_time": "2020-09-10T05:59:52.211858Z",
     "start_time": "2020-09-10T05:59:48.844275Z"
    }
   },
   "outputs": [],
   "source": [
    "obsolete = 'ftp://ftp.wwpdb.org/pub/pdb/data/status/obsolete.dat'\n",
    "with urlopen(obsolete) as fr:\n",
    "    _ = fr.readline()\n",
    "    while True:\n",
    "        try:\n",
    "            line = fr.readline().decode()\n",
    "            if not line: break\n",
    "            PDBID = line.split()[2]\n",
    "            pdbid = PDBID.lower()  \n",
    "            os.remove(f'{rcsb_cif_gz_dir}/{pdbid[1:3]}/{pdbid}.cif.gz') \n",
    "            print('{} is now obselete and deleted successfully.'.format(PDBID))\n",
    "        except:\n",
    "            pass"
   ]
  },
  {
   "cell_type": "markdown",
   "metadata": {},
   "source": [
    "### Rsync "
   ]
  },
  {
   "cell_type": "code",
   "execution_count": null,
   "metadata": {
    "ExecuteTime": {
     "end_time": "2020-09-10T06:29:19.179548Z",
     "start_time": "2020-09-10T06:00:04.926569Z"
    }
   },
   "outputs": [],
   "source": [
    "!rsync -rlpt -z --delete --port=33444 rsync.rcsb.org::ftp_data/structures/divided/mmCIF/ $rcsb_cif_dir"
   ]
  },
  {
   "cell_type": "markdown",
   "metadata": {},
   "source": [
    "### Decompress"
   ]
  },
  {
   "cell_type": "code",
   "execution_count": null,
   "metadata": {
    "ExecuteTime": {
     "end_time": "2020-09-10T09:24:56.900696Z",
     "start_time": "2020-09-10T09:13:13.918900Z"
    }
   },
   "outputs": [],
   "source": [
    "def unzipper(pdb_id):\n",
    "    cif_subdir = f'{rcsb_cif_dir}/{pdb_id[1:3]}'\n",
    "    pathlib.Path(cif_subdir).mkdir(parents=True, exist_ok=True)\n",
    "    cif        = f'{rcsb_cif_dir}/{pdb_id[1:3]}/{pdb_id}.cif'\n",
    "    gz         = f'{rcsb_cif_gz_dir}/{pdb_id[1:3]}/{pdb_id}.cif.gz'\n",
    "    proc = subprocess.run(args=['gzip', '-dc', gz], stdout=subprocess.PIPE) # unzip the zipped \n",
    "    with open(cif, 'wb') as fw: fw.write(proc.stdout)   \n",
    "\n",
    "pdb_ids = []\n",
    "for subdir in os.scandir(rcsb_cif_gz_dir): \n",
    "    if subdir.is_dir():\n",
    "        for gz in os.scandir(subdir.path):\n",
    "            if gz.is_file():\n",
    "                pdb_ids.append(gz.name[:4])\n",
    "\n",
    "nCores = 20\n",
    "with Pool(nCores) as p: # unzipping in 3 cores  \n",
    "    mining_result = p.map(unzipper, pdb_ids, nCores) "
   ]
  },
  {
   "cell_type": "markdown",
   "metadata": {},
   "source": [
    "### Mining"
   ]
  },
  {
   "cell_type": "code",
   "execution_count": null,
   "metadata": {
    "ExecuteTime": {
     "end_time": "2020-09-10T09:52:32.168625Z",
     "start_time": "2020-09-10T09:28:20.983589Z"
    }
   },
   "outputs": [],
   "source": [
    "def cov_miner(fname): # miner, the c++ program \n",
    "    proc = subprocess.run(args=[Cov_Miner, fname], stdout=subprocess.PIPE, stderr=subprocess.PIPE ) \n",
    "    result = proc.stdout.decode()\n",
    "    if not result:\n",
    "        print(fname, result) \n",
    "    return result \n",
    "\n",
    "cifFiles = []\n",
    "for dirName, subdirList, fileList in os.walk(rcsb_cif_dir): \n",
    "    for fname in fileList:\n",
    "        if fname[-4:]=='.cif': \n",
    "            cifFiles.append('{}/{}'.format(dirName,fname) ) \n",
    "\n",
    "with Pool(nCores) as p: # mining in 3 cores   \n",
    "    mining_result = p.map(cov_miner, cifFiles, nCores)   \n",
    "\n",
    "mining_result = ''.join(mining_result)\n",
    "mining_result = [i for i in mining_result.split('\\n')]\n",
    "with open(covalent_raw, 'w') as f:\n",
    "    for i in mining_result:\n",
    "        print(i, file = f)"
   ]
  },
  {
   "cell_type": "code",
   "execution_count": null,
   "metadata": {
    "ExecuteTime": {
     "end_time": "2020-09-10T10:36:46.130728Z",
     "start_time": "2020-09-10T10:36:31.007694Z"
    }
   },
   "outputs": [],
   "source": [
    "import hashlib\n",
    "def md5(name_path_pair): \n",
    "    return name_path_pair[0], hashlib.md5(open(name_path_pair[1], 'rb').read()).hexdigest()\n",
    "\n",
    "collector = []\n",
    "for subdir in os.scandir(rcsb_cif_gz_dir): \n",
    "    if subdir.is_dir():\n",
    "        for gz in os.scandir(subdir.path):\n",
    "            if gz.is_file():\n",
    "                collector.append((gz.name, gz.path))\n",
    "\n",
    "nCores = 20\n",
    "md5_collector = Pool(nCores).map(md5, collector, nCores)  \n",
    "\n",
    "import json, datetime \n",
    "with open('data/RCSB_PDB_mmCIF_gzip_md5_'+datetime.datetime.now().strftime('%b_%d_%Y')+'.json','w') as fw:\n",
    "    json.dump(dict(md5_collector), fw)  "
   ]
  },
  {
   "cell_type": "code",
   "execution_count": null,
   "metadata": {},
   "outputs": [],
   "source": [
    "#import shlex, subprocess, os, pickle, pathlib, time, datetime, multiprocessing   \n",
    " "
   ]
  },
  {
   "cell_type": "markdown",
   "metadata": {},
   "source": [
    "## Filter 1 & 2: Only few nucleophile (Amino Acid) can be modified"
   ]
  },
  {
   "cell_type": "code",
   "execution_count": 2,
   "metadata": {
    "ExecuteTime": {
     "end_time": "2020-09-10T12:38:21.877375Z",
     "start_time": "2020-09-10T12:38:20.405656Z"
    }
   },
   "outputs": [
    {
     "data": {
      "text/plain": [
       "29608"
      ]
     },
     "execution_count": 2,
     "metadata": {},
     "output_type": "execute_result"
    }
   ],
   "source": [
    "with open(covalent_raw, 'r') as fr: \n",
    "    entries = [i for i in fr.read().splitlines() if i.find(',') > -1]   \n",
    "    Accepted_Nucleophile = [('ASP', 'OD1'), ('ASP', 'OD2'), ('CYS', 'SG'), ('GLU', 'OE2'), ('HIS', 'ND1'), ('HIS', 'NE2'), ('LYS', 'NZ'), ('MET', 'SD'),  ('THR', 'OG1'), ('SER', 'OG'), ('TYR', 'OH')]\n",
    "    Covalent = [] # it stores entries in which the amino acid is connected to a non-polymeric compound\n",
    "    for entry in entries:\n",
    "        entry = entry.split(',') \n",
    "        #    0 1 2   3   4   5   6 7 8 9      10 1 2   3   4   5   6 7 8 9      20    \n",
    "        # 2XAZ,A,A,LEU,LEU,729,729,?,C,?,polymer,A,A,NIY,NIY,730,730,?,N,?,polymer\n",
    "        if   (entry[4],  entry[8] ) in Accepted_Nucleophile and entry[10] == 'polymer': pass\n",
    "        elif (entry[14], entry[18]) in Accepted_Nucleophile and entry[20] == 'polymer': entry = [entry[0]] + entry[11:] + entry[1:11] # Reconstruct the list\n",
    "        else: \n",
    "            continue # skip invalid covalent modification\n",
    "        Covalent.append(entry)\n",
    "len(Covalent)"
   ]
  },
  {
   "cell_type": "markdown",
   "metadata": {},
   "source": [
    "## Filter 3:  Only (C, H, O, N, P, S, F, Cl, Br, I, B) are allowed in Adduct"
   ]
  },
  {
   "cell_type": "code",
   "execution_count": 3,
   "metadata": {
    "ExecuteTime": {
     "end_time": "2020-09-10T12:38:24.583996Z",
     "start_time": "2020-09-10T12:38:24.441427Z"
    }
   },
   "outputs": [
    {
     "data": {
      "text/plain": [
       "11559"
      ]
     },
     "execution_count": 3,
     "metadata": {},
     "output_type": "execute_result"
    }
   ],
   "source": [
    "# We know some ligands already\n",
    "\n",
    "AAs = [\"ALA\", \"ARG\", \"ASN\", \"ASP\", \"CYS\", \"GLU\", \"GLN\", \"GLY\", \"HIS\", \"ILE\",\n",
    "       \"LEU\", \"LYS\", \"MET\", \"PHE\", \"PRO\", \"SER\", \"THR\", \"TRP\", \"TYR\", \"VAL\"]\n",
    "NUCs = [\"DA\", \"DC\", \"DG\", \"DT\", \"DI\", \"A\", \"C\", \"G\", \"U\"]\n",
    "HavingInvalidElement = {'1TW':'Se', '23S':'Se', '2MO':'Mo', '2ST':'Se', '30F':'Se', \n",
    "                        '30V':'Se', '31Q':'Hg', '32S':'Se', '3UQ':'Ru', '5SE':'Se', \n",
    "                        '6BR':'V', '6KY':'Se', '6SE':'Se', '6WF':'Fe', '6Y1':'Se', \n",
    "                        '6Y3':'Se', '75B':'Se', '8CY':'Ru', 'A71':'Pt', 'A72':'Pt', \n",
    "                        'AF3':'Al', 'AG':'Ag', 'ALF':'Al', 'AMM':'Si', 'AUC':'Au', \n",
    "                        'AU':'Au', 'AVC':'V', 'BCL':'Mg', 'BEF':'Be', 'BF2':'Be', \n",
    "                        'BFD':'Be', 'BS3':'Bi', 'C4R':'Rh', 'CAC':'As', 'CAF':'As', \n",
    "                        'CAS':'As', 'CEQ':'Si', 'CLA':'Mg', 'CMH':'Hg', 'CN1':'Fe', \n",
    "                        'CNC':'Co', 'CNF':'Fe', 'CR':'Cr', 'CRL':'Si', 'CSB':'Pb', \n",
    "                        'CSK':'Se', 'CSL':'Se', 'CSR':'As', 'CSZ':'Se', 'CUO':'Cu', \n",
    "                        'CVC':'V', 'CZ2':'As', 'CZZ':'As', 'DEU':'Co', 'DOD':'D', \n",
    "                        'DOS':'Os', 'DRU':'Ru', 'EU3':'Eu', 'EU':'Eu', 'FEC':'Fe', \n",
    "                        'FEM':'Fe', 'FEO':'Fe', 'FNE':'Fe, Ni', 'FSO':'Fe', 'FSX':'Fe', \n",
    "                        'GA':'Ga', 'GMS':'Se', 'HCO':'Fe', 'HDE':'Fe', 'HEB':'Fe', \n",
    "                        'HEC':'Fe', 'HEM':'Fe', 'HES':'Zn', 'HF3':'Hf', 'HF5':'Hf', \n",
    "                        'HFM':'Fe', 'ISW':'Fe', 'IUM':'U', 'LA':'La', 'LOS':'Os',  \n",
    "                        'OEC': 'Mn, Ca', 'MOO': 'Mo', 'NXC': 'Pt', 'MSE': 'Se', \n",
    "                        'REP': 'Re', 'RMD': 'Rh', 'MH0': 'Fe', 'OWK': 'CO',\n",
    "                        'RU8':'Ru', 'RUA':'Ru', 'RU':'Ru', 'RUD':'Ru', 'RUS':'Se', \n",
    "                        'SDG':'Se', 'SE7':'Se', 'SEC':'Se', 'SE':'Se', 'SF4':'Fe', \n",
    "                        'SOC':'Se', 'SRM':'Fe', 'SVA':'V', 'SXC':'Pd', 'SYS':'Se', \n",
    "                        'T4S':'Se', 'T5S':'Se', 'TB':'Tb', 'TBY':'Sn', 'TTI':'Te', \n",
    "                        'UMS':'Se ', 'US3':'Se', 'US5':'Se', 'VG1':'V', 'VO4':'V', \n",
    "                        'PK8': 'ZN', 'LQW': 'SE', 'LR2': 'SE', 'TDJ': 'RU', 'LQN': 'SE',\n",
    "                        'WO4':'W', 'XCC':'Fe, Ni', 'XUA':'Se', 'XUG':'Se', 'YT3':'Y', \n",
    "                        'YXX':'Ru', 'ZNH':'Zn', 'ZRC':'Zr', 'F3S': 'FE', 'JY1': 'RH', \n",
    "                        'TBR': 'TA', 'CHL': 'MG', 'FUQ': 'MO', 'T9E': 'SE', 'HEA': 'FE', \n",
    "                        'IRI': 'IR', 'FES': 'FE', '8M0': 'MO', 'RIR': 'IR', 'KC1': 'MG', \n",
    "                        '9JT': 'SE', 'KC2': 'MG', 'EMC': 'HG', 'GXZ': 'W', '6ML': 'FE', \n",
    "                        'XCU':'W, Cu','XCO':'W, Co, Si', 'M6O': 'AL'}\n",
    "Ligand_Excpt = [ # Other Exceptional Ligand\n",
    "'UNL', 'UNX', 'UNK', # Unknown Ligand/Atom\n",
    "'CO3', 'SO2', 'SO3', 'SO4', 'NO3', 'PO3', 'PO4', # Anion\n",
    "'MAN',  # Alpha-D-Mannose\n",
    "'GOL',  # Pentaethylene Glycol\n",
    "'1PE',  # Glycol\n",
    "'NAP',  # NADP+\n",
    "'BR',   # Element is not ligand \n",
    "'CO2',  # Carbon Dioxide   see https://pubs.acs.org/doi/10.1021/bi960424z\n",
    "'PEG',  # Diethylene Glycol\n",
    "'PAM',  # PTM: Palmitoylation\n",
    "'DPN',  # AA: D-Phenylalanine\n",
    "'PYE',  # Tetrahydropyran \n",
    "'BEN',  # A non-covalent inhibitor to trypsin and Xa factor, is often used as a ligand in protein crystallography to prevent proteases from degrading a protein of interest\n",
    "'GDP',  # Guanosine-5'-Diphosphate\n",
    "'AMP',  # Adenosine Monophosphate\n",
    "'ADP',  # Adenosine-5'-Diphosphate\n",
    "'ATP',  # Adenosine-5'-Triphosphate\n",
    "'GTP',  # Guanosine-5'-Triphosphate\n",
    "'NAG',  # GlcNAc PTM\n",
    "'O',    # Oxygen ??? 1ADL\n",
    "'IOD',  # Iodine\n",
    "'Z',    # DNA linking\n",
    "'CL',   # Chlorine \n",
    "'AYE',  # part of UbPA\n",
    "'MLY',  # methylated LYS / PTM\n",
    "'MTN',  # MTSL is an organosulfur compound that is used as a nitroxide spin label.\n",
    "'PEB',   # PHYCOERYTHROBILIN\n",
    "'PUB',   # PHYCOUROBILIN\n",
    "'PVN',   # PHYCOVIOLOBILIN\n",
    "'VRB',   # Phycoviolobilin\n",
    "'CYC',   # PHYCOCYANOBILIN\n",
    "'COA',   # cofactor CoA\n",
    "'BLA',   # BILIVERDINE IX ALPHA\n",
    "'DBV',   # 15,16-DIHYDROBILIVERDIN\n",
    "'PCA',   # Modified Residues\n",
    "'ABA',   # Modified Residues\n",
    "'CME',   # Modified Residues \n",
    "'FAD',   # flavin adenine dinucleotide\n",
    "'PLP',   # Pyridoxal phosphate cofactors\n",
    "'PMP',   # pyridoxamine 5'-phosphate cofactors\n",
    "'BME',   # 2-Mercaptoethanol Reducing Agents. If your protein contains cysteine residues, oxidation could become a problem and cause protein aggregation. To prevent this, keep a reducing agent such as DTT, TCEP, or 2-mercaptoethanol in your buffer.\n",
    "]  \n",
    "invalid_ligands = AAs + NUCs + list(HavingInvalidElement.keys()) + Ligand_Excpt # old invalid ligands \n",
    "\n",
    "# Records containing these ligands are discarded\n",
    "\n",
    "Covalent = sorted([entry for entry in Covalent if entry[14] not in invalid_ligands])\n",
    "len(Covalent)"
   ]
  },
  {
   "cell_type": "markdown",
   "metadata": {},
   "source": [
    "### What is in adduct"
   ]
  },
  {
   "cell_type": "code",
   "execution_count": 10,
   "metadata": {
    "ExecuteTime": {
     "end_time": "2020-09-10T12:59:02.899452Z",
     "start_time": "2020-09-10T12:59:01.594239Z"
    }
   },
   "outputs": [],
   "source": [
    "vecEntry_collector = []\n",
    "collector = []\n",
    "for vecEntry in Covalent:  \n",
    "    #    0 1 2   3   4   5   6 7 8 9      10 1 2   3   4   5   6 7 8 9      20    \n",
    "    # 2XAZ,A,A,LEU,LEU,729,729,?,C,?,polymer,A,A,NIY,NIY,730,730,?,N,?,polymer\n",
    "    blockName = '_'.join([vecEntry[i] for i in [0,2,4,6,7,8,9,12,14,16,17,18,19]]) \n",
    "    adduct_cif_name = adduct_cif_dir + '/' + blockName + \"_cif\" \n",
    "    collector.append(adduct_cif_name)\n",
    "    if not os.path.isfile(adduct_cif_name):\n",
    "        vecEntry_collector.append(vecEntry) "
   ]
  },
  {
   "cell_type": "code",
   "execution_count": 11,
   "metadata": {
    "ExecuteTime": {
     "end_time": "2020-09-10T12:59:03.026730Z",
     "start_time": "2020-09-10T12:59:02.901635Z"
    }
   },
   "outputs": [],
   "source": [
    "home_dir  = os.getenv('HOME')\n",
    "def adduct_extractor(vecEntry):\n",
    "    pdb_id         = vecEntry[0].lower()\n",
    "    cov_bond_entry = ','.join(vecEntry) \n",
    "    mmcif          = f'{rcsb_cif_dir}/{pdb_id[1:3]}/{pdb_id}.cif' \n",
    "    subprocess.run(args=[Add_CIF, cov_bond_entry, mmcif, adduct_cif_dir], \n",
    "                   stdout=subprocess.PIPE, stderr=subprocess.PIPE)    \n",
    "nCores = 1\n",
    "with Pool(nCores) as p:  \n",
    "    p.map(adduct_extractor, vecEntry_collector, nCores) "
   ]
  },
  {
   "cell_type": "code",
   "execution_count": 13,
   "metadata": {
    "ExecuteTime": {
     "end_time": "2020-09-10T12:59:40.931617Z",
     "start_time": "2020-09-10T12:59:40.820399Z"
    }
   },
   "outputs": [
    {
     "data": {
      "text/plain": [
       "(set(), set())"
      ]
     },
     "execution_count": 13,
     "metadata": {},
     "output_type": "execute_result"
    }
   ],
   "source": [
    "# There are duplicate in Covalent because of _struct_conn.ptnr1_symmetry\n",
    "new_collector = set([adduct_cif.path for adduct_cif in os.scandir(adduct_cif_dir)])\n",
    "set(collector).difference(new_collector), set(new_collector).difference(collector)"
   ]
  },
  {
   "cell_type": "markdown",
   "metadata": {},
   "source": [
    "### Let's see if any pdb contains invalid elements"
   ]
  },
  {
   "cell_type": "code",
   "execution_count": 14,
   "metadata": {
    "ExecuteTime": {
     "end_time": "2020-09-10T13:03:50.757157Z",
     "start_time": "2020-09-10T12:59:55.005340Z"
    }
   },
   "outputs": [
    {
     "name": "stdout",
     "output_type": "stream",
     "text": [
      "Invalid ligands:\n",
      "{}\n"
     ]
    }
   ],
   "source": [
    "from CifFile import ReadCif \n",
    "valid_elements = set(['C', 'H', 'D', 'O', 'N', 'P', 'S', 'F', 'CL', 'BR', 'I', 'B'])\n",
    "\n",
    "collector = {}\n",
    "for adduct_cif in os.scandir(adduct_cif_dir): \n",
    "    with open(adduct_cif.path) as fr: \n",
    "        block = ReadCif(fr).first_block()\n",
    "        elements = set(block['_atom_site.type_symbol']) \n",
    "        invalid_elements = elements.difference(valid_elements)\n",
    "        if invalid_elements:  \n",
    "            invalid_elements = ', '.join(invalid_elements)  \n",
    "            collector[adduct_cif.name.split('_')[8]] = invalid_elements \n",
    "print('Invalid ligands:')\n",
    "print(collector)"
   ]
  },
  {
   "cell_type": "markdown",
   "metadata": {},
   "source": [
    "### No Invalid Elements? Save covalent record"
   ]
  },
  {
   "cell_type": "code",
   "execution_count": 8,
   "metadata": {
    "ExecuteTime": {
     "end_time": "2020-09-10T12:42:37.970491Z",
     "start_time": "2020-09-10T12:42:37.951392Z"
    }
   },
   "outputs": [
    {
     "name": "stdout",
     "output_type": "stream",
     "text": [
      "11559 ['148L', 'A', 'E', 'GLU', 'GLU', '26', '26', '?', 'OE2', '?', 'polymer', 'C', 'A', 'MUB', 'MUB', '.', '1', '?', 'C1', '?', 'branched']\n"
     ]
    }
   ],
   "source": [
    "with open(covalent_csv, 'w') as f: f.write('\\n'.join([','.join(i) for i in Covalent])) \n",
    "print(len(Covalent), Covalent[0])"
   ]
  }
 ],
 "metadata": {
  "kernelspec": {
   "display_name": "Python 3",
   "language": "python",
   "name": "python3"
  },
  "language_info": {
   "codemirror_mode": {
    "name": "ipython",
    "version": 3
   },
   "file_extension": ".py",
   "mimetype": "text/x-python",
   "name": "python",
   "nbconvert_exporter": "python",
   "pygments_lexer": "ipython3",
   "version": "3.6.5"
  }
 },
 "nbformat": 4,
 "nbformat_minor": 2
}
