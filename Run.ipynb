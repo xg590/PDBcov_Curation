{
 "cells": [
  {
   "cell_type": "code",
   "execution_count": 1,
   "id": "impressed-nightlife",
   "metadata": {
    "ExecuteTime": {
     "end_time": "2022-06-27T10:06:26.718467Z",
     "start_time": "2022-06-27T10:04:56.535923Z"
    }
   },
   "outputs": [
    {
     "data": {
      "text/html": [
       "<style>.container { width:100% !important; }</style>"
      ],
      "text/plain": [
       "<IPython.core.display.HTML object>"
      ]
     },
     "metadata": {},
     "output_type": "display_data"
    },
    {
     "name": "stdout",
     "output_type": "stream",
     "text": [
      "13565 6301\n",
      "12471 5757 3195\n",
      "11955 5503\n"
     ]
    },
    {
     "name": "stderr",
     "output_type": "stream",
     "text": [
      "RDKit ERROR: [06:06:22] Invalid InChI prefix in generating InChI Key\n",
      "RDKit ERROR: [06:06:22] Invalid InChI prefix in generating InChI Key\n",
      "RDKit ERROR: [06:06:22] Invalid InChI prefix in generating InChI Key\n",
      "RDKit ERROR: [06:06:22] Invalid InChI prefix in generating InChI Key\n",
      "RDKit ERROR: [06:06:22] Invalid InChI prefix in generating InChI Key\n",
      "RDKit ERROR: [06:06:22] Invalid InChI prefix in generating InChI Key\n",
      "RDKit ERROR: [06:06:22] Invalid InChI prefix in generating InChI Key\n",
      "RDKit ERROR: [06:06:22] Invalid InChI prefix in generating InChI Key\n",
      "RDKit ERROR: [06:06:22] Invalid InChI prefix in generating InChI Key\n",
      "RDKit ERROR: [06:06:22] Invalid InChI prefix in generating InChI Key\n",
      "RDKit ERROR: [06:06:22] Invalid InChI prefix in generating InChI Key\n",
      "RDKit ERROR: [06:06:23] Invalid InChI prefix in generating InChI Key\n",
      "RDKit ERROR: [06:06:23] Invalid InChI prefix in generating InChI Key\n",
      "RDKit ERROR: [06:06:23] Invalid InChI prefix in generating InChI Key\n",
      "RDKit ERROR: [06:06:23] Invalid InChI prefix in generating InChI Key\n",
      "RDKit ERROR: [06:06:24] Invalid InChI prefix in generating InChI Key\n",
      "RDKit ERROR: [06:06:24] Invalid InChI prefix in generating InChI Key\n",
      "RDKit ERROR: [06:06:24] Invalid InChI prefix in generating InChI Key\n",
      "RDKit ERROR: [06:06:24] Invalid InChI prefix in generating InChI Key\n",
      "RDKit ERROR: [06:06:25] Invalid InChI prefix in generating InChI Key\n",
      "RDKit ERROR: [06:06:25] Invalid InChI prefix in generating InChI Key\n",
      "RDKit ERROR: [06:06:25] Invalid InChI prefix in generating InChI Key\n",
      "RDKit ERROR: [06:06:25] Invalid InChI prefix in generating InChI Key\n",
      "RDKit ERROR: [06:06:25] Invalid InChI prefix in generating InChI Key\n",
      "RDKit ERROR: [06:06:25] Invalid InChI prefix in generating InChI Key\n",
      "RDKit ERROR: [06:06:25] Invalid InChI prefix in generating InChI Key\n"
     ]
    }
   ],
   "source": [
    "%run 1.Genesis.ipynb"
   ]
  },
  {
   "cell_type": "code",
   "execution_count": 2,
   "id": "motivated-kazakhstan",
   "metadata": {
    "ExecuteTime": {
     "end_time": "2022-06-27T10:06:45.356123Z",
     "start_time": "2022-06-27T10:06:26.719921Z"
    }
   },
   "outputs": [],
   "source": [
    "%run 2.Drugbank.ipynb"
   ]
  },
  {
   "cell_type": "code",
   "execution_count": 3,
   "id": "assisted-mambo",
   "metadata": {
    "ExecuteTime": {
     "end_time": "2022-06-27T10:08:14.237814Z",
     "start_time": "2022-06-27T10:06:45.357653Z"
    }
   },
   "outputs": [
    {
     "data": {
      "text/html": [
       "<style>.container { width:100% !important; }</style>"
      ],
      "text/plain": [
       "<IPython.core.display.HTML object>"
      ]
     },
     "metadata": {},
     "output_type": "display_data"
    }
   ],
   "source": [
    "%run 3.SIFTS.ipynb"
   ]
  },
  {
   "cell_type": "code",
   "execution_count": 4,
   "id": "measured-amber",
   "metadata": {
    "ExecuteTime": {
     "end_time": "2022-06-27T10:08:22.748347Z",
     "start_time": "2022-06-27T10:08:14.239558Z"
    }
   },
   "outputs": [],
   "source": [
    "%run 4.PostProcessing.ipynb"
   ]
  },
  {
   "cell_type": "code",
   "execution_count": 5,
   "id": "sapphire-profile",
   "metadata": {
    "ExecuteTime": {
     "end_time": "2022-06-27T10:08:55.024705Z",
     "start_time": "2022-06-27T10:08:22.749537Z"
    }
   },
   "outputs": [],
   "source": [
    "%run 5.BindingDB.ipynb"
   ]
  },
  {
   "cell_type": "code",
   "execution_count": 6,
   "id": "thousand-coral",
   "metadata": {
    "ExecuteTime": {
     "end_time": "2022-06-27T10:08:57.888471Z",
     "start_time": "2022-06-27T10:08:55.026290Z"
    }
   },
   "outputs": [
    {
     "data": {
      "text/html": [
       "<style>.container { width:100% !important; }</style>"
      ],
      "text/plain": [
       "<IPython.core.display.HTML object>"
      ]
     },
     "metadata": {},
     "output_type": "display_data"
    },
    {
     "data": {
      "image/svg+xml": [
       "<svg height=\"200\" viewBox=\"0 0 240 240\" width=\"200\"><symbol id=\"subject\"><path class=\"bond-0\" d=\"M 39.1271,49.5194 L 64.007,75.4392\" style=\"fill:none;fill-rule:evenodd;stroke:#000000;stroke-width:2.0px;stroke-linecap:butt;stroke-linejoin:miter;stroke-opacity:1\"/>\n",
       "<path class=\"bond-1\" d=\"M 64.007,75.4392 L 107.703,64.6844\" style=\"fill:none;fill-rule:evenodd;stroke:#000000;stroke-width:2.0px;stroke-linecap:butt;stroke-linejoin:miter;stroke-opacity:1\"/>\n",
       "<path class=\"bond-2\" d=\"M 107.703,64.6844 L 121.768,76.5586\" style=\"fill:none;fill-rule:evenodd;stroke:#000000;stroke-width:2.0px;stroke-linecap:butt;stroke-linejoin:miter;stroke-opacity:1\"/>\n",
       "<path class=\"bond-2\" d=\"M 121.768,76.5586 L 135.833,88.4328\" style=\"fill:none;fill-rule:evenodd;stroke:#0000FF;stroke-width:2.0px;stroke-linecap:butt;stroke-linejoin:miter;stroke-opacity:1\"/>\n",
       "<path class=\"bond-6\" d=\"M 107.703,64.6844 L 124.686,23.0121\" style=\"fill:none;fill-rule:evenodd;stroke:#000000;stroke-width:2.0px;stroke-linecap:butt;stroke-linejoin:miter;stroke-opacity:1\"/>\n",
       "<path class=\"bond-6\" d=\"M 118.585,61.8301 L 130.473,32.6595\" style=\"fill:none;fill-rule:evenodd;stroke:#000000;stroke-width:2.0px;stroke-linecap:butt;stroke-linejoin:miter;stroke-opacity:1\"/>\n",
       "<path class=\"bond-3\" d=\"M 148.343,89.8312 L 164.332,79.9068\" style=\"fill:none;fill-rule:evenodd;stroke:#0000FF;stroke-width:2.0px;stroke-linecap:butt;stroke-linejoin:miter;stroke-opacity:1\"/>\n",
       "<path class=\"bond-3\" d=\"M 164.332,79.9068 L 180.321,69.9824\" style=\"fill:none;fill-rule:evenodd;stroke:#000000;stroke-width:2.0px;stroke-linecap:butt;stroke-linejoin:miter;stroke-opacity:1\"/>\n",
       "<path class=\"bond-3\" d=\"M 148.393,79.2071 L 159.586,72.26\" style=\"fill:none;fill-rule:evenodd;stroke:#0000FF;stroke-width:2.0px;stroke-linecap:butt;stroke-linejoin:miter;stroke-opacity:1\"/>\n",
       "<path class=\"bond-3\" d=\"M 159.586,72.26 L 170.778,65.3129\" style=\"fill:none;fill-rule:evenodd;stroke:#000000;stroke-width:2.0px;stroke-linecap:butt;stroke-linejoin:miter;stroke-opacity:1\"/>\n",
       "<path class=\"bond-4\" d=\"M 180.321,69.9824 L 175.89,51.9774\" style=\"fill:none;fill-rule:evenodd;stroke:#000000;stroke-width:2.0px;stroke-linecap:butt;stroke-linejoin:miter;stroke-opacity:1\"/>\n",
       "<path class=\"bond-4\" d=\"M 175.89,51.9774 L 171.458,33.9724\" style=\"fill:none;fill-rule:evenodd;stroke:#0000FF;stroke-width:2.0px;stroke-linecap:butt;stroke-linejoin:miter;stroke-opacity:1\"/>\n",
       "<path class=\"bond-5\" d=\"M 163.312,25.8301 L 143.999,24.4211\" style=\"fill:none;fill-rule:evenodd;stroke:#0000FF;stroke-width:2.0px;stroke-linecap:butt;stroke-linejoin:miter;stroke-opacity:1\"/>\n",
       "<path class=\"bond-5\" d=\"M 143.999,24.4211 L 124.686,23.0121\" style=\"fill:none;fill-rule:evenodd;stroke:#000000;stroke-width:2.0px;stroke-linecap:butt;stroke-linejoin:miter;stroke-opacity:1\"/>\n",
       "<path class=\"atom-0\" d=\"M 21.6581 43.6678 L 14.9081 43.6678 L 14.9081 49.6438 L 13.2341 49.6438 L 13.2341 36.5218 L 14.9081 36.5218 L 14.9081 42.1918 L 21.6581 42.1918 L 21.6581 36.5218 L 23.3321 36.5218 L 23.3321 49.6438 L 21.6581 49.6438 L 21.6581 43.6678 \" fill=\"#000000\"/>\n",
       "<path class=\"atom-0\" d=\"M 26.8241 36.5218 L 26.8241 49.6438 L 25.1321 49.6438 L 25.1321 36.5218 L 26.8241 36.5218 \" fill=\"#000000\"/>\n",
       "<path class=\"atom-0\" d=\"M 32.9801 48.5818 Q 33.9881 48.5818, 34.6901 48.3478 Q 35.3921 48.1138, 35.7161 47.7358 Q 36.0581 47.3578, 36.1841 46.9978 Q 36.3281 46.6198, 36.3281 46.2058 Q 36.3281 44.7118, 33.9161 44.0818 L 30.6581 43.2178 Q 28.0841 42.5518, 28.0841 40.1578 Q 28.0841 38.3758, 29.3261 37.3498 Q 30.5861 36.3058, 32.7461 36.3058 Q 35.0141 36.3058, 36.2741 37.3858 Q 37.5341 38.4478, 37.5521 40.3738 L 35.9681 40.3738 Q 35.9501 39.0958, 35.1041 38.4118 Q 34.2581 37.7098, 32.6921 37.7098 Q 31.3601 37.7098, 30.5501 38.3218 Q 29.7581 38.9338, 29.7581 39.9238 Q 29.7581 40.6798, 30.2441 41.1118 Q 30.7301 41.5438, 31.9181 41.8678 L 35.2121 42.7498 Q 36.5441 43.1098, 37.2641 43.9738 Q 38.0021 44.8378, 38.0021 46.0438 Q 38.0021 46.5658, 37.8581 47.0878 Q 37.7321 47.5918, 37.3721 48.1498 Q 37.0121 48.6898, 36.4541 49.1038 Q 35.8961 49.5178, 34.9601 49.7878 Q 34.0421 50.0578, 32.8721 50.0578 Q 32.1341 50.0578, 31.4501 49.9318 Q 30.7841 49.8238, 30.0821 49.5178 Q 29.3801 49.1938, 28.8761 48.7078 Q 28.3721 48.2038, 28.0301 47.3758 Q 27.7061 46.5478, 27.6881 45.4678 L 29.2721 45.4678 L 29.2721 45.5578 Q 29.2721 46.1158, 29.4341 46.6018 Q 29.6141 47.0878, 29.9921 47.5558 Q 30.3881 48.0238, 31.1441 48.3118 Q 31.9181 48.5818, 32.9801 48.5818 \" fill=\"#000000\"/>\n",
       "<path class=\"atom-3\" d=\"M 147.218 87.1526 L 147.218 100.275 L 145.328 100.275 L 138.542 89.6366 L 138.542 100.275 L 136.958 100.275 L 136.958 87.1526 L 138.776 87.1526 L 145.634 97.8806 L 145.634 87.1526 L 147.218 87.1526 \" fill=\"#0000FF\"/>\n",
       "<path class=\"atom-5\" d=\"M 174.697 19.7254 L 174.697 32.8474 L 172.807 32.8474 L 166.021 22.2094 L 166.021 32.8474 L 164.437 32.8474 L 164.437 19.7254 L 166.255 19.7254 L 173.113 30.4534 L 173.113 19.7254 L 174.697 19.7254 \" fill=\"#0000FF\"/>\n",
       "<path class=\"atom-5\" d=\"M 184.615 26.8714 L 177.865 26.8714 L 177.865 32.8474 L 176.191 32.8474 L 176.191 19.7254 L 177.865 19.7254 L 177.865 25.3954 L 184.615 25.3954 L 184.615 19.7254 L 186.289 19.7254 L 186.289 32.8474 L 184.615 32.8474 L 184.615 26.8714 \" fill=\"#0000FF\"/>\n",
       "</symbol><symbol id=\"stage\"><circle cx=\"120\" cy=\"120\" fill=\"white\" r=\"116\" stroke=\"rgb(0, 0, 0)\" stroke-width=\"2\"/></symbol><use href=\"#stage\" x=\"0\" y=\"0\"/><use href=\"#subject\" x=\"20\" y=\"60\"/></svg>"
      ],
      "text/plain": [
       "<IPython.core.display.SVG object>"
      ]
     },
     "metadata": {},
     "output_type": "display_data"
    },
    {
     "data": {
      "image/svg+xml": [
       "<svg height=\"200\" viewBox=\"0 0 240 240\" width=\"200\"><symbol id=\"subject\"><path class=\"bond-0\" d=\"M 41.3059,52.2636 L 54.3628,68.7885\" style=\"fill:none;fill-rule:evenodd;stroke:#000000;stroke-width:2.0px;stroke-linecap:butt;stroke-linejoin:miter;stroke-opacity:1\"/>\n",
       "<path class=\"bond-1\" d=\"M 54.3628,68.7885 L 84.4344,64.3943\" style=\"fill:none;fill-rule:evenodd;stroke:#000000;stroke-width:2.0px;stroke-linecap:butt;stroke-linejoin:miter;stroke-opacity:1\"/>\n",
       "<path class=\"bond-2\" d=\"M 84.4344,64.3943 L 95.6646,36.1544\" style=\"fill:none;fill-rule:evenodd;stroke:#000000;stroke-width:2.0px;stroke-linecap:butt;stroke-linejoin:miter;stroke-opacity:1\"/>\n",
       "<path class=\"bond-2\" d=\"M 91.7669,62.4043 L 99.6281,42.6364\" style=\"fill:none;fill-rule:evenodd;stroke:#000000;stroke-width:2.0px;stroke-linecap:butt;stroke-linejoin:miter;stroke-opacity:1\"/>\n",
       "<path class=\"bond-8\" d=\"M 84.4344,64.3943 L 103.276,88.2399\" style=\"fill:none;fill-rule:evenodd;stroke:#000000;stroke-width:2.0px;stroke-linecap:butt;stroke-linejoin:miter;stroke-opacity:1\"/>\n",
       "<path class=\"bond-3\" d=\"M 95.6646,36.1544 L 125.736,31.7601\" style=\"fill:none;fill-rule:evenodd;stroke:#000000;stroke-width:2.0px;stroke-linecap:butt;stroke-linejoin:miter;stroke-opacity:1\"/>\n",
       "<path class=\"bond-4\" d=\"M 125.736,31.7601 L 144.578,55.6057\" style=\"fill:none;fill-rule:evenodd;stroke:#000000;stroke-width:2.0px;stroke-linecap:butt;stroke-linejoin:miter;stroke-opacity:1\"/>\n",
       "<path class=\"bond-4\" d=\"M 123.793,39.1052 L 136.982,55.7972\" style=\"fill:none;fill-rule:evenodd;stroke:#000000;stroke-width:2.0px;stroke-linecap:butt;stroke-linejoin:miter;stroke-opacity:1\"/>\n",
       "<path class=\"bond-5\" d=\"M 144.578,55.6057 L 133.347,83.8456\" style=\"fill:none;fill-rule:evenodd;stroke:#000000;stroke-width:2.0px;stroke-linecap:butt;stroke-linejoin:miter;stroke-opacity:1\"/>\n",
       "<path class=\"bond-7\" d=\"M 144.578,55.6057 L 156.065,53.9271\" style=\"fill:none;fill-rule:evenodd;stroke:#000000;stroke-width:2.0px;stroke-linecap:butt;stroke-linejoin:miter;stroke-opacity:1\"/>\n",
       "<path class=\"bond-7\" d=\"M 156.065,53.9271 L 167.553,52.2484\" style=\"fill:none;fill-rule:evenodd;stroke:#FF0000;stroke-width:2.0px;stroke-linecap:butt;stroke-linejoin:miter;stroke-opacity:1\"/>\n",
       "<path class=\"bond-6\" d=\"M 133.347,83.8456 L 103.276,88.2399\" style=\"fill:none;fill-rule:evenodd;stroke:#000000;stroke-width:2.0px;stroke-linecap:butt;stroke-linejoin:miter;stroke-opacity:1\"/>\n",
       "<path class=\"bond-6\" d=\"M 127.958,78.4905 L 106.908,81.5664\" style=\"fill:none;fill-rule:evenodd;stroke:#000000;stroke-width:2.0px;stroke-linecap:butt;stroke-linejoin:miter;stroke-opacity:1\"/>\n",
       "<path class=\"atom-0\" d=\"M 12.3734 39.8579 L 12.3734 51.5039 L 10.6994 51.5039 L 10.6994 39.8579 L 6.37944 39.8579 L 6.37944 38.3819 L 16.6754 38.3819 L 16.6754 39.8579 L 12.3734 39.8579 \" fill=\"#000000\"/>\n",
       "<path class=\"atom-0\" d=\"M 23.6414 46.3559 L 23.6414 51.5039 L 21.9674 51.5039 L 21.9674 46.3559 L 16.9094 38.3819 L 18.9794 38.3819 L 22.8314 44.7719 L 26.5754 38.3819 L 28.5734 38.3819 L 23.6414 46.3559 \" fill=\"#000000\"/>\n",
       "<path class=\"atom-0\" d=\"M 38.2214 45.0239 Q 39.1214 45.4199, 39.5354 46.0679 Q 39.9674 46.6979, 40.0034 47.3999 Q 40.0394 48.1019, 40.0034 48.7859 Q 39.9674 49.4699, 40.1294 50.1179 Q 40.2914 50.7479, 40.7954 51.0899 L 40.7954 51.5039 L 38.7614 51.5039 Q 38.4014 50.6759, 38.4014 49.3619 L 38.4014 48.1919 Q 38.4014 46.9859, 37.8794 46.4279 Q 37.3574 45.8519, 36.2414 45.8519 L 31.9214 45.8519 L 31.9214 51.5039 L 30.2474 51.5039 L 30.2474 38.3819 L 36.2954 38.3819 Q 38.2214 38.3819, 39.2474 39.2999 Q 40.2914 40.1999, 40.2914 41.8919 Q 40.2914 43.0079, 39.8054 43.7459 Q 39.3194 44.4839, 38.2214 45.0239 M 38.5454 42.1259 Q 38.5454 40.8299, 37.8614 40.3439 Q 37.1774 39.8579, 35.9714 39.8579 L 31.9214 39.8579 L 31.9214 44.3759 L 35.9714 44.3759 Q 37.3034 44.3759, 37.9154 43.8359 Q 38.5454 43.2959, 38.5454 42.1259 \" fill=\"#000000\"/>\n",
       "<path class=\"atom-8\" d=\"M 180.985 51.5265 Q 180.985 54.4425, 179.257 56.3685 Q 177.529 58.2945, 174.649 58.2945 Q 171.805 58.2945, 170.059 56.4045 Q 168.313 54.4965, 168.313 51.4185 Q 168.313 48.3405, 170.059 46.4505 Q 171.805 44.5425, 174.631 44.5425 Q 177.511 44.5425, 179.239 46.4505 Q 180.985 48.3585, 180.985 51.5265 M 174.631 46.0185 Q 172.543 46.0185, 171.265 47.5125 Q 169.987 48.9885, 169.987 51.4185 Q 169.987 53.8485, 171.265 55.3425 Q 172.561 56.8185, 174.649 56.8185 Q 176.737 56.8185, 178.015 55.3425 Q 179.311 53.8665, 179.311 51.4905 Q 179.311 49.0065, 178.033 47.5125 Q 176.755 46.0185, 174.631 46.0185 \" fill=\"#FF0000\"/>\n",
       "<path class=\"atom-8\" d=\"M 190.903 51.9045 L 184.153 51.9045 L 184.153 57.8805 L 182.479 57.8805 L 182.479 44.7585 L 184.153 44.7585 L 184.153 50.4285 L 190.903 50.4285 L 190.903 44.7585 L 192.577 44.7585 L 192.577 57.8805 L 190.903 57.8805 L 190.903 51.9045 \" fill=\"#FF0000\"/>\n",
       "</symbol><symbol id=\"stage\"><circle cx=\"120\" cy=\"120\" fill=\"white\" r=\"116\" stroke=\"rgb(0, 0, 0)\" stroke-width=\"2\"/></symbol><use href=\"#stage\" x=\"0\" y=\"0\"/><use href=\"#subject\" x=\"20\" y=\"60\"/></svg>"
      ],
      "text/plain": [
       "<IPython.core.display.SVG object>"
      ]
     },
     "metadata": {},
     "output_type": "display_data"
    }
   ],
   "source": [
    "%run 6.DrawReactionInSVG.ipynb"
   ]
  },
  {
   "cell_type": "code",
   "execution_count": 7,
   "id": "accessible-confusion",
   "metadata": {
    "ExecuteTime": {
     "end_time": "2022-06-27T10:10:21.040090Z",
     "start_time": "2022-06-27T10:08:57.890042Z"
    }
   },
   "outputs": [
    {
     "data": {
      "text/html": [
       "<style>.container { width:100% !important; }</style>"
      ],
      "text/plain": [
       "<IPython.core.display.HTML object>"
      ]
     },
     "metadata": {},
     "output_type": "display_data"
    },
    {
     "name": "stdout",
     "output_type": "stream",
     "text": [
      "7392\n"
     ]
    },
    {
     "name": "stderr",
     "output_type": "stream",
     "text": [
      "RDKit WARNING: [06:09:46] WARNING: bond found with stereo spec but no stereo atoms\n",
      "RDKit WARNING: [06:09:46] WARNING: bond found with stereo spec but no stereo atoms\n",
      "RDKit WARNING: [06:09:46] WARNING: bond found with stereo spec but no stereo atoms\n",
      "RDKit WARNING: [06:09:46] WARNING: bond found with stereo spec but no stereo atoms\n",
      "RDKit WARNING: [06:09:46] WARNING: bond found with stereo spec but no stereo atoms\n",
      "RDKit WARNING: [06:09:46] WARNING: bond found with stereo spec but no stereo atoms\n"
     ]
    },
    {
     "name": "stdout",
     "output_type": "stream",
     "text": [
      "None\n"
     ]
    }
   ],
   "source": [
    "%run 7.ForWeb.ipynb "
   ]
  },
  {
   "cell_type": "raw",
   "id": "dominican-victim",
   "metadata": {},
   "source": [
    "scp greene:/scratch/xg590/scratch/PDBcov/FlaskPy/df_web.pkl /data/PDBcov/FlaskPy/df_web.pkl"
   ]
  },
  {
   "cell_type": "raw",
   "id": "decimal-locking",
   "metadata": {},
   "source": [
    "rsync -rzv --delete-before                        \\\n",
    "           --exclude 'VueJs/node_modules'         \\\n",
    "           --exclude '.git'                       \\\n",
    "           --exclude 'FlaskPy/.ipynb_checkpoints' \\\n",
    "           /data/PDBcov/ yzhang:/data/PDBcov/"
   ]
  }
 ],
 "metadata": {
  "kernelspec": {
   "display_name": "Python 3",
   "language": "python",
   "name": "python3"
  },
  "language_info": {
   "codemirror_mode": {
    "name": "ipython",
    "version": 3
   },
   "file_extension": ".py",
   "mimetype": "text/x-python",
   "name": "python",
   "nbconvert_exporter": "python",
   "pygments_lexer": "ipython3",
   "version": "3.7.10"
  }
 },
 "nbformat": 4,
 "nbformat_minor": 5
}
