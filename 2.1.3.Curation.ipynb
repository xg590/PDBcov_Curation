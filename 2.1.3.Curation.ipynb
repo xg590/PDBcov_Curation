{
 "cells": [
  {
   "cell_type": "markdown",
   "metadata": {},
   "source": [
    "# Varibles and Modules  "
   ]
  },
  {
   "cell_type": "code",
   "execution_count": 1,
   "metadata": {
    "ExecuteTime": {
     "end_time": "2020-10-22T05:43:08.399565Z",
     "start_time": "2020-10-22T05:43:07.969713Z"
    }
   },
   "outputs": [
    {
     "name": "stderr",
     "output_type": "stream",
     "text": [
      "RDKit WARNING: [01:43:08] Enabling RDKit 2019.09.3 jupyter extensions\n"
     ]
    }
   ],
   "source": [
    "import time, shlex, subprocess, os, pickle, pathlib, csv, datetime  # datetime.datetime.fromtimestamp(1566330422.9590576)\n",
    "from multiprocessing import Pool\n",
    "from urllib.request import urlopen \n",
    "import urllib.error \n",
    "  \n",
    "from data.pub import env  \n",
    "Get_DOI           = env().Get_DOI\n",
    "doi_pkl           = env().doi_pkl\n",
    "rcsb_cif_dir      = env().rcsb_cif_dir\n",
    "adduct_cif_dir    = env().adduct_cif_dir\n",
    "rcsb_webpage_pkl  = env().rcsb_webpage_pkl \n",
    "enw_from_rcsb_pkl = env().enw_from_rcsb_pkl "
   ]
  },
  {
   "cell_type": "markdown",
   "metadata": {},
   "source": [
    "# Get DOI so we can manually curate the ligand"
   ]
  },
  {
   "cell_type": "markdown",
   "metadata": {},
   "source": [
    "### Let's get DOI from CIF first (we have 5189 CIF in total)"
   ]
  },
  {
   "cell_type": "code",
   "execution_count": 2,
   "metadata": {
    "ExecuteTime": {
     "end_time": "2020-10-22T05:43:08.561211Z",
     "start_time": "2020-10-22T05:43:08.401822Z"
    },
    "code_folding": []
   },
   "outputs": [
    {
     "data": {
      "text/plain": [
       "'3BHL|Structural Studies of Early Events in Catalysis by Thymidylate Synthase|||'"
      ]
     },
     "execution_count": 2,
     "metadata": {},
     "output_type": "execute_result"
    }
   ],
   "source": [
    "if os.path.isfile(doi_pkl) and os.stat(doi_pkl).st_size != 0:\n",
    "    with open(doi_pkl, 'rb') as fr: DOI_collector = pickle.load(fr)\n",
    "else: DOI_collector = {} \n",
    "pdb_ids = set([name[:4].lower() for name in os.listdir(adduct_cif_dir) if name[:4] not in DOI_collector])\n",
    "   \n",
    "def getDoiFromCIF(pdbid):\n",
    "    mmcif = f'{rcsb_cif_dir}/{pdbid[1:3]}/{pdbid}.cif'\n",
    "    proc  = subprocess.run(args=[Get_DOI, mmcif], stdout=subprocess.PIPE, stderr=subprocess.PIPE) # Get CIF  \n",
    "    return proc.stdout.decode()\n",
    "getDoiFromCIF(list(pdb_ids)[0])"
   ]
  },
  {
   "cell_type": "code",
   "execution_count": 3,
   "metadata": {
    "ExecuteTime": {
     "end_time": "2020-10-22T05:43:34.555074Z",
     "start_time": "2020-10-22T05:43:08.563267Z"
    },
    "code_folding": []
   },
   "outputs": [],
   "source": [
    "nCores = 2 \n",
    "with Pool(nCores) as p: # mining in 3 cores   \n",
    "    mining_result = p.map(getDoiFromCIF, pdb_ids, nCores) \n",
    "\n",
    "DOI_collector.update(dict([(i[0], i[4]) for i in [entry.split('|') for entry in mining_result] if i[4][:3]=='10.']))\n",
    "DOI_collector.update({'6QQI': '10.1107/S205225251900616X', # problem in CIF, manually checked\n",
    "            '6QQK': '10.1107/S205225251900616X', \n",
    "            '6QSA': '10.1107/S205225251900616X',\n",
    "            '1GRQ': '10.1002/pro.101508',\n",
    "            '1B54': '10.1107/s0907444902018012',\n",
    "            '1FCD': '10.1126/science.7939681',\n",
    "            '1BMQ': '10.1248/cpb.47.11',\n",
    "            '1DKA': '10.1126/science.8342040',\n",
    "            '1PYG': '10.1126/science.1962195',\n",
    "            '1BTC': '10.1021/bi00078a006',\n",
    "            '1YGP': '10.1126/science.273.5281.1539',\n",
    "            '4EF9': '10.2174/1381612811319140011',\n",
    "            '1IDC': '10.1126/science.7761851',\n",
    "            '4EF8': '10.2174/1381612811319140011',\n",
    "            '2DKB': '10.1126/science.8342040',\n",
    "            '1CGH': '10.1002/j.1460-2075.1996.tb00933.x',\n",
    "            '1AUT': '10.1002/j.1460-2075.1996.tb01073.x',\n",
    "            '1TEM': '10.1021/ja9609718',\n",
    "            '1LPS': '10.1021/ja00087a002',\n",
    "            '1ZOV': '10.2183/pjab.81.220',\n",
    "            '5SWH': '10.1016/j.molcel.2019.02.003',\n",
    "            '5TEH': '10.1016/j.molcel.2019.02.003',\n",
    "            '1PPD': '10.1107/S010876738409930X',\n",
    "            '5NHN': '10.1038/s42004-019-0185-5',\n",
    "            '3F8A': '10.1002/cplu.201100082',\n",
    "            '1AXR': '10.1002/hlca.19980810507',\n",
    "            '2YPN': '10.1107/S0909049599006342',\n",
    "            '1LPM': '10.1021/ja00087a002',\n",
    "            '1TPP': '10.1107/S010876818300275X',\n",
    "            '5B13': '10.1111/jfbc.12301',\n",
    "            '6NXD': '10.1038/s41598-019-46432-0',\n",
    "            '1BT5': '10.1021/ja9818001',\n",
    "            '1GPB': '10.1142/1319',\n",
    "            '1CV8': '10.1107/s0108767378097081',\n",
    "            '1AU0': '10.1021/ja972204u',\n",
    "            '1Z62': '10.2174/1570180054405839',\n",
    "            '2ZP0': '10.2174/1570180053765200',\n",
    "            '6NXC': '10.1038/s41598-019-46432-0',\n",
    "            '4EST': '10.1021/ja00191a039', \n",
    "            '1CPI': '10.1021/ja00146a007', \n",
    "            '1AMN': '10.1021/ja952232h', \n",
    "            '1SRE': '10.1021/ja00086a004',\n",
    "            '1AU2': '10.1021/ja972204u',\n",
    "            '1QGL': '10.1021/ja991729e',\n",
    "            '1DUI': '10.1016/S0022-0248(00)00250-5',\n",
    "            '1SUE': '10.1016/S0022-0248(98)00536-3',\n",
    "            '1TYN': '10.1021/ja00079a065',\n",
    "            '5SYS': '10.1016/j.molcel.2019.02.003',\n",
    "            '1SRH': '10.1021/ja00086a004',\n",
    "            '1PPB': '10.1002/j.1460-2075.1989.tb08511.x',\n",
    "            '1BGO': '10.1021/ja981171v',\n",
    "            '1JIM': '10.1021/ja00299a063',\n",
    "            '1L26': '10.1126/science.3277275',\n",
    "            '1SRI': '10.1021/ja00086a004',\n",
    "            '1QFI': '10.1515/znb-1999-0518',\n",
    "            '148L': '10.1126/science.8266098',\n",
    "            '1BAV': '10.1021/ja963234k',\n",
    "            '1XY2': '10.1126/science.3008332',\n",
    "            '1XY1': '10.1126/science.3008332',\n",
    "            '1BUL': '10.1021/ja9817996',\n",
    "            '1PPP': '10.1042/bj2870797', \n",
    "            '1GW1': '10.1002/1521-3773(20020802)41:15<2824::AID-ANIE2824>3.0.CO;2-G',\n",
    "            '207L': '10.1093/oxfordjournals.jbchem.a021445',\n",
    "            '1QDQ': '10.1093/oxfordjournals.jbchem.a022651',\n",
    "            '1PE6': 'https://www.jbc.org/content/266/22/14771',\n",
    "            '1ETB': 'https://www.jbc.org/content/268/4/2416',\n",
    "            '6CHA': 'https://www.jbc.org/content/262/16/7737',\n",
    "            '9RUB': 'https://www.jbc.org/content/266/19/12604',\n",
    "            '7ADH': 'https://www.jbc.org/content/258/9/5537',\n",
    "            '1ETA': 'https://www.jbc.org/content/268/4/2416',\n",
    "            '1DWE': 'https://www.jbc.org/content/266/30/20085',\n",
    "            '6HP8': 'https://ediss.sub.uni-hamburg.de/volltexte/2019/9702/',\n",
    "            '1G2W': 'https://link.springer.com/chapter/10.1007/978-3-0348-8397-9_56',\n",
    "            '4POK': 'https://www.semanticscholar.org/paper/BNP7787-Forms-Novel-Covalent-Adducts-on-Human-and-Parker-Nienaber/3951c4e5582c7c043d4370a3cc49a263aa00f48f',\n",
    "            '4POL': 'https://www.semanticscholar.org/paper/BNP7787-Forms-Novel-Covalent-Adducts-on-Human-and-Parker-Nienaber/3951c4e5582c7c043d4370a3cc49a263aa00f48f',\n",
    "            '4POM': 'https://www.semanticscholar.org/paper/BNP7787-Forms-Novel-Covalent-Adducts-on-Human-and-Parker-Nienaber/3951c4e5582c7c043d4370a3cc49a263aa00f48f',\n",
    "            '3PRK': 'https://www.jbc.org/content/266/26/17695.full.pdf',   \n",
    "            '1ARC': 'https://www.jbc.org/content/264/7/3832.full.pdf',\n",
    "            '1ETN': 'https://www.jbc.org/content/266/9/5934.full.pdf',\n",
    "            '5KMC': 'https://conservancy.umn.edu/handle/11299/182796', \n",
    "            '6TD0': '10.1039/C9MD00557A',\n",
    "            '6TD1': '10.1039/C9MD00557A',\n",
    "            '5NI3': '10.1038/s42004-019-0185-5',\n",
    "            '6VBD': '10.1074/jbc.RA120.012617', \n",
    "            '6KD5': '10.1101/2020.06.12.149229',      \n",
    "            '6W8W': '10.1038/s41467-020-17531-8',         \n",
    "            '6U0J': '10.1101/2020.05.15.098798',      \n",
    "            '6WP8': '10.1074/jbc.RA120.014118',       \n",
    "            '6XL3': '10.1074/jbc.RA120.014118',  \n",
    "            '6YPT': '10.1074/jbc.RA120.014628',\n",
    "            '7JVF': '10.1039/D0SC01651A',\n",
    "            \n",
    "           })\n",
    "\n",
    "with open(doi_pkl, 'wb') as fw: pickle.dump(DOI_collector, fw) "
   ]
  },
  {
   "cell_type": "code",
   "execution_count": 4,
   "metadata": {
    "ExecuteTime": {
     "end_time": "2020-10-22T05:43:34.637913Z",
     "start_time": "2020-10-22T05:43:34.556996Z"
    }
   },
   "outputs": [],
   "source": [
    "noDoiFromCIF = set([name[:4] for name in os.listdir(adduct_cif_dir) if name[:4] not in DOI_collector]) "
   ]
  },
  {
   "cell_type": "markdown",
   "metadata": {},
   "source": [
    "##### OK, all CIFs belong to one group. We got 4503 DOIs and noDoiFromCIF stores the 682 PDBids which might not have DOI"
   ]
  },
  {
   "cell_type": "markdown",
   "metadata": {},
   "source": [
    "#### Get citation file from RCSB"
   ]
  },
  {
   "cell_type": "code",
   "execution_count": 5,
   "metadata": {
    "ExecuteTime": {
     "end_time": "2020-10-22T05:43:34.652038Z",
     "start_time": "2020-10-22T05:43:34.639425Z"
    }
   },
   "outputs": [],
   "source": [
    "if os.path.isfile(enw_from_rcsb_pkl) and os.stat(enw_from_rcsb_pkl).st_size != 0: \n",
    "    with open(enw_from_rcsb_pkl, 'rb') as fr:  \n",
    "        enw = pickle.load(fr)\n",
    "else:  \n",
    "    enw = {} \n",
    "rcsbEndNote = lambda pdbid: urlopen('https://www.rcsb.org/pdb/explore/medlineExplore.do?structureId='+ pdbid).read().decode()\n",
    "for pdbid in noDoiFromCIF:\n",
    "    if pdbid in enw: continue\n",
    "    time.sleep(0.3)\n",
    "    try:\n",
    "        enw.update({pdbid: rcsbEndNote(pdbid)}) \n",
    "    except HTTPError as e:\n",
    "        print(pdbid, e)\n",
    "with open(enw_from_rcsb_pkl, 'wb') as fw: pickle.dump(enw, fw) "
   ]
  },
  {
   "cell_type": "markdown",
   "metadata": {},
   "source": [
    "##### From 682 pdbid in noDoiFromCIF we got 682 new_citations. Each new_citation is actually a enw file"
   ]
  },
  {
   "cell_type": "code",
   "execution_count": 6,
   "metadata": {
    "ExecuteTime": {
     "end_time": "2020-10-22T05:43:34.681972Z",
     "start_time": "2020-10-22T05:43:34.653574Z"
    }
   },
   "outputs": [],
   "source": [
    "noDoiFromENW = [] \n",
    "\n",
    "for pdb in noDoiFromCIF:  \n",
    "    cit = enw[pdb] \n",
    "    parsed_cit = []\n",
    "    for line in cit.split('\\n'):\n",
    "        if not line: continue\n",
    "        if line[:6] == '      ':\n",
    "            parsed_cit.append([line.strip()])\n",
    "        else:\n",
    "            line = [item.strip() for item in [line[:4], line[5:]]]\n",
    "            line.insert(1, '$')  \n",
    "            line.insert(0, '\\n')\n",
    "            parsed_cit.append(line)\n",
    "            \n",
    "    parsed_cit = ''.join([ele for line in parsed_cit for ele in line])\n",
    "    parsed_cit = dict([[ele for ele in line.split('$')] for line in parsed_cit.split('\\n') if line]) \n",
    "\n",
    "    if 'LID' in parsed_cit and parsed_cit['LID'].find('[doi]') > -1:\n",
    "        LID = parsed_cit['LID'].replace('[doi]', '').strip()\n",
    "        if LID[:8] != '10.2210/':\n",
    "            DOI_collector.update({pdb: LID})\n",
    "            continue\n",
    "    if 'AID' in parsed_cit and parsed_cit['AID'].find('[doi]') > -1:\n",
    "        AID = parsed_cit['AID'].replace('[doi]', '').strip()\n",
    "        if AID[:8] != '10.2210/':\n",
    "            DOI_collector.update({pdb: AID}) \n",
    "            continue \n",
    "    noDoiFromENW.append(pdb) \n",
    "\n",
    "with open(doi_pkl, 'wb') as fw: pickle.dump(DOI_collector, fw)   "
   ]
  },
  {
   "cell_type": "markdown",
   "metadata": {},
   "source": [
    "##### Now there are still 468 pdbids which cannot be found DOI at this time. Let's check RCSB website directly if it is marked as to_be_published"
   ]
  },
  {
   "cell_type": "code",
   "execution_count": 7,
   "metadata": {
    "ExecuteTime": {
     "end_time": "2020-10-22T05:43:35.090977Z",
     "start_time": "2020-10-22T05:43:34.685582Z"
    }
   },
   "outputs": [],
   "source": [
    "import bs4, re, time\n",
    "\n",
    "if os.path.isfile(rcsb_webpage_pkl) and os.stat(rcsb_webpage_pkl).st_size != 0:\n",
    "    with open(rcsb_webpage_pkl, 'rb') as fr: \n",
    "        webpages = pickle.load(fr)\n",
    "else:   webpages = {} \n",
    "getWebpage = lambda pdbid: urlopen('https://www.rcsb.org/structure/'+ pdbid).read().decode()\n",
    "\n",
    "for pdbid in noDoiFromENW :\n",
    "    if pdbid in webpages: continue\n",
    "    time.sleep(0.3)\n",
    "    webpages[pdbid] = getWebpage(pdbid)\n",
    "\n",
    "import pickle\n",
    "with open(rcsb_webpage_pkl, 'wb') as fw: pickle.dump(webpages, fw) "
   ]
  },
  {
   "cell_type": "code",
   "execution_count": 8,
   "metadata": {
    "ExecuteTime": {
     "end_time": "2020-10-22T05:43:59.746075Z",
     "start_time": "2020-10-22T05:43:35.095967Z"
    }
   },
   "outputs": [
    {
     "name": "stdout",
     "output_type": "stream",
     "text": [
      "pls curate this manually '6QVM':'', pubmedDOI http://www.rcsb.org/structure/6QVM\n",
      "pls curate this manually '1EWP':'', pubmedDOI http://www.rcsb.org/structure/1EWP\n",
      "pls curate this manually '6P69':'', pubmedDOI http://www.rcsb.org/structure/6P69\n",
      "pls curate this manually '1UAZ':'', pubmedDOI http://www.rcsb.org/structure/1UAZ\n"
     ]
    }
   ],
   "source": [
    "class myException(Exception):\n",
    "    def __init__(self, msg=None):\n",
    "        Exception.__init__(self, msg) \n",
    "invalid_DOI = {}\n",
    "for pdbid in noDoiFromENW:  \n",
    "    citation = webpages[pdbid]\n",
    "    try: \n",
    "        soup = bs4.BeautifulSoup(citation, 'lxml')\n",
    "        primarycitation = soup.find_all(id=\"primarycitation\")\n",
    "        if len(primarycitation) != 1: \n",
    "            raise myException('primarycitation')\n",
    "        if primarycitation[0].text[-16:] == 'To be published.':  \n",
    "            invalid_DOI.update({pdbid:'To be published.'})\n",
    "            continue  \n",
    "        primarycitation = primarycitation[0].find_all(id=\"pubmedDOI\") \n",
    "        if len(primarycitation) != 1:  \n",
    "            raise myException('pubmedDOI') \n",
    "        DOI = primarycitation[0].text[9:]   \n",
    "        if DOI_collector[:8] == '10.2210/': \n",
    "            raise myException('10.2210')  \n",
    "        DOI_collector.update({pdbid:DOI})\n",
    "    except Exception as e:\n",
    "        print(f\"pls curate this manually '{pdbid}':'',\", e, f'http://www.rcsb.org/structure/{pdbid}')\n",
    "        invalid_DOI.update({pdbid:'Inaccessable work.'})\n",
    "\n",
    "with open(doi_pkl, 'wb') as fw: pickle.dump(DOI_collector, fw)\n",
    "DOI_collector.update(invalid_DOI)"
   ]
  },
  {
   "cell_type": "markdown",
   "metadata": {},
   "source": [
    "### all 5189 involved articles are classified except "
   ]
  },
  {
   "cell_type": "raw",
   "metadata": {},
   "source": [
    "'6P69':'To be published.',\n",
    "'1EWP':'Original work is in an inaccessable chapter',\n",
    "'1UAZ':'Original work is in a ceased journal',\n",
    "'6QVM':'Not yet available http://www.rcsb.org/structure/6QVM',   \n",
    " \n",
    "[i.path for i in os.scandir(adduct_cif_dir) if i.name[:4] in additional_to_be_removed_pdb_ids] "
   ]
  },
  {
   "cell_type": "code",
   "execution_count": 9,
   "metadata": {
    "ExecuteTime": {
     "end_time": "2020-10-22T05:44:00.671950Z",
     "start_time": "2020-10-22T05:43:59.748085Z"
    }
   },
   "outputs": [
    {
     "data": {
      "text/plain": [
       "11179"
      ]
     },
     "execution_count": 9,
     "metadata": {},
     "output_type": "execute_result"
    }
   ],
   "source": [
    "from rdkit import Chem\n",
    "import os, math, pickle, pandas as pd\n",
    "adduct_pkl     = env().adduct_pkl\n",
    "adduct_cif_dir = env().adduct_cif_dir \n",
    "covalent_csv   = env().covalent_csv  \n",
    "with open(adduct_pkl, 'rb') as fr: adduct = pickle.load(fr)\n",
    "len(adduct)"
   ]
  },
  {
   "cell_type": "markdown",
   "metadata": {},
   "source": [
    "### Remove adduct related to the fake covalent bond"
   ]
  },
  {
   "cell_type": "code",
   "execution_count": 10,
   "metadata": {
    "ExecuteTime": {
     "end_time": "2020-10-22T05:44:00.819866Z",
     "start_time": "2020-10-22T05:44:00.673485Z"
    }
   },
   "outputs": [],
   "source": [
    "with open('data/faulty_adduct.txt', 'r') as fr:\n",
    "    faulty_adduct = [i.strip() for i in fr.readlines()] \n",
    "\n",
    "for cif in os.scandir(adduct_cif_dir):\n",
    "    if cif.name in faulty_adduct:\n",
    "        os.remove(cif.path)"
   ]
  },
  {
   "cell_type": "markdown",
   "metadata": {},
   "source": [
    "# Build up a Dataframe"
   ]
  },
  {
   "cell_type": "code",
   "execution_count": 11,
   "metadata": {
    "ExecuteTime": {
     "end_time": "2020-10-22T05:44:00.916972Z",
     "start_time": "2020-10-22T05:44:00.823508Z"
    }
   },
   "outputs": [],
   "source": [
    "columns = ['adduct_smiles', 'adduct_pdb', 'warhead', 'ligand_smiles', 'ligand_pdb', 'common_name', 'reaction_type', 'recovery_strategy', 'ligand_type', 'note']  \n",
    "df = pd.DataFrame(columns=columns, index=os.listdir(adduct_cif_dir)) \n",
    "df.index.name = 'adduct_name'  "
   ]
  },
  {
   "cell_type": "markdown",
   "metadata": {},
   "source": [
    "#### Update with recovered adduct pdb"
   ]
  },
  {
   "cell_type": "code",
   "execution_count": 12,
   "metadata": {
    "ExecuteTime": {
     "end_time": "2020-10-22T05:46:03.235290Z",
     "start_time": "2020-10-22T05:44:00.920470Z"
    }
   },
   "outputs": [],
   "source": [
    "for name, pdb in adduct.items():\n",
    "    df.update(pd.DataFrame(data={'adduct_pdb':pdb}, index=[name])) "
   ]
  },
  {
   "cell_type": "markdown",
   "metadata": {},
   "source": [
    "#### Update with curated knowledge "
   ]
  },
  {
   "cell_type": "code",
   "execution_count": 13,
   "metadata": {
    "ExecuteTime": {
     "end_time": "2020-10-22T05:47:00.168546Z",
     "start_time": "2020-10-22T05:46:03.237102Z"
    },
    "code_folding": []
   },
   "outputs": [],
   "source": [
    "import ast\n",
    "with open('data/knowledge_base.txt', 'r') as fr:\n",
    "    for line in fr.readlines():  \n",
    "        dict_ = ast.literal_eval(line)\n",
    "        name = dict_['adduct_name'] \n",
    "        dict_['recovery_strategy'] = 'manual'\n",
    "        df.update(pd.DataFrame(data=dict_, index=[name]))  "
   ]
  },
  {
   "cell_type": "code",
   "execution_count": 14,
   "metadata": {
    "ExecuteTime": {
     "end_time": "2020-10-22T05:47:40.084771Z",
     "start_time": "2020-10-22T05:47:00.170163Z"
    }
   },
   "outputs": [],
   "source": [
    "for name, row in df.iterrows():\n",
    "    dict_ = row.to_dict()\n",
    "    if isinstance(dict_['ligand_smiles'], str): \n",
    "        pdb = Chem.MolFromSmiles(dict_['ligand_smiles'])\n",
    "        if not pdb: \n",
    "            print(dict_)\n",
    "            raise   \n",
    "        dict_['ligand_pdb'] = pdb\n",
    "        df.update(pd.DataFrame(data=dict_, index=[name]))\n",
    "    if isinstance(dict_['adduct_smiles'], str):  \n",
    "        pdb = Chem.MolFromSmiles(dict_['adduct_smiles'])\n",
    "        if not pdb: \n",
    "            print(name, dict_)\n",
    "            raise   \n",
    "        dict_['adduct_pdb'] = pdb\n",
    "        df.update(pd.DataFrame(data=dict_, index=[name])) "
   ]
  },
  {
   "cell_type": "markdown",
   "metadata": {},
   "source": [
    "### Update knowledge base "
   ]
  },
  {
   "cell_type": "raw",
   "metadata": {
    "ExecuteTime": {
     "end_time": "2020-10-22T05:36:21.133747Z",
     "start_time": "2020-10-22T05:36:20.120083Z"
    }
   },
   "source": [
    " \n",
    "]\n",
    " \n",
    "for dict_ in collector: \n",
    "    name = dict_['adduct_name'] \n",
    "    dict_['recovery_strategy'] = 'manual'\n",
    "    df.update(pd.DataFrame(data=dict_, index=[name]))   \n",
    "\n",
    "\n",
    "_ = df.drop(columns=['adduct_pdb', 'ligand_pdb'])\n",
    "ALL = _[_['recovery_strategy'].notna()].to_dict('index')\n",
    "columns = _.columns\n",
    "with open('data/knowledge_base.txt', 'w') as fw:\n",
    "    for name, row in ALL.items(): \n",
    "        for name_ in columns:\n",
    "            item = row[name_]\n",
    "            if isinstance(item, float) or not item:\n",
    "                row.pop(name_)\n",
    "        row['adduct_name'] = name\n",
    "        print(row.__repr__(), file=fw)"
   ]
  },
  {
   "cell_type": "markdown",
   "metadata": {},
   "source": [
    "# Begin"
   ]
  },
  {
   "cell_type": "code",
   "execution_count": 15,
   "metadata": {
    "ExecuteTime": {
     "end_time": "2020-10-22T05:47:40.198625Z",
     "start_time": "2020-10-22T05:47:40.086567Z"
    }
   },
   "outputs": [],
   "source": [
    "covRec = {}\n",
    "with open(covalent_csv, 'r') as fr: \n",
    "    for entry in fr.readlines():\n",
    "        entries = entry.split(',')\n",
    "        unique = [entries[i] for i in [0,2,4,6,7,8,9,12,14,16,17,18,19]] \n",
    "        covRec.update({'_'.join(unique)+'_cif': entry.strip()})    "
   ]
  },
  {
   "cell_type": "code",
   "execution_count": 16,
   "metadata": {
    "ExecuteTime": {
     "end_time": "2020-10-22T05:47:40.838268Z",
     "start_time": "2020-10-22T05:47:40.200941Z"
    }
   },
   "outputs": [
    {
     "data": {
      "text/html": [
       "<style>.container { width:100% !important; }</style>"
      ],
      "text/plain": [
       "<IPython.core.display.HTML object>"
      ]
     },
     "metadata": {},
     "output_type": "display_data"
    }
   ],
   "source": [
    "from IPython.core.display import display, HTML, SVG \n",
    "display(HTML(\"<style>.container { width:100% !important; }</style>\"))   \n",
    "\n",
    "import pandas as pd \n",
    "from rdkit import Chem\n",
    "from rdkit.Chem import AllChem, PandasTools\n",
    "pd.set_option('display.max_colwidth', None)\n",
    "from rdkit.Chem.Draw import IPythonConsole \n",
    "PandasTools.RenderImagesInAllDataFrames(images=True) \n",
    "df['covalent_record'        ] = df.apply(lambda r: covRec[r.name], axis=1)  \n",
    "df['ligand_name'            ] = df.apply(lambda r: r.name.split('_')[8], axis=1) \n",
    "df['ligand_bond_atom_name'  ] = df.apply(lambda r: r.name.split('_')[11], axis=1)\n",
    "df['aa_name'                ] = df.apply(lambda r: r.name.split('_')[2], axis=1) \n",
    "df['aa_bond_atom_name'      ] = df.apply(lambda r: r.name.split('_')[5], axis=1) \n",
    "df['doi'] = df.apply(lambda r:  DOI_collector[r.name.split('_')[0]], axis=1) \n",
    "df = df.sort_values(by='doi')\n",
    "URL = lambda doi: 'http://doi.org/' + doi if doi[:3]=='10.' else doi \n",
    "df['url'] = df.apply(lambda r: URL(r.doi) , axis=1) "
   ]
  },
  {
   "cell_type": "code",
   "execution_count": 17,
   "metadata": {
    "ExecuteTime": {
     "end_time": "2020-10-22T05:47:40.872812Z",
     "start_time": "2020-10-22T05:47:40.839772Z"
    }
   },
   "outputs": [],
   "source": [
    "df = df[(df['doi'].str.match('10')) | (df['doi'].str.match('http'))] "
   ]
  },
  {
   "cell_type": "code",
   "execution_count": 18,
   "metadata": {
    "ExecuteTime": {
     "end_time": "2020-10-22T05:47:42.576275Z",
     "start_time": "2020-10-22T05:47:40.874323Z"
    },
    "code_folding": [
     0
    ]
   },
   "outputs": [
    {
     "name": "stdout",
     "output_type": "stream",
     "text": [
      "4459\n"
     ]
    }
   ],
   "source": [
    "def ToSmiles(m, s):\n",
    "    try: \n",
    "        if type(s) == str: return s\n",
    "    except:\n",
    "        pass\n",
    "    try:\n",
    "        if math.isnan(m): return math.nan\n",
    "    except TypeError:\n",
    "        pass\n",
    "    try:\n",
    "        return Chem.MolToSmiles(m)\n",
    "    except: \n",
    "        return math.nan\n",
    "\n",
    "df['ligand_smiles'] = df.apply(lambda r: ToSmiles(r.ligand_pdb, r.ligand_smiles) , axis=1)  \n",
    "\n",
    "code2smiles = {} \n",
    "for index, ligand_name in df['ligand_name'].to_dict().items():\n",
    "    smiles = df.loc[index,'ligand_smiles']\n",
    "    if type(smiles) != str: continue\n",
    "    try:\n",
    "        smiles = Chem.MolToSmiles(Chem.MolFromSmiles(smiles))\n",
    "    except:\n",
    "        #print(index, smiles)\n",
    "        pass\n",
    "    if ligand_name not in code2smiles:\n",
    "        code2smiles[ligand_name] = set()\n",
    "    code2smiles[ligand_name].add(smiles)\n",
    "\n",
    "isna  = df[df['ligand_type'].isna() ] \n",
    "notna = df[df['ligand_type'].notna()] \n",
    "print(len(notna))"
   ]
  },
  {
   "cell_type": "code",
   "execution_count": 19,
   "metadata": {
    "ExecuteTime": {
     "end_time": "2020-10-22T05:48:53.027244Z",
     "start_time": "2020-10-22T05:47:42.577747Z"
    },
    "code_folding": [
     0
    ]
   },
   "outputs": [
    {
     "name": "stdout",
     "output_type": "stream",
     "text": [
      "7725\n"
     ]
    }
   ],
   "source": [
    "for index, row in isna.iterrows():\n",
    "    row = row.to_dict() \n",
    "    ligand_name           = row['ligand_name'          ] \n",
    "    ligand_bond_atom_name = row['ligand_bond_atom_name'] \n",
    "    aa_name               = row['aa_name'              ]  \n",
    "    aa_bond_atom_name     = row['aa_bond_atom_name'    ] \n",
    "    tmp_ = notna[(notna['ligand_name']==ligand_name) & (notna['ligand_bond_atom_name']==ligand_bond_atom_name) & (notna['aa_name']==aa_name) \\\n",
    "                 & (notna['aa_bond_atom_name']==aa_bond_atom_name) & (notna['recovery_strategy']=='manual')]  #\n",
    "    if len(tmp_):  \n",
    "        adduct_pdb,warhead,ligand_pdb,reaction_type,ligand_type = df.loc[tmp_.index[0], ['adduct_pdb','warhead','ligand_pdb','reaction_type','ligand_type']]\n",
    "        row['warhead'] = warhead\n",
    "        row['ligand_pdb'] = ligand_pdb\n",
    "        row['ligand_type'] = ligand_type \n",
    "        row['reaction_type'] = reaction_type\n",
    "        row['recovery_strategy'] = 'adduct_matching'\n",
    "        if ligand_name in code2smiles:\n",
    "            smiles = code2smiles[ligand_name]\n",
    "            row['note'] = '.'.join(smiles) \n",
    "        df.update( pd.DataFrame(data=row, index=[index]))  \n",
    "print(len(df[df['ligand_type'].notna()] ))"
   ]
  },
  {
   "cell_type": "code",
   "execution_count": 20,
   "metadata": {
    "ExecuteTime": {
     "end_time": "2020-10-22T05:48:53.032126Z",
     "start_time": "2020-10-22T05:48:53.028956Z"
    }
   },
   "outputs": [],
   "source": [
    "def subSearching(m, s):\n",
    "    try:\n",
    "        if math.isnan(m): return False \n",
    "    except TypeError:\n",
    "        return m.HasSubstructMatch(Chem.MolFromSmarts(s))"
   ]
  },
  {
   "cell_type": "markdown",
   "metadata": {},
   "source": [
    "## Boron"
   ]
  },
  {
   "cell_type": "code",
   "execution_count": 21,
   "metadata": {
    "ExecuteTime": {
     "end_time": "2020-10-22T05:48:59.558942Z",
     "start_time": "2020-10-22T05:48:53.033528Z"
    }
   },
   "outputs": [
    {
     "name": "stdout",
     "output_type": "stream",
     "text": [
      "372\n",
      "0\n"
     ]
    }
   ],
   "source": [
    "df_remaining = df[df['ligand_type'].isna()]      # for those curated, the ligand type is no longer NaN\n",
    "df_boronic = df_remaining[df_remaining.apply(lambda r: subSearching(r.adduct_pdb, '[At]~[#5]'), axis=1)]\n",
    "print(len(df_boronic)) \n",
    "\n",
    "for index, row in df_boronic.iterrows(): \n",
    "    row = row.to_dict()\n",
    "    mol = row['adduct_pdb']\n",
    "    At, B = mol.GetSubstructMatch(Chem.MolFromSmarts(\"[At]~[#5]\")) \n",
    "    B = mol.GetAtomWithIdx(B)\n",
    "    if B.GetDegree() == 4:\n",
    "        B.SetFormalCharge(-1)\n",
    "    B.UpdatePropertyCache() \n",
    "\n",
    "tmp = df_remaining[df_remaining.apply(lambda r: subSearching(r.adduct_pdb, '[At]~[#5;R]'), axis=1)]\n",
    "#display(tmp)\n",
    "for index, row in tmp.iterrows(): \n",
    "    row = row.to_dict()\n",
    "    mol = row['adduct_pdb']\n",
    "    mol = AllChem.DeleteSubstructs(mol, Chem.MolFromSmarts(\"[At]\"))  \n",
    "    Chem.GetSymmSSSR(mol)\n",
    "    row['ligand_pdb'    ] = mol\n",
    "    row['recovery_strategy'] = 'automated'\n",
    "    row['ligand_type'      ] = 'inhibitor' \n",
    "    row['reaction_type'    ] = 'Ring-opening' \n",
    "    row['warhead'          ] = 'Cyclic_Boronic_Acid'    \n",
    "    df.update( pd.DataFrame(data=row, index=[index]) )  \n",
    "\n",
    "df_remaining = df[df['ligand_type'].isna()]      # for those curated, the ligand type is no longer NaN\n",
    "tmp = df_remaining[df_remaining.apply(lambda r: subSearching(r.adduct_pdb, '[At]~[#5](O)(O)*'), axis=1)]\n",
    "#display(tmp)\n",
    "\n",
    "for index, row in tmp.iterrows(): \n",
    "    row = row.to_dict()\n",
    "    mol = row['adduct_pdb']\n",
    "    mol = AllChem.DeleteSubstructs(mol, Chem.MolFromSmarts(\"[At]\"))  \n",
    "    row['ligand_pdb'    ] = mol\n",
    "    row['recovery_strategy'] = 'automated'\n",
    "    row['ligand_type'      ] = 'inhibitor' \n",
    "    row['reaction_type'    ] = 'Addition' \n",
    "    row['warhead'          ] = 'Boronic_Acid'    \n",
    "    df.update( pd.DataFrame(data=row, index=[index]) )\n",
    "\n",
    "df_remaining = df[df['ligand_type'].isna()]      # for those curated, the ligand type is no longer NaN\n",
    "tmp = df_remaining[df_remaining.apply(lambda r: subSearching(r.adduct_pdb, '[At]~[#5D3]'), axis=1)]\n",
    "#display(tmp)\n",
    "\n",
    "for index, row in tmp.iterrows(): \n",
    "    row = row.to_dict()\n",
    "    mol = row['adduct_pdb']\n",
    "    mol = Chem.Mol(mol)\n",
    "    At  = mol.GetSubstructMatch(Chem.MolFromSmarts(\"[At]\"))[0]\n",
    "    mol.GetAtomWithIdx(At).SetAtomicNum(8) \n",
    "    row['ligand_pdb'    ] = mol\n",
    "    row['recovery_strategy'] = 'automated'\n",
    "    row['ligand_type'      ] = 'inhibitor' \n",
    "    row['reaction_type'    ] = 'Addition' \n",
    "    row['warhead'          ] = 'Boronic_Acid'    \n",
    "    df.update( pd.DataFrame(data=row, index=[index]) )   \n",
    "\n",
    "df_remaining = df[df['ligand_type'].isna()]      # for those curated, the ligand type is no longer NaN\n",
    "tmp = df_remaining[df_remaining.apply(lambda r: subSearching(r.adduct_pdb, '[At]~[#5]'), axis=1)]\n",
    "print(len(tmp))"
   ]
  },
  {
   "cell_type": "markdown",
   "metadata": {
    "code_folding": []
   },
   "source": [
    "# β-lactam"
   ]
  },
  {
   "cell_type": "code",
   "execution_count": 22,
   "metadata": {
    "ExecuteTime": {
     "end_time": "2020-10-22T05:48:59.585789Z",
     "start_time": "2020-10-22T05:48:59.560423Z"
    },
    "scrolled": false
   },
   "outputs": [
    {
     "name": "stdout",
     "output_type": "stream",
     "text": [
      "38\n"
     ]
    }
   ],
   "source": [
    "df_remaining = df[df['ligand_type'].isna()]      # for those curated, the ligand type is no longer NaN\n",
    "df_beta_lactam = df_remaining[df_remaining['adduct_pdb'] >= Chem.MolFromSmarts('[At]C(=O)CCN=[C;R][C;R]')] \n",
    "print(len(df_beta_lactam))"
   ]
  },
  {
   "cell_type": "code",
   "execution_count": 23,
   "metadata": {
    "ExecuteTime": {
     "end_time": "2020-10-22T05:49:00.169477Z",
     "start_time": "2020-10-22T05:48:59.589638Z"
    }
   },
   "outputs": [],
   "source": [
    "tmp = df_beta_lactam\n",
    "for index, row in tmp.iterrows():\n",
    "    #if index != '3M6H_SER_84_OG_P0C5C1_2RG_308_CAA.pdb' : continue\n",
    "    row = row.to_dict()\n",
    "    mol = row['adduct_pdb'] \n",
    "    At, C1, _, _, _, N, C2, C3 = mol.GetSubstructMatch(Chem.MolFromSmarts('[At]C(=O)CCN=[C;R][C;R]')) \n",
    "    mol.GetBondBetweenAtoms(N, C2).SetBondType(Chem.rdchem.BondType.SINGLE)  \n",
    "    mol.GetBondBetweenAtoms(C2, C3).SetBondType(Chem.rdchem.BondType.DOUBLE)\n",
    "    mol.GetAtomWithIdx(C3).SetNumExplicitHs(0)\n",
    "    edMol = Chem.EditableMol(mol)\n",
    "    edMol.AddBond(C1, N, Chem.rdchem.BondType.SINGLE) \n",
    "    edMol.RemoveAtom(At)\n",
    "    mol = edMol.GetMol()  \n",
    "    row['ligand_pdb'       ] = mol\n",
    "    row['warhead'          ] = 'β-lactam' \n",
    "    row['ligand_type'      ] = 'inhibitor' \n",
    "    row['recovery_strategy'] = 'automated'\n",
    "    row['reaction_type'    ] = 'Ring-opening'  \n",
    "    df.update( pd.DataFrame(data=row, index=[index]) )  "
   ]
  },
  {
   "cell_type": "code",
   "execution_count": 24,
   "metadata": {
    "ExecuteTime": {
     "end_time": "2020-10-22T05:49:00.197941Z",
     "start_time": "2020-10-22T05:49:00.171443Z"
    },
    "scrolled": false
   },
   "outputs": [
    {
     "name": "stdout",
     "output_type": "stream",
     "text": [
      "270\n"
     ]
    }
   ],
   "source": [
    "df_remaining = df[df['ligand_type'].isna()]      # for those curated, the ligand type is no longer NaN\n",
    "df_beta_lactam = df_remaining[df_remaining['adduct_pdb'] >= Chem.MolFromSmarts('[At]C(=O)CCN')] \n",
    "print(len(df_beta_lactam))"
   ]
  },
  {
   "cell_type": "code",
   "execution_count": 25,
   "metadata": {
    "ExecuteTime": {
     "end_time": "2020-10-22T05:49:04.237602Z",
     "start_time": "2020-10-22T05:49:00.199268Z"
    }
   },
   "outputs": [],
   "source": [
    "tmp = df_beta_lactam\n",
    "for index, row in tmp.iterrows():\n",
    "    row = row.to_dict()\n",
    "    mol = row['adduct_pdb'] \n",
    "    At, C, _, _, _, N = mol.GetSubstructMatch(Chem.MolFromSmarts('[At]C(=O)CCN')) \n",
    "    edMol = Chem.EditableMol(mol)\n",
    "    edMol.AddBond(C, N, Chem.rdchem.BondType.SINGLE) \n",
    "    edMol.RemoveAtom(At)\n",
    "    mol = edMol.GetMol()\n",
    "    row['ligand_pdb'    ] = mol\n",
    "    row['warhead'          ] = 'β-lactam' \n",
    "    row['ligand_type'      ] = 'inhibitor' \n",
    "    row['recovery_strategy'] = 'automated'\n",
    "    row['reaction_type'    ] = 'Ring-opening' \n",
    "    df.update( pd.DataFrame(data=row, index=[index]) )  "
   ]
  },
  {
   "cell_type": "markdown",
   "metadata": {
    "code_folding": []
   },
   "source": [
    "# β-lactone"
   ]
  },
  {
   "cell_type": "code",
   "execution_count": 26,
   "metadata": {
    "ExecuteTime": {
     "end_time": "2020-10-22T05:49:04.260506Z",
     "start_time": "2020-10-22T05:49:04.239118Z"
    }
   },
   "outputs": [
    {
     "name": "stdout",
     "output_type": "stream",
     "text": [
      "79\n"
     ]
    }
   ],
   "source": [
    "df_remaining = df[df['ligand_type'].isna()]\n",
    "df_beta_lactone = df_remaining[df_remaining['adduct_pdb'] >= Chem.MolFromSmarts('[At]C(=O)CCO')]\n",
    "print(len(df_beta_lactone)) "
   ]
  },
  {
   "cell_type": "code",
   "execution_count": 27,
   "metadata": {
    "ExecuteTime": {
     "end_time": "2020-10-22T05:49:05.447213Z",
     "start_time": "2020-10-22T05:49:04.262349Z"
    }
   },
   "outputs": [],
   "source": [
    "tmp = df_beta_lactone\n",
    "for index, row in tmp.iterrows():\n",
    "    row = row.to_dict()\n",
    "    mol = row['adduct_pdb'] \n",
    "    At, C, _, _, _, O = mol.GetSubstructMatch(Chem.MolFromSmarts('[At]C(=O)CCO')) \n",
    "    edMol = Chem.EditableMol(mol)\n",
    "    edMol.AddBond(C, O, Chem.rdchem.BondType.SINGLE) \n",
    "    edMol.RemoveAtom(At)\n",
    "    mol = edMol.GetMol()\n",
    "    row['ligand_pdb'    ] = mol\n",
    "    row['warhead'          ] = 'β-lactone' \n",
    "    row['ligand_type'      ] = 'inhibitor' \n",
    "    row['recovery_strategy'] = 'automated' \n",
    "    row['reaction_type'    ] = 'Ring-opening' \n",
    "    df.update( pd.DataFrame(data=row, index=[index]) )  "
   ]
  },
  {
   "cell_type": "markdown",
   "metadata": {},
   "source": [
    "# Epoxy"
   ]
  },
  {
   "cell_type": "code",
   "execution_count": 28,
   "metadata": {
    "ExecuteTime": {
     "end_time": "2020-10-22T05:49:05.469096Z",
     "start_time": "2020-10-22T05:49:05.448671Z"
    }
   },
   "outputs": [
    {
     "name": "stdout",
     "output_type": "stream",
     "text": [
      "71\n"
     ]
    }
   ],
   "source": [
    "df_remaining = df[df['ligand_type'].isna()]      # for those curated, the ligand type is no longer NaN\n",
    "df_epoxy = df_remaining[df_remaining['adduct_pdb'] >= Chem.MolFromSmarts('[At]C(C=O)C(O)C=O')]\n",
    "print(len(df_epoxy)) "
   ]
  },
  {
   "cell_type": "code",
   "execution_count": 29,
   "metadata": {
    "ExecuteTime": {
     "end_time": "2020-10-22T05:49:06.570638Z",
     "start_time": "2020-10-22T05:49:05.470496Z"
    }
   },
   "outputs": [],
   "source": [
    "tmp = df_epoxy\n",
    "for index, row in tmp.iterrows():\n",
    "    try:\n",
    "        row = row.to_dict()\n",
    "        mol = row['adduct_pdb'] \n",
    "        At, C, _, _, _, O, _, _ = mol.GetSubstructMatch(Chem.MolFromSmarts('[At]C(C=O)C(O)C=O')) \n",
    "        edMol = Chem.EditableMol(mol)\n",
    "        edMol.AddBond(C, O, Chem.rdchem.BondType.SINGLE) \n",
    "        edMol.RemoveAtom(At)\n",
    "        mol = edMol.GetMol()\n",
    "        row['ligand_pdb'    ] = mol\n",
    "        row['warhead'          ] = 'Epoxy' \n",
    "        row['ligand_type'      ] = 'inhibitor' \n",
    "        row['reaction_type'    ] = 'Ring-opening' \n",
    "        row['recovery_strategy'] = 'automated' \n",
    "        df.update( pd.DataFrame(data=row, index=[index]) )  \n",
    "    except:\n",
    "        pass"
   ]
  },
  {
   "cell_type": "markdown",
   "metadata": {},
   "source": [
    "## Conjugated_Pi_Bond"
   ]
  },
  {
   "cell_type": "code",
   "execution_count": 30,
   "metadata": {
    "ExecuteTime": {
     "end_time": "2020-10-22T05:49:06.596745Z",
     "start_time": "2020-10-22T05:49:06.572067Z"
    }
   },
   "outputs": [
    {
     "name": "stdout",
     "output_type": "stream",
     "text": [
      "709\n"
     ]
    }
   ],
   "source": [
    "df_remaining = df[df['ligand_type'].isna()]      # for those curated, the ligand type is no longer NaN\n",
    "df_conjugated_pi_bond = df_remaining[df_remaining['adduct_pdb'] >= Chem.MolFromSmarts('[At]C~CC=O')]\n",
    "print(len(df_conjugated_pi_bond)) "
   ]
  },
  {
   "cell_type": "code",
   "execution_count": 31,
   "metadata": {
    "ExecuteTime": {
     "end_time": "2020-10-22T05:49:19.159478Z",
     "start_time": "2020-10-22T05:49:06.598318Z"
    }
   },
   "outputs": [],
   "source": [
    "tmp = df_conjugated_pi_bond\n",
    "for index, row in tmp.iterrows(): \n",
    "    row = row.to_dict()\n",
    "    mol = row['adduct_pdb'] \n",
    "    At, Cb, Ca, _, _ = mol.GetSubstructMatch(Chem.MolFromSmarts('[At]C~CC=O')) \n",
    "    mol.GetBondBetweenAtoms(Ca, Cb).SetBondType(Chem.rdchem.BondType.SINGLE)\n",
    "    mol = Chem.Mol(mol)\n",
    "    mol.GetBondBetweenAtoms(Ca, Cb).SetBondType(Chem.rdchem.BondType.DOUBLE)\n",
    "    mol.GetAtomWithIdx(Cb).SetNumExplicitHs(0)\n",
    "    Chem.SanitizeMol(mol, sanitizeOps=Chem.SANITIZE_SETHYBRIDIZATION)\n",
    "    Ca = mol.GetAtomWithIdx(Ca)\n",
    "    Ca.SetNumExplicitHs(0)\n",
    "    edMol = Chem.EditableMol(mol) \n",
    "    edMol.RemoveAtom(At)\n",
    "    mol = edMol.GetMol()\n",
    "    row['ligand_pdb'    ] = mol\n",
    "    row['warhead'          ] = 'Conjugated_Pi_Bond' \n",
    "    row['ligand_type'      ] = 'inhibitor' \n",
    "    row['recovery_strategy'] = 'automated'\n",
    "    row['reaction_type'    ] = 'Addition'  \n",
    "    df.update( pd.DataFrame(data=row, index=[index]) )  "
   ]
  },
  {
   "cell_type": "markdown",
   "metadata": {},
   "source": [
    "## Nitrile"
   ]
  },
  {
   "cell_type": "code",
   "execution_count": 32,
   "metadata": {
    "ExecuteTime": {
     "end_time": "2020-10-22T05:49:19.175438Z",
     "start_time": "2020-10-22T05:49:19.161005Z"
    },
    "scrolled": true
   },
   "outputs": [
    {
     "data": {
      "text/plain": [
       "147"
      ]
     },
     "execution_count": 32,
     "metadata": {},
     "output_type": "execute_result"
    }
   ],
   "source": [
    "df_remaining = df[df['ligand_type'].isna()]      # for those curated, the ligand type is no longer NaN\n",
    "df_nitrile = df_remaining[df_remaining['adduct_pdb'] >= Chem.MolFromSmarts('[At]~[CD3](~[ND1])')]\n",
    "len(df_nitrile)"
   ]
  },
  {
   "cell_type": "code",
   "execution_count": 33,
   "metadata": {
    "ExecuteTime": {
     "end_time": "2020-10-22T05:49:21.619409Z",
     "start_time": "2020-10-22T05:49:19.176842Z"
    }
   },
   "outputs": [],
   "source": [
    "tmp = df_nitrile\n",
    "for index, row in tmp.iterrows():\n",
    "    row = row.to_dict()\n",
    "    mol = row['adduct_pdb']\n",
    "    At, C, N = mol.GetSubstructMatch(Chem.MolFromSmarts('[At]~[CD3](~[ND1])'))\n",
    "    mol.GetBondBetweenAtoms(C, N).SetBondType(Chem.rdchem.BondType.DOUBLE)  \n",
    "    mol.GetBondBetweenAtoms(C, At).SetBondType(Chem.rdchem.BondType.SINGLE)  \n",
    "    mol.GetAtomWithIdx(C).SetNumExplicitHs(0)\n",
    "    mol = Chem.Mol(mol) \n",
    "    mol.GetBondBetweenAtoms(C, N).SetBondType(Chem.rdchem.BondType.TRIPLE)  \n",
    "    edMol = Chem.EditableMol(mol)\n",
    "    edMol.RemoveAtom(At)\n",
    "    mol = edMol.GetMol() \n",
    "    Chem.SanitizeMol(mol, sanitizeOps=Chem.SANITIZE_SETHYBRIDIZATION)\n",
    "    mol = Chem.MolFromSmiles(Chem.MolToSmiles(mol))\n",
    "    row['ligand_pdb'    ] = mol\n",
    "    row['warhead'          ] = 'Nitrile' \n",
    "    row['ligand_type'      ] = 'inhibitor' \n",
    "    row['recovery_strategy'] = 'automated'\n",
    "    row['reaction_type'    ] = 'Addition'  \n",
    "    df.update( pd.DataFrame(data=row, index=[index])) "
   ]
  },
  {
   "cell_type": "markdown",
   "metadata": {},
   "source": [
    "## Conjugated_Pi_Bond"
   ]
  },
  {
   "cell_type": "code",
   "execution_count": 34,
   "metadata": {
    "ExecuteTime": {
     "end_time": "2020-10-22T05:49:21.634018Z",
     "start_time": "2020-10-22T05:49:21.620888Z"
    },
    "scrolled": true
   },
   "outputs": [
    {
     "name": "stdout",
     "output_type": "stream",
     "text": [
      "172\n"
     ]
    }
   ],
   "source": [
    "df_remaining = df[df['ligand_type'].isna()]      # for those curated, the ligand type is no longer NaN\n",
    "df_conjugated_pi_bond = df_remaining[df_remaining['adduct_pdb'] >= Chem.MolFromSmarts('[At]C~CS=O')]\n",
    "print(len(df_conjugated_pi_bond)) "
   ]
  },
  {
   "cell_type": "code",
   "execution_count": 35,
   "metadata": {
    "ExecuteTime": {
     "end_time": "2020-10-22T05:49:24.244986Z",
     "start_time": "2020-10-22T05:49:21.635411Z"
    }
   },
   "outputs": [],
   "source": [
    "tmp = df_conjugated_pi_bond\n",
    "for index, row in tmp.iterrows():\n",
    "    row = row.to_dict()\n",
    "    mol = row['adduct_pdb']\n",
    "    At, Cb, Ca, _, _ = mol.GetSubstructMatch(Chem.MolFromSmarts('[At]C~CS=O'))\n",
    "    mol.GetBondBetweenAtoms(Cb, Ca).SetBondType(Chem.rdchem.BondType.DOUBLE)  \n",
    "    edMol = Chem.EditableMol(mol)\n",
    "    edMol.RemoveAtom(At)\n",
    "    mol = edMol.GetMol() \n",
    "    Chem.SanitizeMol(mol, sanitizeOps=Chem.SANITIZE_SETHYBRIDIZATION)\n",
    "    row['ligand_pdb'    ] = mol\n",
    "    row['warhead'          ] = 'Conjugated_Pi_Bond'\n",
    "    row['ligand_type'      ] = 'inhibitor' \n",
    "    row['recovery_strategy'] = 'automated' \n",
    "    row['reaction_type'    ] = 'Addition' \n",
    "    df.update( pd.DataFrame(data=row, index=[index])) "
   ]
  },
  {
   "cell_type": "markdown",
   "metadata": {},
   "source": [
    "## Ketone"
   ]
  },
  {
   "cell_type": "code",
   "execution_count": 36,
   "metadata": {
    "ExecuteTime": {
     "end_time": "2020-10-22T05:49:24.258188Z",
     "start_time": "2020-10-22T05:49:24.246401Z"
    }
   },
   "outputs": [
    {
     "data": {
      "text/plain": [
       "390"
      ]
     },
     "execution_count": 36,
     "metadata": {},
     "output_type": "execute_result"
    }
   ],
   "source": [
    "df_remaining = df[df['ligand_type'].isna()]      # for those curated, the ligand type is no longer NaN\n",
    "df_ketone = df_remaining[df_remaining['adduct_pdb'] >= Chem.MolFromSmarts('[At][#6](~[OD1])([#6])[#6]')]\n",
    "len(df_ketone)"
   ]
  },
  {
   "cell_type": "code",
   "execution_count": 37,
   "metadata": {
    "ExecuteTime": {
     "end_time": "2020-10-22T05:49:30.418102Z",
     "start_time": "2020-10-22T05:49:24.259517Z"
    },
    "scrolled": false
   },
   "outputs": [],
   "source": [
    "tmp = df_ketone\n",
    "for index, row in tmp.iterrows():\n",
    "    row = row.to_dict()\n",
    "    adduct = row['adduct_pdb'] \n",
    "    At, C, O, _, _ = adduct.GetSubstructMatch(Chem.MolFromSmarts('[At][#6](~[OD1])([#6])[#6]'))\n",
    "    adduct.GetBondBetweenAtoms(C, O).SetBondType(Chem.rdchem.BondType.SINGLE)\n",
    "    row['adduct_pdb'] = Chem.MolFromSmiles(Chem.MolToSmiles(adduct)) \n",
    "    adduct.GetAtomWithIdx(C).SetNumExplicitHs(0)   \n",
    "    adduct.GetBondBetweenAtoms(C, O).SetBondType(Chem.rdchem.BondType.DOUBLE)\n",
    "    edMol = Chem.EditableMol(adduct)\n",
    "    edMol.RemoveAtom(At)\n",
    "    inhibitor = edMol.GetMol() \n",
    "    Chem.SanitizeMol(inhibitor, sanitizeOps=Chem.SANITIZE_SETHYBRIDIZATION)\n",
    "    row['ligand_pdb'    ] = inhibitor\n",
    "    row['warhead'          ] = 'Ketone'\n",
    "    row['ligand_type'      ] = 'inhibitor' \n",
    "    row['recovery_strategy'] = 'automated' \n",
    "    row['reaction_type'    ] = 'Addition' \n",
    "    df.update( pd.DataFrame(data=row, index=[index])) "
   ]
  },
  {
   "cell_type": "markdown",
   "metadata": {},
   "source": [
    "## Diazabicyclooctane"
   ]
  },
  {
   "cell_type": "code",
   "execution_count": 38,
   "metadata": {
    "ExecuteTime": {
     "end_time": "2020-10-22T05:49:30.429539Z",
     "start_time": "2020-10-22T05:49:30.419581Z"
    },
    "scrolled": false
   },
   "outputs": [
    {
     "data": {
      "text/plain": [
       "(25, 177, 10150)"
      ]
     },
     "execution_count": 38,
     "metadata": {},
     "output_type": "execute_result"
    }
   ],
   "source": [
    "df_remaining = df[df['ligand_type'].isna()]      # for those curated, the ligand type is no longer NaN\n",
    "df_diazabicyclooctane = df_remaining[df_remaining['adduct_pdb'] >= Chem.MolFromSmarts('[At][#6](~[OD1])NCCNOS')]\n",
    "len(df_diazabicyclooctane),len(df_remaining), len(df)"
   ]
  },
  {
   "cell_type": "code",
   "execution_count": 39,
   "metadata": {
    "ExecuteTime": {
     "end_time": "2020-10-22T05:49:30.860214Z",
     "start_time": "2020-10-22T05:49:30.431038Z"
    },
    "scrolled": false
   },
   "outputs": [],
   "source": [
    "tmp = df_diazabicyclooctane\n",
    "for index, row in tmp.iterrows():\n",
    "    row = row.to_dict()\n",
    "    mol = row['adduct_pdb']\n",
    "    At, C, _, _, _, _, N, _, _ = mol.GetSubstructMatch(Chem.MolFromSmarts('[At][#6](~[OD1])NCCNOS'))\n",
    "    #mol.GetAtomWithIdx(C).SetNumExplicitHs(0)   \n",
    "    edMol = Chem.EditableMol(mol)\n",
    "    edMol.AddBond(C, N, Chem.rdchem.BondType.SINGLE)\n",
    "    edMol.RemoveAtom(At)\n",
    "    mol = edMol.GetMol() \n",
    "    Chem.SanitizeMol(mol, sanitizeOps=Chem.SANITIZE_SETHYBRIDIZATION)\n",
    "    row['ligand_pdb'    ] = mol\n",
    "    row['warhead'          ] = 'γ-lactam'\n",
    "    row['note'          ] = 'Diazabicyclooctane' \n",
    "    row['ligand_type'      ] = 'inhibitor' \n",
    "    row['recovery_strategy'] = 'automated' \n",
    "    row['reaction_type'    ] = 'Ring-opening' \n",
    "    row['ligand_smiles'    ] = Chem.MolToSmiles(mol)\n",
    "    df.update( pd.DataFrame(data=row, index=[index]))  "
   ]
  },
  {
   "cell_type": "markdown",
   "metadata": {},
   "source": [
    "## Schiff Base"
   ]
  },
  {
   "cell_type": "code",
   "execution_count": 40,
   "metadata": {
    "ExecuteTime": {
     "end_time": "2020-10-22T05:49:30.872897Z",
     "start_time": "2020-10-22T05:49:30.863741Z"
    },
    "scrolled": false
   },
   "outputs": [
    {
     "name": "stdout",
     "output_type": "stream",
     "text": [
      "124 152 10150\n"
     ]
    }
   ],
   "source": [
    "df_remaining = df[df['ligand_type'].isna()]      # for those curated, the ligand type is no longer NaN\n",
    "df_schiff_base = df_remaining[df_remaining['adduct_pdb'] >= Chem.MolFromSmarts('[At]=[#6;D3]')]\n",
    "print(len(df_schiff_base),len(df_remaining), len(df)) "
   ]
  },
  {
   "cell_type": "code",
   "execution_count": 41,
   "metadata": {
    "ExecuteTime": {
     "end_time": "2020-10-22T05:49:32.832625Z",
     "start_time": "2020-10-22T05:49:30.875328Z"
    },
    "scrolled": false
   },
   "outputs": [],
   "source": [
    "tmp = df_schiff_base\n",
    "for index, row in tmp.iterrows():\n",
    "    row = row.to_dict()\n",
    "    mol = row['adduct_pdb']\n",
    "    At, = mol.GetSubstructMatch(Chem.MolFromSmarts('[At]'))\n",
    "    mol.GetAtomWithIdx(At).SetFormalCharge(1) \n",
    "    mol = Chem.Mol(mol)\n",
    "    mol.GetAtomWithIdx(At).SetAtomicNum(8)\n",
    "    row['ligand_pdb'    ] = mol\n",
    "    row['warhead'          ] = 'Carbonyl_Oxygen'\n",
    "    row['ligand_type'      ] = 'inhibitor' \n",
    "    row['recovery_strategy'] = 'automated' \n",
    "    row['note'             ] = 'Schiff Base'\n",
    "    row['reaction_type'    ] = 'Addition-Elimination' \n",
    "    df.update( pd.DataFrame(data=row, index=[index]))  "
   ]
  },
  {
   "cell_type": "markdown",
   "metadata": {},
   "source": [
    "## Isothiocyanate"
   ]
  },
  {
   "cell_type": "code",
   "execution_count": 42,
   "metadata": {
    "ExecuteTime": {
     "end_time": "2020-10-22T05:49:32.841528Z",
     "start_time": "2020-10-22T05:49:32.834084Z"
    },
    "scrolled": false
   },
   "outputs": [
    {
     "name": "stdout",
     "output_type": "stream",
     "text": [
      "28 28 10150\n"
     ]
    }
   ],
   "source": [
    "df_remaining = df[df['ligand_type'].isna()]      # for those curated, the ligand type is no longer NaN\n",
    "df_isothiocyanate = df_remaining[df_remaining['adduct_pdb'] >= Chem.MolFromSmarts('[At]~[#6;D3](~[#16])~[#7]')]\n",
    "print(len(df_isothiocyanate),len(df_remaining), len(df)) \n",
    "#display(df_isothiocyanate)\n",
    "#df_remaining"
   ]
  },
  {
   "cell_type": "code",
   "execution_count": 43,
   "metadata": {
    "ExecuteTime": {
     "end_time": "2020-10-22T05:49:33.281726Z",
     "start_time": "2020-10-22T05:49:32.843281Z"
    },
    "scrolled": false
   },
   "outputs": [],
   "source": [
    "tmp = df_isothiocyanate\n",
    "for index, row in tmp.iterrows():\n",
    "    row = row.to_dict()\n",
    "    mol = row['adduct_pdb']\n",
    "    At, C, S, N = mol.GetSubstructMatch(Chem.MolFromSmarts('[At]~[#6;D3](~[#16])~[#7]'))\n",
    "    #mol.GetAtomWithIdx(C).SetNumExplicitHs(0)   \n",
    "    mol.GetBondBetweenAtoms(C, N).SetBondType(Chem.rdchem.BondType.DOUBLE) \n",
    "    mol.GetBondBetweenAtoms(C, S).SetBondType(Chem.rdchem.BondType.SINGLE)  \n",
    "    mol = Chem.Mol(mol)\n",
    "    mol.GetBondBetweenAtoms(C, S).SetBondType(Chem.rdchem.BondType.DOUBLE)   \n",
    "    edMol = Chem.EditableMol(mol)\n",
    "    edMol.RemoveAtom(At)\n",
    "    mol = edMol.GetMol() \n",
    "    Chem.SanitizeMol(mol, sanitizeOps=Chem.SANITIZE_SETHYBRIDIZATION)\n",
    "    row['ligand_pdb'    ] = mol\n",
    "    row['warhead'          ] = 'Isothiocyanate'\n",
    "    row['ligand_type'      ] = 'inhibitor' \n",
    "    row['recovery_strategy'] = 'automated'\n",
    "    row['reaction_type'    ] = 'Addition'  \n",
    "    df.update( pd.DataFrame(data=row, index=[index])) "
   ]
  },
  {
   "cell_type": "markdown",
   "metadata": {},
   "source": [
    "## AdductMatch"
   ]
  },
  {
   "cell_type": "code",
   "execution_count": 44,
   "metadata": {
    "ExecuteTime": {
     "end_time": "2020-10-22T05:49:37.410898Z",
     "start_time": "2020-10-22T05:49:33.283229Z"
    }
   },
   "outputs": [
    {
     "name": "stderr",
     "output_type": "stream",
     "text": [
      "RDKit ERROR: [01:49:35] Explicit valence for atom # 11 N, 4, is greater than permitted\n"
     ]
    },
    {
     "name": "stdout",
     "output_type": "stream",
     "text": [
      "10150\n",
      "10150 0\n"
     ]
    }
   ],
   "source": [
    "df['ligand_smiles'] = df.apply(lambda r: ToSmiles(r.ligand_pdb, r.ligand_smiles) , axis=1)  \n",
    "\n",
    "code2smiles = {} \n",
    "for index, ligand_name in df['ligand_name'].to_dict().items():\n",
    "    smiles = df.loc[index,'ligand_smiles']\n",
    "    if type(smiles) != str: continue\n",
    "    try:\n",
    "        smiles = Chem.MolToSmiles(Chem.MolFromSmiles(smiles))\n",
    "    except:\n",
    "        #print(index, smiles)\n",
    "        pass\n",
    "    if ligand_name not in code2smiles:\n",
    "        code2smiles[ligand_name] = set()\n",
    "    code2smiles[ligand_name].add(smiles)\n",
    "\n",
    "isna = df[df['ligand_type'].isna()] \n",
    "notna = df[df['ligand_type'].notna()] \n",
    "print(len(notna))\n",
    "for index, row in isna.iterrows():\n",
    "    row = row.to_dict() \n",
    "    row['recovery_strategy'] = 'adduct_matching'\n",
    "    ligand_name           = row['ligand_name'          ] \n",
    "    ligand_bond_atom_name = row['ligand_bond_atom_name'] \n",
    "    aa_name               = row['aa_name'              ]  \n",
    "    aa_bond_atom_name     = row['aa_bond_atom_name'    ] \n",
    "    #tmp_ = notna[(notna['ligand_name']==ligand_name) & (notna['ligand_bond_atom_name']==ligand_bond_atom_name) & (notna['aa_name']==aa_name) & (notna['aa_bond_atom_name']==aa_bond_atom_name)]  #\n",
    "    tmp_ = notna[(notna['ligand_name']==ligand_name) & (notna['ligand_bond_atom_name']==ligand_bond_atom_name) & (notna['aa_name']==aa_name) \\\n",
    "                 & (notna['aa_bond_atom_name']==aa_bond_atom_name) & (notna['recovery_strategy']=='manual')] \n",
    "    if len(tmp_):  \n",
    "        adduct_pdb,warhead,ligand_pdb,reaction_type,ligand_type = df.loc[tmp_.index[0], ['adduct_pdb','warhead','ligand_pdb','reaction_type','ligand_type']]\n",
    "        row['warhead'] = warhead\n",
    "        row['ligand_pdb'] = ligand_pdb\n",
    "        row['reaction_type'] = reaction_type\n",
    "        row['ligand_type'] = ligand_type \n",
    "        if ligand_name in code2smiles:\n",
    "            smiles = code2smiles[ligand_name]\n",
    "            row['note'] = '.'.join(smiles) \n",
    "        df.update( pd.DataFrame(data=row, index=[index]))  \n",
    "print(len(df[df['ligand_type'].notna()]), len(df[df['ligand_type'].isna()] ))"
   ]
  },
  {
   "cell_type": "raw",
   "metadata": {},
   "source": [
    "9931 191"
   ]
  },
  {
   "cell_type": "code",
   "execution_count": 45,
   "metadata": {
    "ExecuteTime": {
     "end_time": "2020-10-22T05:49:37.419723Z",
     "start_time": "2020-10-22T05:49:37.413013Z"
    }
   },
   "outputs": [
    {
     "data": {
      "text/plain": [
       "0"
      ]
     },
     "execution_count": 45,
     "metadata": {},
     "output_type": "execute_result"
    }
   ],
   "source": [
    "len(df[df['ligand_type'].isna()])"
   ]
  },
  {
   "cell_type": "raw",
   "metadata": {},
   "source": [
    "import ast\n",
    "with open('/var/www/dav/database/data/knowledge_base.txt', 'r') as fr:\n",
    "    for line in fr.readlines(): \n",
    "        dict_ = ast.literal_eval(line)\n",
    "        name = dict_['adduct_name']\n",
    "        dict_['recovery_strategy'] = 'manual'\n",
    "        df.update(pd.DataFrame(data=dict_, index=[name])) "
   ]
  },
  {
   "cell_type": "code",
   "execution_count": 46,
   "metadata": {
    "ExecuteTime": {
     "end_time": "2020-10-22T05:49:38.374713Z",
     "start_time": "2020-10-22T05:49:37.421125Z"
    }
   },
   "outputs": [],
   "source": [
    "df.to_pickle('data/df.pkl')  "
   ]
  }
 ],
 "metadata": {
  "kernelspec": {
   "display_name": "Python 3",
   "language": "python",
   "name": "python3"
  },
  "language_info": {
   "codemirror_mode": {
    "name": "ipython",
    "version": 3
   },
   "file_extension": ".py",
   "mimetype": "text/x-python",
   "name": "python",
   "nbconvert_exporter": "python",
   "pygments_lexer": "ipython3",
   "version": "3.6.5"
  }
 },
 "nbformat": 4,
 "nbformat_minor": 2
}
