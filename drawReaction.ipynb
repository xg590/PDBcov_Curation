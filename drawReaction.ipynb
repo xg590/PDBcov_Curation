{
 "cells": [
  {
   "cell_type": "code",
   "execution_count": 1,
   "metadata": {
    "ExecuteTime": {
     "end_time": "2021-01-08T17:46:09.594009Z",
     "start_time": "2021-01-08T17:46:07.676708Z"
    },
    "code_folding": [
     21
    ]
   },
   "outputs": [
    {
     "data": {
      "text/html": [
       "<style>.container { width:100% !important; }</style>"
      ],
      "text/plain": [
       "<IPython.core.display.HTML object>"
      ]
     },
     "metadata": {},
     "output_type": "display_data"
    }
   ],
   "source": [
    "# pip install pickle5 pandas biopython matplotlib drawSvg bs4\n",
    "import io, os, re, pickle5, time, math, urllib, Bio.PDB, sys, pandas as pd\n",
    "from rdkit import Chem, RDConfig\n",
    "from rdkit.Chem import AllChem, PandasTools, Draw, rdDepictor\n",
    "from rdkit.Chem.Draw import IPythonConsole, rdMolDraw2D, MolDraw2D\n",
    "from rdkit.Geometry.rdGeometry import Point3D\n",
    "PandasTools.RenderImagesInAllDataFrames(images=True)\n",
    "#pd.set_option('display.max_columns', None)\n",
    "#pd.set_option('display.max_rows', None)\n",
    "from IPython.core.display import display, HTML, SVG\n",
    "display(HTML(\"<style>.container { width:100% !important; }</style>\")) \n",
    "df = pd.read_pickle('df_cov_sanitized.pkl') \n",
    "df['adduct_pdb'] = df.apply(lambda x: Chem.ReplaceSubstructs(x.adduct_pdb, Chem.MolFromSmarts('[At]'), Chem.MolFromSmiles(f'{x.aa_bond_atom_name[0]}[At]'), replaceAll=True)[0], axis=1)\n",
    "\n",
    "from matplotlib.colors import ColorConverter \n",
    "def get_shape(root):\n",
    "    _1,_2,width,height=root.attrib['viewBox'].split()\n",
    "    return int(width), int(height) \n",
    "\n",
    "import xml.etree.ElementTree as ET\n",
    "def drawReactionInSVG(rctn1_svg, rctn2_svg, prdct_svg): \n",
    "    rctn1_root = ET.fromstring(rctn1_svg)\n",
    "    rctn2_root = ET.fromstring(rctn2_svg)\n",
    "    prdct_root = ET.fromstring(prdct_svg)\n",
    "    \n",
    "    rctn1_width, rctn1_height = get_shape(rctn1_root)\n",
    "    rctn2_width, rctn2_height = get_shape(rctn2_root)\n",
    "    prdct_width, prdct_height = get_shape(prdct_root)\n",
    "    max_height  = max([rctn1_height, rctn2_height, prdct_height,10])\n",
    "    half_height = max_height/2\n",
    "    full_width  = rctn1_width + 10 + rctn2_width + 40 + prdct_width \n",
    "    \n",
    "    svg = ET.Element('svg', attrib={'viewBox':f'0 0 {full_width} {max_height}'})\n",
    "    \n",
    "    rctn1_symbol = ET.SubElement(svg, 'symbol', attrib={'id':'rctn1'}) \n",
    "    for child in rctn1_root:\n",
    "        #if child.tag.endswith('rect'): child.set('style', 'fill:black;stroke:1')\n",
    "        if child.tag=='ellipse':\n",
    "            child.set('rx', '16')\n",
    "            child.set('ry', '16')\n",
    "            child.set('style', 'fill:none;stroke:red;stroke-width:4px;stroke-opacity:0.3')\n",
    "        rctn1_symbol.append(child)\n",
    "        \n",
    "    plus_symbol  = ET.SubElement(svg, 'symbol', attrib={'id':'plus'})\n",
    "    _ = ET.SubElement( plus_symbol, 'line', attrib={'x1':'0', 'x2':'10', 'y1': '5', 'y2': '5',   'stroke':'rgb(0, 0, 0)', 'stroke-width':'1'})\n",
    "    _ = ET.SubElement( plus_symbol, 'line', attrib={'x1':'5', 'x2': '5', 'y1': '0', 'y2':'10',   'stroke':'rgb(0, 0, 0)', 'stroke-width':'1'})\n",
    "    \n",
    "    rctn2_symbol = ET.SubElement(svg, 'symbol', attrib={'id':'rctn2'}) \n",
    "    for child in rctn2_root:\n",
    "        #if child.tag.endswith('rect'): child.set('style', 'fill:black;stroke:1')\n",
    "        rctn2_symbol.append(child)\n",
    "    \n",
    "    arrow_symbol = ET.SubElement(svg, 'symbol', attrib={'id':'arrow'})\n",
    "    _ = ET.SubElement(arrow_symbol, 'line', attrib={'x1':'0', 'x2': '35', 'y1':'5', 'y2': '5',   'stroke':'rgb(0, 0, 0)', 'stroke-width':'1'})\n",
    "    _ = ET.SubElement(arrow_symbol, 'path', attrib={'d':'M 25 1 L 40 5 L 25 9 C 30 5 30 5 25 1', 'stroke-miterlimit':'1', 'stroke-width':'1'})\n",
    "    \n",
    "    prdct_symbol = ET.SubElement(svg, 'symbol', attrib={'id':'prdct'}) \n",
    "    for child in prdct_root:\n",
    "        #if child.tag.endswith('rect'): child.set('style', 'fill:black;stroke:1')\n",
    "        prdct_symbol.append(child)    \n",
    "         \n",
    "    _ = ET.SubElement(svg, 'use', attrib={'href': '#rctn1', 'x':'0'                                , 'y':str(half_height-rctn1_height/2)})\n",
    "    _ = ET.SubElement(svg, 'use', attrib={'href':  '#plus', 'x':str(rctn1_width)                   , 'y':str(half_height-5)})\n",
    "    _ = ET.SubElement(svg, 'use', attrib={'href': '#rctn2', 'x':str(rctn1_width+10)                , 'y':str(half_height-rctn2_height/2)})\n",
    "    _ = ET.SubElement(svg, 'use', attrib={'href': '#arrow', 'x':str(rctn1_width+10+rctn2_width)    , 'y':str(half_height-4)})\n",
    "    _ = ET.SubElement(svg, 'use', attrib={'href': '#prdct', 'x':str(rctn1_width+10+rctn2_width+40) , 'y':str(half_height-prdct_height/2)})\n",
    "     \n",
    "    return ET.tostring(svg, encoding=\"unicode\") "
   ]
  },
  {
   "cell_type": "code",
   "execution_count": 2,
   "metadata": {},
   "outputs": [],
   "source": [
    "op = rdMolDraw2D.MolDrawOptions() # https://rdkit.org/docs/source/rdkit.Chem.Draw.rdMolDraw2D.html?#rdkit.Chem.Draw.rdMolDraw2D.MolDrawOptions\n",
    "op.bondLineWidth=2\n",
    "op.maxFontSize=18\n",
    "op.minFontSize=18\n",
    "#op.legendFontSize=18\n",
    "op.fillHighlights=False\n",
    "op.fixedBondLength=24\n",
    "op.centreMoleculesBeforeDrawing=True\n",
    "op.atomHighlightsAreCircles = True\n",
    "op.fontFile = os.path.join(RDConfig.RDCodeDir, 'Chem', 'Draw', 'FreeSans.ttf') # Amadeus.ttf | Telex-Regular.ttf\n",
    "\n",
    "def MolToSVG(res,atom): \n",
    "    m = Chem.MolFromSmiles(f'C{atom[0]}')\n",
    "    m = rdMolDraw2D.PrepareMolForDrawing(m)\n",
    "    drawer = rdMolDraw2D.MolDraw2DSVG(100, 54)\n",
    "    drawer.SetDrawOptions(op) \n",
    "    opts = drawer.drawOptions()\n",
    "    opts.atomLabels[0]=res\n",
    "    opts.atomLabels[1]=atom\n",
    "    drawer.DrawMolecule(m)\n",
    "    drawer.FinishDrawing()\n",
    "    return drawer.GetDrawingText().replace('xmlns=','this_is_garbage=')\n",
    "\n",
    "Acceptable_Nucleophile = [('ASP', 'OD1'), ('ASP', 'OD2'), ('CYS', 'SG'), ('GLU', 'OE1'), ('GLU', 'OE2'), ('HIS', 'ND1'), ('HIS', 'NE2'), ('LYS', 'NZ'), ('MET', 'SD'),  ('THR', 'OG1'), ('SER', 'OG'), ('TYR', 'OH')]\n",
    "Acceptable_Nucleophile = [('ASP', 'OH'), ('CYS', 'SH'), ('GLU', 'OH'), ('GLU', 'OH'), ('HIS', 'N'), ('HIS', 'N'), ('LYS', 'NH2'), ('MET', 'SCH3'),  ('THR', 'OH'), ('SER', 'OH'), ('TYR', 'OH')]\n",
    "Amino_Acids_SVGs = {i:MolToSVG(i,j) for i, j in Acceptable_Nucleophile}"
   ]
  },
  {
   "cell_type": "code",
   "execution_count": 3,
   "metadata": {
    "scrolled": false
   },
   "outputs": [
    {
     "name": "stdout",
     "output_type": "stream",
     "text": [
      "4135\n",
      "4136\n",
      "4137\n",
      "4138\n",
      "4139\n",
      "4140\n"
     ]
    }
   ],
   "source": [
    "op = rdMolDraw2D.MolDrawOptions() # https://rdkit.org/docs/source/rdkit.Chem.Draw.rdMolDraw2D.html?#rdkit.Chem.Draw.rdMolDraw2D.MolDrawOptions\n",
    "op.bondLineWidth=2\n",
    "op.maxFontSize=18\n",
    "op.minFontSize=18\n",
    "#op.legendFontSize=18\n",
    "op.fillHighlights=False\n",
    "op.fixedBondLength=24\n",
    "op.centreMoleculesBeforeDrawing=True\n",
    "op.atomHighlightsAreCircles = True\n",
    "op.fontFile = os.path.join(RDConfig.RDCodeDir, 'Chem', 'Draw', 'FreeSans.ttf') # Amadeus.ttf | Telex-Regular.ttf\n",
    "\n",
    "def MolToSVG(m):\n",
    "    if not m.GetNumConformers():\n",
    "        rdDepictor.Compute2DCoords(m)\n",
    "\n",
    "    drawer = rdMolDraw2D.MolDraw2DSVG(5000,5000)\n",
    "    drawer.SetDrawOptions(op)\n",
    "    drawer.DrawMolecule(m)\n",
    "    drawer.FinishDrawing()\n",
    "\n",
    "    _ = re.findall(\"(?<=d\\=\\').*?(?=\\')\",  drawer.GetDrawingText(), re.DOTALL)\n",
    "    _ = ' '.join(_)\n",
    "    _ = re.sub('[a-zA-Z,\\n]', ' ', _)\n",
    "    _ = [float(f) for f in _.split()]\n",
    "    _ = int(max(_) - min(_)) + 1\n",
    "\n",
    "    drawer = rdMolDraw2D.MolDraw2DSVG(_, _)\n",
    "    drawer.SetDrawOptions(op)\n",
    "    drawer.DrawMolecule(m)\n",
    "    drawer.FinishDrawing()\n",
    "    return drawer.GetDrawingText().replace('xmlns=','this_is_garbage=')\n",
    "\n",
    "\n",
    "color_code_red = ColorConverter().to_rgb('red')\n",
    "def get_proper_size(m):\n",
    "    drawer = rdMolDraw2D.MolDraw2DSVG(5000,5000)\n",
    "    #drawer.ClearDrawing()\n",
    "    drawer.SetDrawOptions(op)\n",
    "    m = rdMolDraw2D.PrepareMolForDrawing(m)\n",
    "    drawer.DrawMolecule(m)\n",
    "    drawer.FinishDrawing()\n",
    "\n",
    "    _ = re.findall(\"(?<=d\\=\\').*?(?=\\')\",  drawer.GetDrawingText(), re.DOTALL)\n",
    "    _ = ' '.join(_)\n",
    "    _ = re.sub('[a-zA-Z,\\n]', ' ', _)\n",
    "    _ = [float(f) for f in _.split()]\n",
    "    _ = int(max(_) - min(_)) + 1\n",
    "    return _, _\n",
    "\n",
    "svg_collector = {}\n",
    "for _, row in df[df['warhead_smiles'].notna()].iterrows():\n",
    "    binder_pdb = row['binder_pdb']\n",
    "    try:\n",
    "        warhead_atom_idxs = binder_pdb.GetSubstructMatches(Chem.MolFromSmarts(row['warhead_smiles']))\n",
    "    except:\n",
    "        warhead_atom_idxs = []\n",
    "    aa_svg     = Amino_Acids_SVGs[row['aa_name']]\n",
    "\n",
    "    adduct_pdb = row['adduct_pdb']\n",
    "    try:\n",
    "        size = get_proper_size(adduct_pdb)\n",
    "    except:\n",
    "        adduct_pdb = Chem.MolFromSmiles(row['adduct_smiles'])\n",
    "        adduct_pdb = Chem.ReplaceSubstructs(adduct_pdb, Chem.MolFromSmarts('[At]'), Chem.MolFromSmiles(f'{row[\"aa_bond_atom_name\"][0]}[At]'), replaceAll=True)[0]\n",
    "        size = get_proper_size(adduct_pdb)\n",
    "        print(_) \n",
    "    drawer = rdMolDraw2D.MolDraw2DSVG(*size)\n",
    "    drawer.SetDrawOptions(op)\n",
    "    At_idx = [a.GetIdx() for a in adduct_pdb.GetAtoms() if a.GetSymbol()=='At'][0]\n",
    "    opts = drawer.drawOptions()\n",
    "    opts.atomLabels[At_idx]=row['aa_name']\n",
    "    drawer.DrawMolecule(adduct_pdb)\n",
    "    drawer.FinishDrawing()\n",
    "    adduct_svg = drawer.GetDrawingText().replace('xmlns=','this_is_garbage=')\n",
    "\n",
    "\n",
    "    size = get_proper_size(binder_pdb)\n",
    "    binder_pdb = rdMolDraw2D.PrepareMolForDrawing(binder_pdb)\n",
    "    drawer = rdMolDraw2D.MolDraw2DSVG(*size)\n",
    "    drawer.SetDrawOptions(op)\n",
    "    if len(warhead_atom_idxs) != 1:\n",
    "        drawer.DrawMolecule(binder_pdb)\n",
    "    else:\n",
    "        indi_op = drawer.drawOptions() \n",
    "        drawer.DrawMolecule(binder_pdb, highlightAtoms=warhead_atom_idxs[0],highlightBonds=[]) \n",
    "\n",
    "    drawer.FinishDrawing()\n",
    "    binder_svg = drawer.GetDrawingText().replace('xmlns=','this_is_garbage=')\n",
    "\n",
    "    reaction_svg = drawReactionInSVG(binder_svg, aa_svg, adduct_svg)\n",
    "    with open(f\"svg/{row['adduct_name']}.html\", 'w') as fw:\n",
    "        fw.write('<!DOCTYPE html><html lang=\"en-us\" dir=\"ltr\" ><body>\\n\\n')\n",
    "        fw.write(reaction_svg)\n",
    "        fw.write('\\n\\n</body></html>') "
   ]
  },
  {
   "cell_type": "raw",
   "metadata": {
    "ExecuteTime": {
     "end_time": "2021-01-08T17:46:09.594009Z",
     "start_time": "2021-01-08T17:46:07.676708Z"
    },
    "code_folding": [
     21
    ]
   },
   "source": [
    "from PIL import Image, ImageOps, ImageChops \n",
    "im = Chem.Draw.MolToImage(m, size=(i, i))\n",
    "bg = Image.new(im.mode, im.size, color='white')\n",
    "diff = ImageChops.difference(im, bg)\n",
    "bbox = diff.getbbox()\n",
    "if bbox:\n",
    "    new_size = im.crop(bbox).size  "
   ]
  }
 ],
 "metadata": {
  "kernelspec": {
   "display_name": "Python 3",
   "language": "python",
   "name": "python3"
  },
  "language_info": {
   "codemirror_mode": {
    "name": "ipython",
    "version": 3
   },
   "file_extension": ".py",
   "mimetype": "text/x-python",
   "name": "python",
   "nbconvert_exporter": "python",
   "pygments_lexer": "ipython3",
   "version": "3.7.9"
  },
  "toc": {
   "base_numbering": 1,
   "nav_menu": {},
   "number_sections": true,
   "sideBar": true,
   "skip_h1_title": false,
   "title_cell": "Table of Contents",
   "title_sidebar": "Contents",
   "toc_cell": false,
   "toc_position": {},
   "toc_section_display": true,
   "toc_window_display": false
  }
 },
 "nbformat": 4,
 "nbformat_minor": 4
}
