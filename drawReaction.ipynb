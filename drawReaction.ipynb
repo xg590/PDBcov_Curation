{
 "cells": [
  {
   "cell_type": "code",
   "execution_count": 1,
   "metadata": {
    "ExecuteTime": {
     "end_time": "2021-01-08T00:18:01.634255Z",
     "start_time": "2021-01-08T00:17:59.226096Z"
    }
   },
   "outputs": [
    {
     "name": "stderr",
     "output_type": "stream",
     "text": [
      "RDKit WARNING: [19:18:00] Enabling RDKit 2019.09.1 jupyter extensions\n"
     ]
    },
    {
     "data": {
      "text/html": [
       "<style>.container { width:100% !important; }</style>"
      ],
      "text/plain": [
       "<IPython.core.display.HTML object>"
      ]
     },
     "metadata": {},
     "output_type": "display_data"
    }
   ],
   "source": [
    "# pip install pickle5 pandas biopython matplotlib drawSvg bs4\n",
    "import io, pickle5, time, urllib, Bio.PDB, sys, pandas as pd\n",
    "from rdkit import Chem\n",
    "from rdkit.Chem import AllChem \n",
    "from rdkit.Chem.Draw import IPythonConsole  \n",
    "from rdkit.Geometry.rdGeometry import Point3D \n",
    "from rdkit.Chem import PandasTools \n",
    "PandasTools.RenderImagesInAllDataFrames(images=True)  \n",
    "#pd.set_option('display.max_columns', None) \n",
    "#pd.set_option('display.max_rows', None) \n",
    "from IPython.core.display import display, HTML, SVG\n",
    "display(HTML(\"<style>.container { width:100% !important; }</style>\")) \n",
    "\n",
    "df = pd.read_pickle('df_cov_sanitized.pkl')\n",
    "#df['adduct_bin']  = df.apply(lambda x: x.adduct_pdb.ToBinary(), axis=1)  \n",
    "#df['binder_bin']  = df.apply(lambda x: x.binder_pdb.ToBinary(), axis=1)  \n",
    "#df.drop(columns=['adduct_pdb','binder_pdb']).to_csv('df_cov_sanitized.csv')"
   ]
  },
  {
   "cell_type": "code",
   "execution_count": 2,
   "metadata": {
    "ExecuteTime": {
     "end_time": "2021-01-08T00:18:01.649681Z",
     "start_time": "2021-01-08T00:18:01.641283Z"
    }
   },
   "outputs": [],
   "source": [
    "from rdkit.Chem import Draw  \n",
    "from rdkit.Chem import rdDepictor\n",
    "from rdkit.Chem.Draw import rdMolDraw2D \n",
    "\n",
    "Amino_Acids = {'ALA': 'C[C@@H](C(=O)O)N', 'ARG': 'C(C[C@@H](C(=O)O)N)CNC(=[NH2+])N', 'ASN': 'C([C@@H](C(=O)O)N)C(=O)N', 'ASP': 'C([C@@H](C(=O)O)N)C(=O)O', 'CYS': 'C([C@@H](C(=O)O)N)S', 'GLN': 'C(CC(=O)N)[C@@H](C(=O)O)N', 'GLU': 'C(CC(=O)O)[C@@H](C(=O)O)N', 'GLY': 'C(C(=O)O)N', 'HIS': 'c1c([nH+]c[nH]1)C[C@@H](C(=O)O)N', 'ILE': 'CC[C@H](C)[C@@H](C(=O)O)N', 'LEU': 'CC(C)C[C@@H](C(=O)O)N', 'LYS': 'C(CC[NH3+])C[C@@H](C(=O)O)N', 'MET': 'CSCC[C@@H](C(=O)O)N', 'PHE': 'c1ccc(cc1)C[C@@H](C(=O)O)N', 'PRO': 'C1C[C@H](NC1)C(=O)O', 'SER': 'C([C@@H](C(=O)O)N)O', 'THR': 'C[C@H]([C@@H](C(=O)O)N)O', 'TRP': 'c1ccc2c(c1)c(c[nH]2)C[C@@H](C(=O)O)N', 'TYR': 'c1cc(ccc1C[C@@H](C(=O)O)N)O', 'VAL': 'CC(C)[C@@H](C(=O)O)N'}"
   ]
  },
  {
   "cell_type": "code",
   "execution_count": 3,
   "metadata": {
    "ExecuteTime": {
     "end_time": "2021-01-08T00:18:03.533138Z",
     "start_time": "2021-01-08T00:18:01.686364Z"
    }
   },
   "outputs": [
    {
     "data": {
      "text/plain": [
       "(821, 457)"
      ]
     },
     "execution_count": 3,
     "metadata": {},
     "output_type": "execute_result"
    }
   ],
   "source": [
    "from PIL import Image, ImageOps, ImageChops\n",
    "\n",
    "def get_proper_size(m):\n",
    "    i = 1000\n",
    "    old_size = None\n",
    "    while True: \n",
    "        im = Chem.Draw.MolToImage(m, size=(i, i))\n",
    "        bg = Image.new(im.mode, im.size, color='white')\n",
    "        diff = ImageChops.difference(im, bg)\n",
    "        bbox = diff.getbbox()\n",
    "        if bbox:\n",
    "            new_size = im.crop(bbox).size\n",
    "            if max(new_size)<i-200:\n",
    "                return new_size\n",
    "            if new_size == old_size:\n",
    "                return new_size\n",
    "            else:\n",
    "                old_size=new_size\n",
    "        else:\n",
    "            raise\n",
    "        i += 200\n",
    "\n",
    "s = '[H][C@@]([C@]([H])(CO)O[C@@]([H])(O[C@]([C@]([H])(CO)O[C@](OC[C@](O[C@]([H])(O[C@@]([C@@]([H])(CO)O[C@@]([H])(O[C@@]([H])([C@@]([H])1O)O[C@@]([H])(CO)[C@]([H])(O[C@]([H])([C@]([H])2O)O[C@@]([H])(CO[C@@]([H])([C@@]([H])3O)O[C@@]([H])(CO)[C@]([H])(O[C@@]([H])([C@@]([H])4O)O[C@@]([H])(CO)[C@]([H])(O)[C@]4(O)[H])[C@]3(O)[H])[C@@]([H])(O)[C@@]2(O)[H])[C@]1(O)[H])[C@]([H])5O)([H])[C@@]5(O)[H])[C@]([H])6O)([H])[C@@]([H])(O)[C@@]6(O)[H])([H])[C@@]([H])7O)([H])[C@]7(O)[H])[C@@]([H])8O)(O)[C@]8(O)[H]'\n",
    "get_proper_size(Chem.MolFromSmiles(s))"
   ]
  },
  {
   "cell_type": "code",
   "execution_count": 4,
   "metadata": {
    "ExecuteTime": {
     "end_time": "2021-01-08T00:18:11.485906Z",
     "start_time": "2021-01-08T00:18:03.546672Z"
    },
    "scrolled": false
   },
   "outputs": [],
   "source": [
    "Amino_Acids_SVGs = {}\n",
    "for aa_name, aa_smiles in Amino_Acids.items(): \n",
    "    aa_mol = Chem.MolFromSmiles(aa_smiles)\n",
    "    size   = get_proper_size(aa_mol)\n",
    "    if not aa_mol.GetNumConformers():\n",
    "        rdDepictor.Compute2DCoords(aa_mol) \n",
    "    drawer = rdMolDraw2D.MolDraw2DSVG(*size)\n",
    "    drawer.DrawMolecule(aa_mol)\n",
    "    drawer.FinishDrawing()\n",
    "    aa_svg = drawer.GetDrawingText().replace('xmlns=','this_is_garbage=')\n",
    "    Amino_Acids_SVGs[aa_name] = aa_svg"
   ]
  },
  {
   "cell_type": "code",
   "execution_count": 5,
   "metadata": {
    "ExecuteTime": {
     "end_time": "2021-01-08T00:18:12.427597Z",
     "start_time": "2021-01-08T00:18:11.490249Z"
    }
   },
   "outputs": [],
   "source": [
    "collector = set()\n",
    "for _, row in df.iterrows(): \n",
    "    binder_pdb = row['binder_pdb']  \n",
    "    size   = get_proper_size(binder_pdb)\n",
    "    if not binder_pdb.GetNumConformers():\n",
    "        rdDepictor.Compute2DCoords(binder_pdb) \n",
    "    drawer = rdMolDraw2D.MolDraw2DSVG(*size)\n",
    "    drawer.DrawMolecule(binder_pdb)\n",
    "    drawer.FinishDrawing()\n",
    "    binder_svg = drawer.GetDrawingText().replace('xmlns=','this_is_garbage=')   \n",
    "    \n",
    "    aa_name    = row['aa_name'] \n",
    "    aa_svg     = Amino_Acids_SVGs[aa_name]\n",
    "     \n",
    "    adduct_pdb = row['adduct_pdb']  \n",
    "    size   = get_proper_size(adduct_pdb)\n",
    "    if not adduct_pdb.GetNumConformers():\n",
    "        rdDepictor.Compute2DCoords(adduct_pdb) \n",
    "    drawer = rdMolDraw2D.MolDraw2DSVG(*size)\n",
    "    drawer.DrawMolecule(adduct_pdb,confId=0)\n",
    "    drawer.FinishDrawing()\n",
    "    adduct_svg = drawer.GetDrawingText().replace('xmlns=','this_is_garbage=')  \n",
    "    break"
   ]
  },
  {
   "cell_type": "code",
   "execution_count": 6,
   "metadata": {
    "ExecuteTime": {
     "end_time": "2021-01-08T00:18:12.459599Z",
     "start_time": "2021-01-08T00:18:12.436898Z"
    }
   },
   "outputs": [],
   "source": [
    "import xml.etree.ElementTree as ET\n",
    "binder_root = ET.fromstring(binder_svg)\n",
    "aa_root     = ET.fromstring(aa_svg)\n",
    "adduct_root = ET.fromstring(adduct_svg)\n",
    "\n",
    "def get_shape(root):\n",
    "    _,_,width,height=root.attrib['viewBox'].split()\n",
    "    return int(width), int(height) \n",
    "\n",
    "binder_width, binder_height = get_shape(binder_root)\n",
    "aa_width    ,     aa_height = get_shape(    aa_root)\n",
    "adduct_width, adduct_height = get_shape(adduct_root)\n",
    "\n",
    "max_height = max([binder_height, aa_height, adduct_height,10])\n",
    "full_width = binder_width + 10 + aa_width + 40 + adduct_width "
   ]
  },
  {
   "cell_type": "code",
   "execution_count": 7,
   "metadata": {
    "ExecuteTime": {
     "end_time": "2021-01-08T00:18:12.552419Z",
     "start_time": "2021-01-08T00:18:12.470642Z"
    },
    "code_folding": []
   },
   "outputs": [
    {
     "data": {
      "image/svg+xml": [
       "<svg viewBox=\"0 0 769 96\"><symbol id=\"aa\"><path class=\"bond-0\" d=\"M 99.6285,30.7497 L 77,51.5887\" style=\"fill:none;fill-rule:evenodd;stroke:#000000;stroke-width:2px;stroke-linecap:butt;stroke-linejoin:miter;stroke-opacity:1\"/>\n",
       "<path class=\"bond-5\" d=\"M 99.6285,30.7497 L 109.693,33.8955\" style=\"fill:none;fill-rule:evenodd;stroke:#000000;stroke-width:2px;stroke-linecap:butt;stroke-linejoin:miter;stroke-opacity:1\"/>\n",
       "<path class=\"bond-5\" d=\"M 109.693,33.8955 L 119.757,37.0414\" style=\"fill:none;fill-rule:evenodd;stroke:#FF0000;stroke-width:2px;stroke-linecap:butt;stroke-linejoin:miter;stroke-opacity:1\"/>\n",
       "<path class=\"bond-1\" d=\"M 77,51.5887 L 47.6387,42.4113\" style=\"fill:none;fill-rule:evenodd;stroke:#000000;stroke-width:2px;stroke-linecap:butt;stroke-linejoin:miter;stroke-opacity:1\"/>\n",
       "<path class=\"bond-4\" d=\"M 77,51.5887 L 79.7339,63.777\" style=\"fill:none;fill-rule:evenodd;stroke:#000000;stroke-width:2px;stroke-linecap:butt;stroke-linejoin:miter;stroke-opacity:1\"/>\n",
       "<path class=\"bond-4\" d=\"M 79.7339,63.777 L 82.4678,75.9653\" style=\"fill:none;fill-rule:evenodd;stroke:#0000FF;stroke-width:2px;stroke-linecap:butt;stroke-linejoin:miter;stroke-opacity:1\"/>\n",
       "<path class=\"bond-2\" d=\"M 50.6403,41.738 L 47.8489,29.2934\" style=\"fill:none;fill-rule:evenodd;stroke:#000000;stroke-width:2px;stroke-linecap:butt;stroke-linejoin:miter;stroke-opacity:1\"/>\n",
       "<path class=\"bond-2\" d=\"M 47.8489,29.2934 L 45.0575,16.8487\" style=\"fill:none;fill-rule:evenodd;stroke:#FF0000;stroke-width:2px;stroke-linecap:butt;stroke-linejoin:miter;stroke-opacity:1\"/>\n",
       "<path class=\"bond-2\" d=\"M 44.637,43.0846 L 41.8456,30.6399\" style=\"fill:none;fill-rule:evenodd;stroke:#000000;stroke-width:2px;stroke-linecap:butt;stroke-linejoin:miter;stroke-opacity:1\"/>\n",
       "<path class=\"bond-2\" d=\"M 41.8456,30.6399 L 39.0542,18.1953\" style=\"fill:none;fill-rule:evenodd;stroke:#FF0000;stroke-width:2px;stroke-linecap:butt;stroke-linejoin:miter;stroke-opacity:1\"/>\n",
       "<path class=\"bond-3\" d=\"M 47.6387,42.4113 L 39.1081,50.2673\" style=\"fill:none;fill-rule:evenodd;stroke:#000000;stroke-width:2px;stroke-linecap:butt;stroke-linejoin:miter;stroke-opacity:1\"/>\n",
       "<path class=\"bond-3\" d=\"M 39.1081,50.2673 L 30.5775,58.1233\" style=\"fill:none;fill-rule:evenodd;stroke:#FF0000;stroke-width:2px;stroke-linecap:butt;stroke-linejoin:miter;stroke-opacity:1\"/>\n",
       "<text x=\"36.1173\" y=\"17.522\" style=\"font-size:10px;font-style:normal;font-weight:normal;fill-opacity:1;stroke:none;font-family:sans-serif;text-anchor:start;fill:#FF0000\"><tspan>O</tspan></text>\n",
       "<text x=\"15.7778\" y=\"68.3773\" style=\"font-size:10px;font-style:normal;font-weight:normal;fill-opacity:1;stroke:none;font-family:sans-serif;text-anchor:start;fill:#FF0000\"><tspan>HO</tspan></text>\n",
       "<text x=\"73.1341\" y=\"87.2448\" style=\"font-size:10px;font-style:normal;font-weight:normal;fill-opacity:1;stroke:none;font-family:sans-serif;text-anchor:start;fill:#0000FF\"><tspan>NH</tspan><tspan style=\"baseline-shift:sub;font-size:7.5px;\">2</tspan><tspan/></text>\n",
       "<text x=\"119.757\" y=\"45.0541\" style=\"font-size:10px;font-style:normal;font-weight:normal;fill-opacity:1;stroke:none;font-family:sans-serif;text-anchor:start;fill:#FF0000\"><tspan>OH</tspan></text>\n",
       "</symbol><symbol id=\"binder\"><path class=\"bond-0\" d=\"M 12.8182,42.6645 L 44.6709,28.2366\" style=\"fill:none;fill-rule:evenodd;stroke:#000000;stroke-width:2px;stroke-linecap:butt;stroke-linejoin:miter;stroke-opacity:1\"/>\n",
       "<path class=\"bond-1\" d=\"M 44.6709,28.2366 L 73.0921,48.608\" style=\"fill:none;fill-rule:evenodd;stroke:#000000;stroke-width:2px;stroke-linecap:butt;stroke-linejoin:miter;stroke-opacity:1\"/>\n",
       "<path class=\"bond-2\" d=\"M 73.0921,48.608 L 104.945,34.1801\" style=\"fill:none;fill-rule:evenodd;stroke:#000000;stroke-width:2px;stroke-linecap:butt;stroke-linejoin:miter;stroke-opacity:1\"/>\n",
       "<path class=\"bond-3\" d=\"M 104.945,34.1801 L 133.366,54.5514\" style=\"fill:none;fill-rule:evenodd;stroke:#000000;stroke-width:2px;stroke-linecap:butt;stroke-linejoin:miter;stroke-opacity:1\"/>\n",
       "<path class=\"bond-4\" d=\"M 133.366,54.5514 L 165.219,40.1236\" style=\"fill:none;fill-rule:evenodd;stroke:#000000;stroke-width:2px;stroke-linecap:butt;stroke-linejoin:miter;stroke-opacity:1\"/>\n",
       "<path class=\"bond-5\" d=\"M 165.219,40.1236 L 177.096,48.6368\" style=\"fill:none;fill-rule:evenodd;stroke:#000000;stroke-width:2px;stroke-linecap:butt;stroke-linejoin:miter;stroke-opacity:1\"/>\n",
       "<path class=\"bond-5\" d=\"M 177.096,48.6368 L 188.973,57.15\" style=\"fill:none;fill-rule:evenodd;stroke:#FF7F00;stroke-width:2px;stroke-linecap:butt;stroke-linejoin:miter;stroke-opacity:1\"/>\n",
       "<path class=\"bond-6\" d=\"M 196.269,66.6819 L 205.425,73.2444\" style=\"fill:none;fill-rule:evenodd;stroke:#FF7F00;stroke-width:2px;stroke-linecap:butt;stroke-linejoin:miter;stroke-opacity:1\"/>\n",
       "<path class=\"bond-6\" d=\"M 205.425,73.2444 L 214.581,79.8069\" style=\"fill:none;fill-rule:evenodd;stroke:#FF0000;stroke-width:2px;stroke-linecap:butt;stroke-linejoin:miter;stroke-opacity:1\"/>\n",
       "<path class=\"bond-6\" d=\"M 200.344,60.9976 L 209.499,67.5601\" style=\"fill:none;fill-rule:evenodd;stroke:#FF7F00;stroke-width:2px;stroke-linecap:butt;stroke-linejoin:miter;stroke-opacity:1\"/>\n",
       "<path class=\"bond-6\" d=\"M 209.499,67.5601 L 218.655,74.1226\" style=\"fill:none;fill-rule:evenodd;stroke:#FF0000;stroke-width:2px;stroke-linecap:butt;stroke-linejoin:miter;stroke-opacity:1\"/>\n",
       "<path class=\"bond-7\" d=\"M 197.817,54.6669 L 203.826,46.2843\" style=\"fill:none;fill-rule:evenodd;stroke:#FF7F00;stroke-width:2px;stroke-linecap:butt;stroke-linejoin:miter;stroke-opacity:1\"/>\n",
       "<path class=\"bond-7\" d=\"M 203.826,46.2843 L 209.834,37.9016\" style=\"fill:none;fill-rule:evenodd;stroke:#FF0000;stroke-width:2px;stroke-linecap:butt;stroke-linejoin:miter;stroke-opacity:1\"/>\n",
       "<path class=\"bond-10\" d=\"M 189.463,66.3229 L 183.454,74.7055\" style=\"fill:none;fill-rule:evenodd;stroke:#FF7F00;stroke-width:2px;stroke-linecap:butt;stroke-linejoin:miter;stroke-opacity:1\"/>\n",
       "<path class=\"bond-10\" d=\"M 183.454,74.7055 L 177.446,83.0881\" style=\"fill:none;fill-rule:evenodd;stroke:#33CCCC;stroke-width:2px;stroke-linecap:butt;stroke-linejoin:miter;stroke-opacity:1\"/>\n",
       "<path class=\"bond-8\" d=\"M 219.455,32.6104 L 234.133,34.0578\" style=\"fill:none;fill-rule:evenodd;stroke:#FF0000;stroke-width:2px;stroke-linecap:butt;stroke-linejoin:miter;stroke-opacity:1\"/>\n",
       "<path class=\"bond-8\" d=\"M 234.133,34.0578 L 248.81,35.5051\" style=\"fill:none;fill-rule:evenodd;stroke:#000000;stroke-width:2px;stroke-linecap:butt;stroke-linejoin:miter;stroke-opacity:1\"/>\n",
       "<path class=\"bond-9\" d=\"M 248.81,35.5051 L 269.182,7.08387\" style=\"fill:none;fill-rule:evenodd;stroke:#000000;stroke-width:2px;stroke-linecap:butt;stroke-linejoin:miter;stroke-opacity:1\"/>\n",
       "<text x=\"188.973\" y=\"66.3229\" style=\"font-size:11px;font-style:normal;font-weight:normal;fill-opacity:1;stroke:none;font-family:sans-serif;text-anchor:start;fill:#FF7F00\"><tspan>P</tspan></text>\n",
       "<text x=\"216.618\" y=\"86.6942\" style=\"font-size:11px;font-style:normal;font-weight:normal;fill-opacity:1;stroke:none;font-family:sans-serif;text-anchor:start;fill:#FF0000\"><tspan>O</tspan></text>\n",
       "<text x=\"208.568\" y=\"37.9016\" style=\"font-size:11px;font-style:normal;font-weight:normal;fill-opacity:1;stroke:none;font-family:sans-serif;text-anchor:start;fill:#FF0000\"><tspan>O</tspan></text>\n",
       "<text x=\"168.994\" y=\"94.7441\" style=\"font-size:11px;font-style:normal;font-weight:normal;fill-opacity:1;stroke:none;font-family:sans-serif;text-anchor:start;fill:#33CCCC\"><tspan>F</tspan></text>\n",
       "</symbol><symbol id=\"adduct\"><path class=\"bond-0\" d=\"M 165.219,40.1236 L 133.366,54.5514\" style=\"fill:none;fill-rule:evenodd;stroke:#000000;stroke-width:2px;stroke-linecap:butt;stroke-linejoin:miter;stroke-opacity:1\"/>\n",
       "<path class=\"bond-1\" d=\"M 165.219,40.1236 L 175.364,47.3952\" style=\"fill:none;fill-rule:evenodd;stroke:#000000;stroke-width:2px;stroke-linecap:butt;stroke-linejoin:miter;stroke-opacity:1\"/>\n",
       "<path class=\"bond-1\" d=\"M 175.364,47.3952 L 185.509,54.6669\" style=\"fill:none;fill-rule:evenodd;stroke:#FF7F00;stroke-width:2px;stroke-linecap:butt;stroke-linejoin:miter;stroke-opacity:1\"/>\n",
       "<path class=\"bond-2\" d=\"M 133.366,54.5514 L 104.945,34.1801\" style=\"fill:none;fill-rule:evenodd;stroke:#000000;stroke-width:2px;stroke-linecap:butt;stroke-linejoin:miter;stroke-opacity:1\"/>\n",
       "<path class=\"bond-3\" d=\"M 104.945,34.1801 L 73.0921,48.608\" style=\"fill:none;fill-rule:evenodd;stroke:#000000;stroke-width:2px;stroke-linecap:butt;stroke-linejoin:miter;stroke-opacity:1\"/>\n",
       "<path class=\"bond-4\" d=\"M 73.0921,48.608 L 44.6709,28.2366\" style=\"fill:none;fill-rule:evenodd;stroke:#000000;stroke-width:2px;stroke-linecap:butt;stroke-linejoin:miter;stroke-opacity:1\"/>\n",
       "<path class=\"bond-5\" d=\"M 44.6709,28.2366 L 12.8182,42.6645\" style=\"fill:none;fill-rule:evenodd;stroke:#000000;stroke-width:2px;stroke-linecap:butt;stroke-linejoin:miter;stroke-opacity:1\"/>\n",
       "<path class=\"bond-6\" d=\"M 201.771,66.3229 L 207.851,70.6805\" style=\"fill:none;fill-rule:evenodd;stroke:#FF7F00;stroke-width:2px;stroke-linecap:butt;stroke-linejoin:miter;stroke-opacity:1\"/>\n",
       "<path class=\"bond-6\" d=\"M 207.851,70.6805 L 213.93,75.0382\" style=\"fill:none;fill-rule:evenodd;stroke:#FF0000;stroke-width:2px;stroke-linecap:butt;stroke-linejoin:miter;stroke-opacity:1\"/>\n",
       "<path class=\"bond-7\" d=\"M 197.817,54.6669 L 203.826,46.2843\" style=\"fill:none;fill-rule:evenodd;stroke:#FF7F00;stroke-width:2px;stroke-linecap:butt;stroke-linejoin:miter;stroke-opacity:1\"/>\n",
       "<path class=\"bond-7\" d=\"M 203.826,46.2843 L 209.834,37.9016\" style=\"fill:none;fill-rule:evenodd;stroke:#FF0000;stroke-width:2px;stroke-linecap:butt;stroke-linejoin:miter;stroke-opacity:1\"/>\n",
       "<path class=\"bond-8\" d=\"M 189.463,66.3229 L 183.454,74.7055\" style=\"fill:none;fill-rule:evenodd;stroke:#FF7F00;stroke-width:2px;stroke-linecap:butt;stroke-linejoin:miter;stroke-opacity:1\"/>\n",
       "<path class=\"bond-8\" d=\"M 183.454,74.7055 L 177.446,83.0881\" style=\"fill:none;fill-rule:evenodd;stroke:#000000;stroke-width:2px;stroke-linecap:butt;stroke-linejoin:miter;stroke-opacity:1\"/>\n",
       "<path class=\"bond-9\" d=\"M 219.455,32.6104 L 234.133,34.0578\" style=\"fill:none;fill-rule:evenodd;stroke:#FF0000;stroke-width:2px;stroke-linecap:butt;stroke-linejoin:miter;stroke-opacity:1\"/>\n",
       "<path class=\"bond-9\" d=\"M 234.133,34.0578 L 248.81,35.5051\" style=\"fill:none;fill-rule:evenodd;stroke:#000000;stroke-width:2px;stroke-linecap:butt;stroke-linejoin:miter;stroke-opacity:1\"/>\n",
       "<path class=\"bond-10\" d=\"M 248.81,35.5051 L 269.182,7.08387\" style=\"fill:none;fill-rule:evenodd;stroke:#000000;stroke-width:2px;stroke-linecap:butt;stroke-linejoin:miter;stroke-opacity:1\"/>\n",
       "<text x=\"183.922\" y=\"66.3229\" style=\"font-size:11px;font-style:normal;font-weight:normal;fill-opacity:1;stroke:none;font-family:sans-serif;text-anchor:start;fill:#FF7F00\"><tspan>PH</tspan></text>\n",
       "<text x=\"211.567\" y=\"86.6942\" style=\"font-size:11px;font-style:normal;font-weight:normal;fill-opacity:1;stroke:none;font-family:sans-serif;text-anchor:start;fill:#FF0000\"><tspan>OH</tspan></text>\n",
       "<text x=\"208.568\" y=\"37.9016\" style=\"font-size:11px;font-style:normal;font-weight:normal;fill-opacity:1;stroke:none;font-family:sans-serif;text-anchor:start;fill:#FF0000\"><tspan>O</tspan></text>\n",
       "<text x=\"166.657\" y=\"94.7441\" style=\"font-size:11px;font-style:normal;font-weight:normal;fill-opacity:1;stroke:none;font-family:sans-serif;text-anchor:start;fill:#000000\"><tspan>At</tspan></text>\n",
       "</symbol><symbol id=\"plus\"><line x1=\"0\" x2=\"10\" y1=\"5\" y2=\"5\" stroke=\"rgb(0, 0, 0)\" stroke-width=\"1\"/><line x1=\"5\" x2=\"5\" y1=\"0\" y2=\"10\" stroke=\"rgb(0, 0, 0)\" stroke-width=\"1\"/></symbol><symbol id=\"arrow\"><line x1=\"0\" x2=\"35\" y1=\"5\" y2=\"5\" stroke=\"rgb(0, 0, 0)\" stroke-width=\"1\"/><path d=\"M 25 1 L 40 5 L 25 9 C 30 5 30 5 25 1\" stroke-miterlimit=\"1\" stroke-width=\"1\"/></symbol><use href=\"#binder\" x=\"0\" y=\"0.0\"/><use href=\"#plus\" x=\"282\" y=\"43.0\"/><use href=\"#aa\" x=\"292\" y=\"0.5\"/><use href=\"#adduct\" x=\"487\" y=\"0.0\"/><use href=\"#arrow\" x=\"447\" y=\"44.0\"/></svg>"
      ],
      "text/plain": [
       "<IPython.core.display.SVG object>"
      ]
     },
     "execution_count": 7,
     "metadata": {},
     "output_type": "execute_result"
    }
   ],
   "source": [
    "svg = ET.Element('svg', attrib={'viewBox':f'0 0 {full_width} {max_height}'})\n",
    "\n",
    "aa_symbol = ET.SubElement(svg, 'symbol', attrib={'id':'aa'})\n",
    "aa_root = ET.fromstring(aa_svg)\n",
    "for child in aa_root:\n",
    "    if child.tag.endswith('rect'): \n",
    "        continue\n",
    "        child.set('style', 'fill:black;stroke:1') \n",
    "    aa_symbol.append(child)\n",
    "\n",
    "binder_symbol = ET.SubElement(svg, 'symbol', attrib={'id':'binder'})\n",
    "binder_root = ET.fromstring(binder_svg)\n",
    "for child in binder_root:\n",
    "    if child.tag.endswith('rect'): \n",
    "        continue\n",
    "        child.set('style', 'fill:black;stroke:1') \n",
    "    binder_symbol.append(child)\n",
    "\n",
    "adduct_symbol = ET.SubElement(svg, 'symbol', attrib={'id':'adduct'})\n",
    "adduct_root = ET.fromstring(adduct_svg)\n",
    "for child in adduct_root:\n",
    "    if child.tag.endswith('rect'): \n",
    "        continue\n",
    "        child.set('style', 'fill:black;stroke:1')  \n",
    "    adduct_symbol.append(child)\n",
    "\n",
    "plus_symbol   = ET.SubElement(svg, 'symbol', attrib={'id':'plus'})\n",
    "_ = ET.SubElement( plus_symbol, 'line', attrib={'x1':'0', 'x2':'10', 'y1': '5', 'y2': '5',   'stroke':'rgb(0, 0, 0)', 'stroke-width':'1'})\n",
    "_ = ET.SubElement( plus_symbol, 'line', attrib={'x1':'5', 'x2': '5', 'y1': '0', 'y2':'10',   'stroke':'rgb(0, 0, 0)', 'stroke-width':'1'})\n",
    "\n",
    "arrow_symbol  = ET.SubElement(svg, 'symbol', attrib={'id':'arrow'})\n",
    "_ = ET.SubElement(arrow_symbol, 'line', attrib={'x1':'0', 'x2': '35', 'y1':'5', 'y2': '5',   'stroke':'rgb(0, 0, 0)', 'stroke-width':'1'})\n",
    "_ = ET.SubElement(arrow_symbol, 'path', attrib={'d':'M 25 1 L 40 5 L 25 9 C 30 5 30 5 25 1', 'stroke-miterlimit':'1', 'stroke-width':'1'})\n",
    "\n",
    "y_center = max([binder_height, aa_height, adduct_height, 10])/2\n",
    "_ = ET.SubElement(svg, 'use', attrib={'href':'#binder', 'x':'0'                , 'y':str(y_center-binder_height/2)})\n",
    "_ = ET.SubElement(svg, 'use', attrib={'href':  '#plus', 'x':str(binder_width)  , 'y':str(y_center-5)})\n",
    "_ = ET.SubElement(svg, 'use', attrib={'href':    '#aa', 'x':str(binder_width+10) , 'y':str(y_center-aa_height/2)})\n",
    "_ = ET.SubElement(svg, 'use', attrib={'href':'#adduct', 'x':str(binder_width+10+aa_width+40) , 'y':str(y_center-adduct_height/2)})\n",
    "_ = ET.SubElement(svg, 'use', attrib={'href': '#arrow', 'x':str(binder_width+10+aa_width) , 'y':str(y_center-4)})\n",
    " \n",
    "SVG(ET.tostring(svg))"
   ]
  }
 ],
 "metadata": {
  "kernelspec": {
   "display_name": "Python 3",
   "language": "python",
   "name": "python3"
  },
  "language_info": {
   "codemirror_mode": {
    "name": "ipython",
    "version": 3
   },
   "file_extension": ".py",
   "mimetype": "text/x-python",
   "name": "python",
   "nbconvert_exporter": "python",
   "pygments_lexer": "ipython3",
   "version": "3.8.5"
  },
  "toc": {
   "base_numbering": 1,
   "nav_menu": {},
   "number_sections": true,
   "sideBar": true,
   "skip_h1_title": false,
   "title_cell": "Table of Contents",
   "title_sidebar": "Contents",
   "toc_cell": false,
   "toc_position": {},
   "toc_section_display": true,
   "toc_window_display": false
  }
 },
 "nbformat": 4,
 "nbformat_minor": 4
}
