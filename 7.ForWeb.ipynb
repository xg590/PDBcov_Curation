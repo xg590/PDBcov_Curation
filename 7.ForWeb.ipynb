{
 "cells": [
  {
   "cell_type": "raw",
   "id": "finished-living",
   "metadata": {
    "ExecuteTime": {
     "end_time": "2021-09-13T20:52:41.729236Z",
     "start_time": "2021-09-13T20:52:39.236102Z"
    }
   },
   "source": [
    "import os\n",
    "for i in os.scandir('/scratch/xg590/scratch/adduct_bin'):\n",
    "    if not i.is_file:continue\n",
    "    if i.name[-4:]=='test': continue\n",
    "    with open(i.path, 'rb') as fr: m = Chem.Mol(fr.read())\n",
    "    m = Chem.MolFromSmiles(Chem.MolToSmiles(m))\n",
    "    if m:\n",
    "        with open(i.path, 'wb') as fw: fw.write(m.ToBinary())\n",
    "\n",
    "# scratch/pv_bond_str/{adduct_id} \n",
    "# scratch/PDBcov/VueJs/s/struct/chain/{PDB_ID}_{res_chain}_{binder_chain}.pdb \n",
    "#/scratch/xg590/scratch/PDBcov/VueJs/s/struct/binder/{adduct_id}.mol "
   ]
  },
  {
   "cell_type": "code",
   "execution_count": 2,
   "id": "running-table",
   "metadata": {
    "ExecuteTime": {
     "end_time": "2022-09-14T13:45:59.327465Z",
     "start_time": "2022-09-14T13:45:58.636492Z"
    }
   },
   "outputs": [
    {
     "data": {
      "text/html": [
       "<style>.container { width:100% !important; }</style>"
      ],
      "text/plain": [
       "<IPython.core.display.HTML object>"
      ]
     },
     "metadata": {},
     "output_type": "display_data"
    },
    {
     "name": "stdout",
     "output_type": "stream",
     "text": [
      "7373\n"
     ]
    },
    {
     "data": {
      "text/html": [
       "<div>\n",
       "<style scoped>\n",
       "    .dataframe tbody tr th:only-of-type {\n",
       "        vertical-align: middle;\n",
       "    }\n",
       "\n",
       "    .dataframe tbody tr th {\n",
       "        vertical-align: top;\n",
       "    }\n",
       "\n",
       "    .dataframe thead th {\n",
       "        text-align: right;\n",
       "    }\n",
       "</style>\n",
       "<table border=\"1\" class=\"dataframe\">\n",
       "  <thead>\n",
       "    <tr style=\"text-align: right;\">\n",
       "      <th></th>\n",
       "      <th>adduct_smiles</th>\n",
       "      <th>binder_atom_name</th>\n",
       "      <th>binder_id_in_adduct</th>\n",
       "      <th>binder_mol</th>\n",
       "      <th>binder_smiles</th>\n",
       "      <th>binder_type</th>\n",
       "      <th>chain_id</th>\n",
       "      <th>chain_name</th>\n",
       "      <th>common_name</th>\n",
       "      <th>covalent_bond_record</th>\n",
       "      <th>doi</th>\n",
       "      <th>note</th>\n",
       "      <th>pdb_id</th>\n",
       "      <th>pdb_title</th>\n",
       "      <th>reaction_type</th>\n",
       "      <th>recovery_strategy</th>\n",
       "      <th>res_atom_name</th>\n",
       "      <th>res_name</th>\n",
       "      <th>res_num</th>\n",
       "      <th>unp_accessionid</th>\n",
       "      <th>unp_resnum</th>\n",
       "      <th>warhead_name</th>\n",
       "      <th>warhead_smarts</th>\n",
       "      <th>multistep</th>\n",
       "      <th>short_adduct_id</th>\n",
       "      <th>adduct_pdb</th>\n",
       "      <th>InChIKey</th>\n",
       "      <th>adduct_InChIKey</th>\n",
       "      <th>res_quad</th>\n",
       "      <th>binder_quad</th>\n",
       "      <th>binder_atom_alt</th>\n",
       "      <th>res_atom_alt</th>\n",
       "      <th>binder_chain_id</th>\n",
       "      <th>binder_num</th>\n",
       "      <th>drugbank_id</th>\n",
       "      <th>drugbank_groups</th>\n",
       "      <th>record_id</th>\n",
       "      <th>binder_id</th>\n",
       "      <th>full_residue_name</th>\n",
       "      <th>BindingDB_react_id</th>\n",
       "    </tr>\n",
       "    <tr>\n",
       "      <th>adduct_id</th>\n",
       "      <th></th>\n",
       "      <th></th>\n",
       "      <th></th>\n",
       "      <th></th>\n",
       "      <th></th>\n",
       "      <th></th>\n",
       "      <th></th>\n",
       "      <th></th>\n",
       "      <th></th>\n",
       "      <th></th>\n",
       "      <th></th>\n",
       "      <th></th>\n",
       "      <th></th>\n",
       "      <th></th>\n",
       "      <th></th>\n",
       "      <th></th>\n",
       "      <th></th>\n",
       "      <th></th>\n",
       "      <th></th>\n",
       "      <th></th>\n",
       "      <th></th>\n",
       "      <th></th>\n",
       "      <th></th>\n",
       "      <th></th>\n",
       "      <th></th>\n",
       "      <th></th>\n",
       "      <th></th>\n",
       "      <th></th>\n",
       "      <th></th>\n",
       "      <th></th>\n",
       "      <th></th>\n",
       "      <th></th>\n",
       "      <th></th>\n",
       "      <th></th>\n",
       "      <th></th>\n",
       "      <th></th>\n",
       "      <th></th>\n",
       "      <th></th>\n",
       "      <th></th>\n",
       "      <th></th>\n",
       "    </tr>\n",
       "  </thead>\n",
       "  <tbody>\n",
       "    <tr>\n",
       "      <th>1C7Q_A_HIS_306_?_ND1_?_A_BE1_500_?_C1_?</th>\n",
       "      <td>O=C(C[BiH2])NCCOP(=O)(O)O</td>\n",
       "      <td>C1</td>\n",
       "      <td>BE1</td>\n",
       "      <td><img data-content=\"rdkit/molecule\" src=\"data:image/png;base64,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\" alt=\"Mol\"/></td>\n",
       "      <td>O=C(CBr)NCCOP(=O)(O)O</td>\n",
       "      <td>inhibitor</td>\n",
       "      <td>A</td>\n",
       "      <td>PHOSPHOGLUCOSE ISOMERASE</td>\n",
       "      <td>NaN</td>\n",
       "      <td>1C7Q,A,A,HIS,HIS,306,306,?,ND1,?,polymer,B,A,BE1,BE1,.,500,?,C1,?,non-polymer</td>\n",
       "      <td>10.1074/jbc.M002017200</td>\n",
       "      <td>NaN</td>\n",
       "      <td>1C7Q</td>\n",
       "      <td>THE CRYSTAL STRUCTURE OF PHOSPHOGLUCOSE ISOMERASE/AUTOCRINE MOTILITY FACTOR/NEUROLEUKIN COMPLEXED WITH ITS CARBOHYDRATE PHOSPHATE INHIBITORS AND ITS SUBSTRATE RECOGNITION MECHANISM</td>\n",
       "      <td>NaN</td>\n",
       "      <td>manual</td>\n",
       "      <td>ND1</td>\n",
       "      <td>HIS</td>\n",
       "      <td>306</td>\n",
       "      <td>P13376</td>\n",
       "      <td>306</td>\n",
       "      <td>Haloacetamide</td>\n",
       "      <td>[F,Cl,Br,I]CC(=O)(N)</td>\n",
       "      <td>NaN</td>\n",
       "      <td>HIS_ND1_BE1_C1</td>\n",
       "      <td><img data-content=\"rdkit/molecule\" src=\"data:image/png;base64,iVBORw0KGgoAAAANSUhEUgAAAMgAAADICAIAAAAiOjnJAAAABmJLR0QA/wD/AP+gvaeTAAAQc0lEQVR4nO3de1iUdd7H8c8wCspJUpNENhUXVNTE2FbBSC1WhUgjI8/ZuteDiz6BB6yu9THQ0tRVGzy0UioHM10suyBXUjyQiqckehxT4dEQxROocVDOM9/nj3sQNUUG5suM+n1d/jH3MHP/fsGb+zTDpCIiCGFqVuaegHg8SViChYQlWEhYgoWEJVhIWIKFhCVYSFiChYQlWEhYgoWEJVhIWIKFhCVYSFiChYQlWEhYgoWEJVhIWIKFhCVYSFiChYQlWEhYgoWEJVhIWIKFhCVYSFiChYQlWEhYgoWEJVhIWIKFhCVYSFiChYQlWEhYgoWEJVhIWIKFhCVYSFiChYQlWEhYgoWEJVhIWIKFhCVYSFiChYQlWEhYgoWEJVhIWIKFhCVYSFiChYQlWEhYgoWEJVhIWIKFhCVYSFiChYQlWEhYgoWEJVhIWIKFhCVYSFiChYQlWEhYgoWEJVhIWIKFhCVYSFiChYQlWEhYgoWEJVhIWIKFhCVYWExYREhMxDvv4O9/x759AHD4ML75xvDVy5exdKkZZyeMZTFhzZ+P/fvx8ceIiMAHHyAtDWfPIjPT8NXiYuzcadb5CeO0MPcEaq1di5wctG4NAEuWYMkSjB5t7jmJxrOMsIqKYGtrqAqAhwdycwFg0yYcPQoAZWWwtzfb9ITxLGNX6OiImzdBZFgsKICzMwCMHYtdu7BrF9avN+PsRCNYRlhWVnj5ZUM9ej2WLcNbb5l7Tk114kTd7ZwcVFebbyrmYBlhAVixAgcO4JVX8PLL6NYNf/sbHBzQtq3hq9bW6NjRrPMzWmBg3e133kFBgfmmYg6WcYxVXo6gIIwfj3XrYFXb+ogRdQ9wc0NCglmmJhrHMsJKTMTBg6iqwtSp5p6KyZSVQaMx3L582axTMQcLCIsIMTEAMGuWuadiSmo1/vhHw+1Wrcw6FXOwgLBSU3HqFFxdMWqUuadiSjY2CAoy3F640KxTMYdGhVVVBWtrk03h008BICICLVuabJ1PsLNnz8bFxd24caN79+6TJ092cHAwzzyoHl261N1+7TU6cYL27qWBAykggPr3pzVr6ntuA2m1pFKRgwP99psJ1mZJkpNJpzPc3rmTysubY9CNGzc6OjoCUKlUANq0aRMZGZmXl9ccY9+t3rD+8Ie624GBdOgQeXjQpUtEROXlNGAAHT3a1PHnziKAwsObuh7L4+JCn3xiuO3pSRUVvMOVlZWFh4crG4vg4OCtW7cG1e6JraysgoKCMjIyeGdwt3rDcnWljAzDP19f+uILmjix7qurV9P8+U0a/OYV+siG5vSi3LNNWo9F8vAgHx/69Vci/rAyMzM9PDwAtG7dWqPR3L4/KysrNDS0Ve25g7e3d0JCQnV1NeNUatV7gVSvx/ffG/4VFKC0FHfusB0dUVyMysrG74aProauEs/1QBe3xq/EUllZYeFCvPsu7yhEFBMT4+vrm5OT4+npeeTIkYiIiNtf9fLyio2Nzc3NjYqKateuXWZm5qRJkzw8PBYvXlxUVMQ+swe6Z1e4dSv5+dXdExlJa9eSjw/5+1NKCun1xiVdXU7/dKZo0PkDxj3xEdGjBxHRuHH0zTfk6UnFxXTqlImHKCgoePXVV5Wf48SJE2/dulXPg8vLyxMSEnr27Kk83sHBITw8/Ny5cyaeUy1jwtJqKTiY5s2j48cpPp68vOjECWrdmgACqF8/SkykysqGjnxsDUWDPv9T4+duqc6coVu3DGFdukReXtStG8XGkkrVyN/B+9q9e7eLiwsAJyenpKSkBj5Lp9OlpaU1w+FXvWEtX153+8sv6epVqq6muDiaPp2WLaOiIiKiwkJatIg6dTLk5exMUVF07dpDhtXraVVPigZpNzX5P8GyJCWRkxNNmWIIi4g0GgLo44/J1tbwTerbl+LjjfgdvEd1dXVUVJSVlRWAwYMH5+fnN2IlP/3008SJE1vWXuJRDr+ysrK6du3q7+8/ePDg5ORkIho1atSWLVs+qT0NycnJGTNmTEPWX29YDVdRQevX03PPGb5zfi/QtjC6lv3Ax+f8h6JBy11JV2WaCdRLr9cfO3Zs27ZtFy5c4BulpITeftvwDRg9mmJjDfdXV9OyZVRTQ0VFpNGQq+tdv4OFhcaNcu7cuYEDBwJo0aJFVFRUTU1NU+Z84cKF999//6mnnlLymj59enBwMBEVFhZ27tyZiPLz8xMTE+fMmaM8/uTJk8OGDWvImk0U1m1paRQQQJH9KRo0z4oS/Sn7fpv+MzvoX89RxhITj34/V69eDQwMtLGxsbe3V6vVQUFBhw4dMvkox46RuzsB1Lo13XFadh+VlRQfT337GvKytaWIiKrTp083ZJQtW7YoETz77LP79u0zzdSJSktLV65c2atXr127dg0dOvTMmTOJiYlKYd27d09MTAwLC8vOzs7Ozk5NTTVTWIrr/0ep4bTAlqJB0aA1XnQslqrL6ed4SvSnr16jHz6i6vJm2FylpqY6OzsDaNeu3ZAhQ1q0MLzS8NJLL3377be621cwm0CvJ42GrK0JoF69SKtt6BP376eQEFKradCgLJVK5e/vn5KSon/A8dc9l6muX7/e9Jn/XlZWVpcuXUJDQwMCAiIiIvR6vRKWt7d3WFhYWFjY2LFjzRqW4lYB/TDfcOoXDVrmQqnvUlYcVZfR9ndp3wLGoe8+EBkyZMjFixeJ6NKlS1FRUW1r3+bl5uam0Whu3rzZ6FEKCigwkABSqSg0lMrKjF7DqVMUGflp69q3ZXt5eSUkJFTeffyl1Wp79+4NoFWrVpr6t4dNk5WVpWyoiMjPz0+r1SphWcCu8PdqKunnBPqsD61wp71zKSuOiOh/N9D2/+YbMzc3d8CAAbcPRO7ZMpWWlsbGxnbv3l35WTo6OoaHhzfidY8dO3YEBGwGqH17Sklp0oSLioo0Go2rq6syJWdn56ioqMLCQr1er9FobGxsAHh6eh4/frxJwzxMVlbW0KFDz549u3v37m7duhUVFd03LK1Wu3Tp0pycnHpWxR+WQq+nkou090OKH0xbJ9IaLyo4QbeMPHBtmISEBHt7ewCdO3c+cOCBF8l0Ol1KSoq/v7/ys2zZsmVISEgDD7+qqqpmz56tUqns7OzfeuvXixdNM/OKioq4uLi+ffsqU7K1tXV3dwegUqmmTZtWzv9y4/nz50NDQ0NDQ+fMmXPixAkimjdv3pEjR1Jqf28uX768atWq5OTkGzdujBs3rp5VNVdYir0fUsYSKqn9OazpV3f4ZRIlJTRhwipfXwBvvvnmjRs3GvKkzMzMO0+8Bw4cmJSUVM/ZVm5urq+vr6nOy+5r8+bNfn5+arV60KBBDg4O3t7eISEhJh+lKYqKisLCwup5QLOHpewKiaj4wl2HX/sXUlnTDkiPHqVu3QjQdey4OSHB2Gc38PArKSnJyclJOS/bv39/kyb8YCNHjgQQExNz6dKlX375BUCbNm2YxmqEa9euRUZGFtZ7paRZwtJ+RZtGUP5h+vFflH3Hwcjtwy8lr49saOtEKjxp9PrvPDHr3duIE7Pfue/h1/nz54mopKQkNDRUuf+NN95o4OawcaZOnaqERUR6vV55Fbm0tJRvRKOEhITMnTt35cqV9TymWcL6/AWKBv201rB4z1UGvZ7O7qQvh1O0iqJBmn40YgTt3dvQlV+9SgEBhhOz8HCTvIugpqbm66+/Vq5DKodfgYGBXbp0AWBnZ7d27dqHr6JpFixYAOC9995TFt3c3ABkZz/4grPl4Q/rXDpFg/7ZwXAgdeEgLXOho6vu88iCXyjlv2iSr+HS4fPP04YND3nhIy2NOnYkgJ5+mr77zuRzv334pVar7ezsevXqxX1epoiPjwcwfvx4ZdHPzw/Anj17mmFoU+EPa9NIigalRxsWk96kaNCe/3ng4wsK6nvx8YcfaN062ruX9HpKSyOVigDy9ze8/ZBHXl7ehg0bDh482AznZYq0tDTldUBlccyYMQA2bNjQPKObBHNY13NonhV9ZEM3rxAR/ZZL81vQ/JZU8rDXTSsqaN066tPHkJedHR0/ThMmUGgobdxIYWE0ahTpdDRsGEVFkSkuoFuUkydPAnB3d1cWZ82aBWDRokXmnZVRmP9K53AMSI++b8POGQCOxEBfg76T4NDpIU+0scHkyZg8GQcOYPFi5OSgpASFhfj+ewAYNw4jRyI9Hdu31/2B62OkU6dOAC5evHjfxUcC50+l+AaytgIqDIgAgMoSZMUBwIDpRqzkxRfx3XfIzIRWiwED6u4fOBA///xYVgXA0dHRwcGhrKxMeZ+nhHW3NV9gUQkwBU/3AoDMz1FZjK6v4Bkvo1dlb49WrVBVVXdPRUXdxx49jpQ38Skxubm6+vbp0+OR+rNXtrCqq7FqFW7egk8wANTUIH0nYOTm6k6+vtixAzU1AKDTYft2vPiiieZqidb7+Bzr2bPb5csA/uTikqHVLlA+QfMRwXaM9e9/Iz8fvXvjL38BgK1bMScNrw/Hh4EPe+YDeHhgwgQMGgQfHxw5gtdfR58+JpyvpfHV6XDqFC5cAAAXF6hUuHIFOh3UanNPrUHYwlqxAgBmzIBKBdT+ufPw16FqwjZyxgz89a/IzcWcOah90+Njq1MnAFCOq6yt0b49CgtRUPCofJwTz64wPR0//ogOHTBuHABkZODwYbRtiwkTmrpmJyf06/f4V4W7w/r9osXjCUvZPk2daviYlduLdnYswz2WJKx76XSwtYWdHcLCAODcOSQnw9r6cfrsq+bwiIfFcIylVmPTJhQVwckJAGJiUFODSZMelYMDSyFh3Ss9HZ99hpISeHvjH/9Ajx7o2hXTG3uV4Yn1zDNQq1FYaPjQqEctLFPvCjMzMWsWli/Htm1wccH48ZgyBWfOwMv4i6JPOLUazs7Q63HlCiBbrHXr8MEHUP4oYNo0rF6NggJ06GDiUZ4Qw4ejuNjw8fd//jPS09G5s7nn1FCmDis/H88+W7fYuTPy8yWsRlq3DsXFmDkTeXnQ6dC/P+bPN/ecGsrUu0IXl7s21/n5hm24aJyZM/H889i1C3v24NYtLF9u7gk1mInfhpORQT4+hs8L2bSJhg838fqfNC4ude82y8ujF14w62yMYOpdoa8vZs/G6NGoroa7O776ysTrf6JUVcHKqu6tQe3b49o1s07ICAyXG4KDERxs+tU+gaytYW1dd0Xw1Km6T463eI/nG+UeH+HhCAtDXh5On8bMmZgxw9wTaigV3f6fuQnLtGULUlPRsiXGjsXgweaeTUNJWIKF7AoFCwlLsJCwBAsJS7CQsAQLCUuwkLAECwlLsJCwBAsJS7CQsAQLCUuwkLAECwlLsJCwBAsJS7CQsAQLCUuwkLAECwlLsJCwBAsJS7CQsAQLCUuwkLAECwlLsJCwBAsJS7CQsAQLCUuwkLAECwlLsJCwBAsJS7CQsAQLCUuwkLAECwlLsJCwBAsJS7CQsAQLCUuwkLAECwlLsJCwBAsJS7CQsAQLCUuwkLAECwlLsJCwBAsJS7CQsAQLCUuwkLAECwlLsJCwBAsJS7CQsAQLCUuwkLAECwlLsJCwBAsJS7CQsAQLCUuwkLAECwlLsJCwBAsJS7CQsAQLCUuwkLAEi/8HsmMdf8lAdEMAAAEGelRYdHJka2l0UEtMIHJka2l0IDIwMjAuMDkuMQAAeJx7v2/tPQYg4AFiRgYIALG5gbiBkYNBA0gzM7FBaBY2hgQgzcQUrGAAopnZGTLA8owwCRjNwaAAovnBFCvMGA6wLCMjjOZmYNRgYmQCGsTAyKLAwsrAysbAxs7AzsHAwcnBxMHFwMHNIMIgDnMXA8/8Vl+HWa+O7gdxGAucHQIC4/eC2IWdHQ5fXgbbg9gbUrc41C2OtwOx2fKv2zPw8IHFBZZ+sBNetnwfiF3Un7ZfPGYCWM1eN/YD/zZIgs20+R93YC+riA2IffB/04GPHuvA4t//mR/gmLkBbM7d6NkHdALlwGwxAJrPNyUpQR+YAAABGXpUWHRNT0wgcmRraXQgMjAyMC4wOS4xAAB4nJ2TQU7EMAxF9z2FLzCW7ThOvIWyQgyIBXeYPfcXbhNCEIxUNfLCv+l/tetkgW29r8+3TxhL1mUBFmAGoH/D3eFDiGjZ3k8ozCmSC2NWk+0ZYewSvMI9xBydQjmVjRLerHmiPB6nKIpZbd4qpZ6jZLRUtHmFq06Uh9sfT7pDYbSauHlzVp8o1+O1EGoJx/5fkhQ91VF4nch6R1XoHEUwBt1nZERzLccnfUmoVdO31+da3o5TFMlbLYzJ2M7VIlhLm0xQipdzFMWac+/Dfp+Xw5Q4KLLHJmQ/VdxEZDpE7OQhIrMhIitDRFaHiMyHcGAa3/H9kv/sSBcvAE/XdfkCtiCjJwwmdYQAAADGelRYdFNNSUxFUyByZGtpdCAyMDIwLjA5LjEAAHicJY47DsJADESvQplIG8t/exWlIQ0VS484AHfI4XFCN3qaefbY9ml/378P/szPfR+vaRvzNOZxOyYBJuJsC4GpM7dVAE2C2oIV1Bh7WxXYPbIhJEdkEQOXUCrClNKjrQSegmfHTLMEK4IGYu1LJRwqtavYEZ39XCZ1k2IMROJXzxHFyrYIaKpI1cqAohdUwC7B57fi5Nc0Q7u2AtH930nTfvqdUuvQfPwAOBw0uxBIbc0AAAAASUVORK5CYII=\" alt=\"Mol\"/></td>\n",
       "      <td>MUORYJVNLAHVKL-UHFFFAOYSA-N</td>\n",
       "      <td>HISJWWIPURRDBG-UHFFFAOYSA-O</td>\n",
       "      <td>1C7Q_A_306_HIS</td>\n",
       "      <td>1C7Q_A_500_BE1</td>\n",
       "      <td>?</td>\n",
       "      <td>?</td>\n",
       "      <td>A</td>\n",
       "      <td>500</td>\n",
       "      <td>NaN</td>\n",
       "      <td>NaN</td>\n",
       "      <td>CBR000001</td>\n",
       "      <td>CB0000001</td>\n",
       "      <td>Histidine</td>\n",
       "      <td>NaN</td>\n",
       "    </tr>\n",
       "  </tbody>\n",
       "</table>\n",
       "</div>"
      ],
      "text/plain": [
       "                                                     adduct_smiles  \\\n",
       "adduct_id                                                            \n",
       "1C7Q_A_HIS_306_?_ND1_?_A_BE1_500_?_C1_?  O=C(C[BiH2])NCCOP(=O)(O)O   \n",
       "\n",
       "                                        binder_atom_name binder_id_in_adduct  \\\n",
       "adduct_id                                                                      \n",
       "1C7Q_A_HIS_306_?_ND1_?_A_BE1_500_?_C1_?               C1                 BE1   \n",
       "\n",
       "                                                                                                                                                                                                                                                                                                                                                                                                                                                                                                                                                                                                                                                                                                                                                                                                                                                                                                                                                                                                                                                                                                                                                                                                                                                                                                                                                                                                                                                                                                                                                                                                                                                                                                                                                                                                                                                                                                                                                                                                                                                                                                                                                                                                                                                                                                                                                                                                                                                                                                                                                                                                                                                                                                                                                                                                                                                                                                                                                                                                                                                                                                                                                                                                                                                                                                                                                                                                                                                                                                                                                                                                                                                                                                                                                                                                                                                                                                                                                                                                                                                                                                                                                                                                                                                                                                                                                                                                                                                                                                                                                                                                                                                                                                                                                                                                                                                                                                                                                                                                                                                                                                                                                                                                                                                                                                                                                                                                                                                                                                                                                                                                                                                                                                                                                                                                                                                                                                                                                                                                                                                                                                                                                                                                                                                                                                                                                                                                                                                                                                                                                                                                                                                                                                                                                                                                                                                                                                                                                                                                                                                                                                                                                                                                                                                                                                                                      binder_mol  \\\n",
       "adduct_id                                                                                                                                                                                                                                                                                                                                                                                                                                                                                                                                                                                                                                                                                                                                                                                                                                                                                                                                                                                                                                                                                                                                                                                                                                                                                                                                                                                                                                                                                                                                                                                                                                                                                                                                                                                                                                                                                                                                                                                                                                                                                                                                                                                                                                                                                                                                                                                                                                                                                                                                                                                                                                                                                                                                                                                                                                                                                                                                                                                                                                                                                                                                                                                                                                                                                                                                                                                                                                                                                                                                                                                                                                                                                                                                                                                                                                                                                                                                                                                                                                                                                                                                                                                                                                                                                                                                                                                                                                                                                                                                                                                                                                                                                                                                                                                                                                                                                                                                                                                                                                                                                                                                                                                                                                                                                                                                                                                                                                                                                                                                                                                                                                                                                                                                                                                                                                                                                                                                                                                                                                                                                                                                                                                                                                                                                                                                                                                                                                                                                                                                                                                                                                                                                                                                                                                                                                                                                                                                                                                                                                                                                                                                                                                                                                                                                                                                          \n",
       "1C7Q_A_HIS_306_?_ND1_?_A_BE1_500_?_C1_?  <img data-content=\"rdkit/molecule\" src=\"data:image/png;base64,iVBORw0KGgoAAAANSUhEUgAAAMgAAADICAIAAAAiOjnJAAAABmJLR0QA/wD/AP+gvaeTAAARBklEQVR4nO3de1RU9d7H8c8gCN64SKKg5l2xo4KWyKllWFmZkmZ5aVmY6aGOmuPyKfWQtiBPeljrCQHtCV3iBRUx8PZgJ9RMSRA0ILwh6nO4JJBIIChxc2C+zx97I964z5cZ9fta/jEb9uzfD307/GbvYdAQEYQwNDNjT0A8niQswULCEiwkLMFCwhIsJCzBQsISLCQswULCEiwkLMFCwhIsJCzBQsISLCQswULCEiwkLMFCwhIsJCzBQsISLCQswULCEiwkLMFCwhIsJCzBQsISLCQswULCEiwkLMFCwhIsJCzBQsISLCQswULCEiwkLMFCwhIsJCzBQsISLCQswULCEiwkLMFCwhIsJCzBQsISLCQswULCEiwkLMFCwhIsJCzBQsISLCQswULCEiwkLMFCwhIsJCzBQsISLCQswULCEiwkLMFCwhIsJCzBQsISLCQswULCEiwkLMFCwhIsJCzBQsISLCQswULCEiwkLMFCwhIsJCzBwsTCysrCggWYOBGLFiEnBwBCQnD6tPrZy5fh72/E2YmmM6WwCgvx2muYOhVRUXj9dbz0Em7eRGoqfv9d3aGoCKdOGXWKoqnMjT2Bu2zfjpkz8eqrAODpiaNHERFh7DmJFjKlsDIzMWZM3ebQofjPfwBgxQoEBABAaSn69TPO3EQzmdK3wq5dUVJSt1lcDHt7AFi9GvHxiI9HSIixpiaay5TCmjABu3ZBpwOAykp89x0mTDD2nAyjuhp6vXqbSP0SH2+mFNbzz+Ott+Dmhjlz4O6OuXPh6mrsORnG3/+OgwfV2ydPYsYMo86mTZjSGuvoUXTpgmPHUFSEPn1gYQEAa9eifXt1Bzc37NhhxAmKpjOlsL78EvHxIMLChXUf7Ny57ra5Obp0aft5GUReHi5dAoCrV409lTZhMmElJyM+HnZ2+OADY0+FxYED+PVXALh+HeYm87fOx2S+ROWEwscf3/MQ9RhZuBBTpgBAfLz6tT7eTCOs3Fzs3QsLCyxYYOypPJ4yMjJu3LjRp08fBweHthmxwWeFX3wBIvX2wYPqNbsffsCSJfjsMxw/brBZBAdDp8OMGejd22DHNCV/+Qvu/IPa2bXpk93KysrFixcPHTp0+vTpvXv3nj179oULF9piYGqAgwPV1Ki3ly2jzZspMJAmTqSkJEpIoLFjKSysobs30a1bZGtLAJ0+bYCjmaR9+ygoSL197hzt2NFG46alpQ0fPhyApaXlyJEjzczMAGg0mtdff/3w4cN6vZ5v6OaEFRpKjo5UVKR+JDubBg40wBTiQuj9cfTmRAMcylT5+JC1NSUkEBEdPEgffdQWg4aFhXXq1AnAkCFDfv31VyLKyMjQarXKBwEMGjQoKCiovLycY/TGwpo8Wf0zcCCtXUuDBt2zw1NPUWVlq8bXV1PwAPIDXTrQquOYNh8fWrmSnn2WdLq2CKukpOTdd99V6vHy8iotLb37szdu3PD39+/Zs6eyg4ODw6pVX5aVFBp2Do2ded+8GVu2YMsWTJwIKyuUl9/9TRR6PcrL8f33dRcsmuvSARRnwK4/Bnu28AiPiKFD4eGBoCD2gU6fPj1q1Kjdu3dbW1vv3Llz+/btne99om1nZ7d8+fKsrKzIyEh3d/eCgoKMlGNrP3x2/1ptwW+XDDWNxsLq2hX29rC3h5UVLC3h6IikJPVThw7BzQ2bNuHNNzF4MIKDUVbW7PETAwHgr/8FTbtm3/dR4+eH0FD11WU7dmDfPtTUGPL4er0+ODh47NixmZmZo0ePTklJee+99+rb2cLCYvr06YmJibGxsW+8OFpfXX3u+J6QRa/s9J2Vkfoz3XnS1mINPZw9uHj/5RcaPpw+/ZS0WnJ1pfR02rqV+vYlgACyt6fPP6e8vKY+XOYlkR/I346qShvf+dF09ixt304+PhQeTkS0ezf16UPz5lGPHgRQv37k70/FxQYYKCcnx8PDA4BGo9FqtVVVVc26+41r2TEbV66eNsDP09HP03H9xy+c+t9NuqoKIiorKcxIPZF9PqH4+tWmH7DBsM6dq7udl0eFhUREZWV06hQlJdWtrqqrKTKS3N3VvNq3Jy8vOpPa+OBRM8kPdPQfTZ/uI0Svp2++ISsrat+e5s5VwyKiN96gefNo/XoaOFD9C7O1paVL6Woz/tXud+DAAXt7ewAODg4xMTEtPk5FaUlc1PqAD0Yqef33e8Njd3195qfIDdrxP277avvKGf/+1qeJh2owrOZKTiYvLzI3J4A+8qDNL1BaJOmrH77zzRxaZUGrLOhmK/5GmykjIyMiImLx4sXHjh1jHai4mGbMULvx8qIrV+qeTBcWUnY2EVFNDUVH0/jx6m5mZuTpqT5zbLqKigqtVqvRaAC8+uqr165da/3ka3S30+KiQz/1VPI68V3Q9/+znIhqqnX+7zoT0eXTR/KupKYe3d3AQQwaliIri5Z+Rmt6kh/ID7R+MCWF0O2y+3erKKa4NXRoieEnUI/w8HBra2vz2gt1Li4uGzdurKioMPhAx49Tr14EkI0NRUQ0vn9SEs2aRRYWamGTJ5ft3bu35s4ipH7p6ekuLi7KgsnX17cpd2mW7PMJhzb5pifGbF858/zPB37Y8PmRLf8kosAPnzsc6nf5lyMN3JchLEXVLToVREF91bz+ZUMxWrqZQ+d3UVA/CnWnbS9RTiLX6PcqLy/XarVKT56enj4+Pj169FA2nZyc1qxZU3Tn8aR1dDry9aV27QigMWMoI6MZ9712jXx9qWtX8vA4CKBfv37+/v7F9a+/HjxNxSQ9MWbrP6Ymx+w4snlV2IrpuqqKgNmujd6LLSyFvprSIinUXc3rn+3pp8/px2VERLmn6dvhvKMTEVFKSsrgwYMBdOjQIaj2/HdVVVVYWNiIESOUvCwtLb28vNLS0loz0G+/0dix6jc1rZZu327JQUpL6dtvwwYMGKBMzNbWdunSpVfvXX81fJrK4NITY5RvhUS044t3f7twygTCuuP3ZNrnRYFPU8omNaziLAoewDqmXq8PCgqytLQE8Mwzz5y7+7lIrbi4OE9PT2WNYmZmNn78+Ojo6BZc64iKipowYT1AvXpRbGxrZ15TUxMdHT1+/HilHjMzM09Pz5MnTxLRqVOn+vfvD0A5TdXakZogPTFm15ezM1JPnDu+N2jemPJbxaYUlkJXTqlbaf0Q2j2Vvh1OaVFUdeshyy9DKCgomDRp0p3/1mVlDY1y5coVrVbbsWNHZX9XV9emL7/Kysq8vb2VhY6398VCg57BTkpKmjVrloXyYlpg4MCByhpxzJgxGc36RtsKBb9d+nHbVz9u+yphX0jJ9RwiOvFdcKP3atuwiCh1K8VoqaJ26RDrV7v8Muhzw59+Kndz696pk62tbWRkZBPvVFBQcPe1ju7du/v6+hY2WMqdq7xWVlZBQUFMl3XPnj07e/ZsGxubvn37durUyc3NbfTo0XFxcRxjGYoxwlK+FSoiptQtv/bPpmtNOPvVsNu3aflyMjMj4OLcubm5uc09gLL8UnK5s/y6ePHig3uGhYUpD3LOzs5nzpxp7czrFxAQAGD+/Pnnz5/Pz89Xzqdv27aNb8TWa6uwMo9S1AzKS6KLeyje/55PKcuvVeZqYQ2f/WpYdjY9/zwBZG5Ovr5U3aKD1Hro8kv5VHFx8YzaH7Xx8vL6888/WzNQo3bv3g3gnXfeUTaXLVsGYPXq1ayDtlJbhbVzAvmB4tbUu0NxFh1aQv+yVvNaM41CQqjBhdH9oqLIzo4AevppOnGi9VNWpKWleXt7W1lZKRmNGjVqxYoVvXr1UpbPEU05T9VqcXFxANzd3ZXN4OBgAAsWLGiDoVusTcIqvER+GlrdkcoLiYiqKyn0r5QYSDW6+/esvEkJAfTNMHqqi3qGUaulnJxGjl9eTlqtenpx6lQy0Empu929/LK1tQXg5ubWZsvnzMxMAL1791Y29+zZA2DKlCltM3rLtElY0d7kB/r3QnUzdQv5gUJGUH1LXeVixwsv1F18nD79nteXlpRQSgpdv05EdP06DRlCAHXsSBs3sn4dlZWVmzdvDg8P37Bhg073wP8KznE1Go25uXl1dTURJSYmAnjuuefabAItwB9WWQF91YH8NPRHuvqREBfyA53d3vh9ExJo2jT1TDZAL79MubkUGEgjR5JWSy++SH/7G9XU0Ftv0TPP0MNOUz02unXrBkC5FHj16lUAjo6Oxp5UQ/jDivUjP1DEZHUz4wj5gQKcqLrJr+vIyqLly8nOjnr2pLNnadgw9YUVej29/Tbt2kUlJcRwyc+kuLq6AkhOTiYinU7Xrl07MzOztnzUbC7m926oqULyBgBwX6J+RHlln9snaNe+3nvdp29f+PsjOxv79yMhAZ6esLQEAI0GM2fi+HHY2KB2cf24UpZ3eXl5AMzNzbt166bX6/Pz8409r3oxhxUegWP9YTMZfccBQNFlZByGRUc8+1GzD2VtjdGjUVqK2vPjANC5M0pLDTVZU3Z3WA9umiDmsAIC8UMCnpqubiYEgPRwnYMO9i084JAhOH++bvPMGTg7t3aSj4Jxzs7zxo4dXPszB3uGDy+wtx9jwmFxrrEOHyaAnJxIeZlsQQE5D6L5HlR4ueXH1Olo1CjauJFycig6mgYNovx8Q83XpIWGEkAffKBuzp9PAK1bZ8wpNYjzESswEAAWLVLfhygkBJf+D3k2sB/c8mOamyM2FgUFWLoU8fE4ehTduxtmtiZOuYJ55yHqvk3Tw/beDZcv4/BhdOwIb28AqKpS3+hxyZKG79e4Ll2wcmVrD/LIedTCYnvE+vprEOHDD9X3EQ0PR34+RozAuHFcIz7eJCwA+OMPhIdDo8Enn6gfWbcOAD77jGW4J0HXrujQAbduqc+Cn9CwbG2xaROWLlWfsh05grNn4eSEmTNZhntCODkBUH/g9QkNy8ICb7+NFSvUzeBgAFi4sO7dREUL3B2TjQ06d0ZZGW7eNO6k6sOweC8qwpw5KC+HhQX+/BNbtyIoCAMG4OOPDT/WE+W+RyknJ1y5grw82NgYcVL1YQhr2TK89hoWLQKAQ4cwZw5OnlTXWKI1Hly///77Pb9ywZRoqPVv/3AfR0dkZqJDB3Wzf38kJ6NrVwOP8gSKjUVCAl55BcOGIT8fPXqg9p2uTJChH7GIUF5eVxUAOzsUFUlYBjBuHF58EYsWISUFzs5ISoKPD95/39jTejhDh6XRoHt35OaiVy8AuH0bubl4+mkDj/LECg/HH38gMREaDW7exKhR8PAwzTduZXhW+MknWLwYxcWoqICPD6ZNU1/lIlrvyBF4eUGjAQAbG7zxBn7+2dhzejiGxbtWi86dMWsWamrw8styUtSQSkru+d0c1tYmu3jnuVY4dy7mzmU58hNu0CCkp9ddFktLg4eHMedTP9P4BQKiiRYswKRJcHHBsGHYvx+5uah9fwdTw3C6QbC6cAHr1iEvDy4uWL7cNM+OQsISTEzpF2GKx4iEJVhIWIKFhCVYSFiChYQlWEhYgoWEJVhIWIKFhCVYSFiChYQlWEhYgoWEJVhIWIKFhCVYSFiChYQlWEhYgoWEJVhIWIKFhCVYSFiChYQlWEhYgoWEJVhIWIKFhCVYSFiChYQlWEhYgoWEJVhIWIKFhCVYSFiChYQlWEhYgoWEJVhIWIKFhCVYSFiChYQlWEhYgoWEJVhIWIKFhCVYSFiChYQlWEhYgoWEJVhIWIKFhCVYSFiChYQlWEhYgoWEJVhIWIKFhCVYSFiChYQlWEhYgoWEJVhIWIKFhCVYSFiChYQlWEhYgoWEJVhIWIKFhCVYSFiChYQlWPw/3CSWtcgQNfUAAAEGelRYdHJka2l0UEtMIHJka2l0IDIwMjAuMDkuMQAAeJx7v2/tPQYg4AFiRgYIALG5gbiBkYNBA0gzM7FBaBY2hgQgzcSkzKAAUs/OkAGWZoSJw2gOsDwTP5hihZnCAZZlZITR3AyMGkyMTAxMzAyMLAosrAysbAxs7AzsHAwcnBxMHFwMHNwMIgziMGcx8Mxv9XWY9erofhCHscDZISAwfi+IXdjZ4fDlZbA9iL0hdYtD3eJ4OxCbLf+6PQMPH1hcYOkHO+Fly/eB2EX9afvFYyaA1ex1Yz/wb4Mk2Eyb/3EH9rKK2IDYB/83HfjosQ4s/v2f+QGOmRvA5tyNnn1AJ1AOzBYDAC6wNsF1wpVxAAABGHpUWHRNT0wgcmRraXQgMjAyMC4wOS4xAAB4nJ2TQU7EMAxF9z2FLzCW7ThOvIWyGjEgFtyBLeL+wmlLyEggRY0s1T/pf3XqZIE23tbrxxf0IeuyAAswA9Cf4e7wLkS0tPcTCnOK5MKY1aTNEcYqwQv8hxjjoFBOpVHCmzUPlMd5iqKY1d1bpdRzlIyWiu5e4aoD5eFzmsJoNfHuzVl9oNzmayHUEo7tvyQpempH4XUiO3ZUhc5RBKPRR4+MaKxlvtOXhFo1/Xh9rOV1nqJIvtfCmIztXC2CteydCUrxco6iWHM+9mH352WaEgdFtmgiHmmbaiIy7SJWcheRWReRlS4iq11E5l04MPXv+HbJf1fkEM8AT7d1+QbH3qMtRd0NcAAAAMB6VFh0U01JTEVTIHJka2l0IDIwMjAuMDkuMQAAeJwljjtuxEAMQ6+S0gbGgiTqNzC2WfeZnCX1Hj6y0xEP5JPW69qu9+/+fV3rZ3utfVv7+vpsIBXRGoeQW6iOE8SOlHFwB3PlOU4jjcgaTKWZ1cQpkCZNVAozxykUBb477lYtOJksmXvfKmgaetdxMofGvSyZjmZKIoinF8zwth0gKwO61gaGPdCIJ1LvbxESz7TSpo0GOeO/U27z9oeU9aH98wcQCDOSK91oiwAAAABJRU5ErkJggg==\" alt=\"Mol\"/>   \n",
       "\n",
       "                                                 binder_smiles binder_type  \\\n",
       "adduct_id                                                                    \n",
       "1C7Q_A_HIS_306_?_ND1_?_A_BE1_500_?_C1_?  O=C(CBr)NCCOP(=O)(O)O   inhibitor   \n",
       "\n",
       "                                        chain_id                chain_name  \\\n",
       "adduct_id                                                                    \n",
       "1C7Q_A_HIS_306_?_ND1_?_A_BE1_500_?_C1_?        A  PHOSPHOGLUCOSE ISOMERASE   \n",
       "\n",
       "                                        common_name  \\\n",
       "adduct_id                                             \n",
       "1C7Q_A_HIS_306_?_ND1_?_A_BE1_500_?_C1_?         NaN   \n",
       "\n",
       "                                                                                                  covalent_bond_record  \\\n",
       "adduct_id                                                                                                                \n",
       "1C7Q_A_HIS_306_?_ND1_?_A_BE1_500_?_C1_?  1C7Q,A,A,HIS,HIS,306,306,?,ND1,?,polymer,B,A,BE1,BE1,.,500,?,C1,?,non-polymer   \n",
       "\n",
       "                                                            doi note pdb_id  \\\n",
       "adduct_id                                                                     \n",
       "1C7Q_A_HIS_306_?_ND1_?_A_BE1_500_?_C1_?  10.1074/jbc.M002017200  NaN   1C7Q   \n",
       "\n",
       "                                                                                                                                                                                                                    pdb_title  \\\n",
       "adduct_id                                                                                                                                                                                                                       \n",
       "1C7Q_A_HIS_306_?_ND1_?_A_BE1_500_?_C1_?  THE CRYSTAL STRUCTURE OF PHOSPHOGLUCOSE ISOMERASE/AUTOCRINE MOTILITY FACTOR/NEUROLEUKIN COMPLEXED WITH ITS CARBOHYDRATE PHOSPHATE INHIBITORS AND ITS SUBSTRATE RECOGNITION MECHANISM   \n",
       "\n",
       "                                        reaction_type recovery_strategy  \\\n",
       "adduct_id                                                                 \n",
       "1C7Q_A_HIS_306_?_ND1_?_A_BE1_500_?_C1_?           NaN            manual   \n",
       "\n",
       "                                        res_atom_name res_name res_num  \\\n",
       "adduct_id                                                                \n",
       "1C7Q_A_HIS_306_?_ND1_?_A_BE1_500_?_C1_?           ND1      HIS     306   \n",
       "\n",
       "                                        unp_accessionid unp_resnum  \\\n",
       "adduct_id                                                            \n",
       "1C7Q_A_HIS_306_?_ND1_?_A_BE1_500_?_C1_?          P13376        306   \n",
       "\n",
       "                                          warhead_name        warhead_smarts  \\\n",
       "adduct_id                                                                      \n",
       "1C7Q_A_HIS_306_?_ND1_?_A_BE1_500_?_C1_?  Haloacetamide  [F,Cl,Br,I]CC(=O)(N)   \n",
       "\n",
       "                                        multistep short_adduct_id  \\\n",
       "adduct_id                                                           \n",
       "1C7Q_A_HIS_306_?_ND1_?_A_BE1_500_?_C1_?       NaN  HIS_ND1_BE1_C1   \n",
       "\n",
       "                                                                                                                                                                                                                                                                                                                                                                                                                                                                                                                                                                                                                                                                                                                                                                                                                                                                                                                                                                                                                                                                                                                                                                                                                                                                                                                                                                                                                                                                                                                                                                                                                                                                                                                                                                                                                                                                                                                                                                                                                                                                                                                                                                                                                                                                                                                                                                                                                                                                                                                                                                                                                                                                                                                                                                                                                                                                                                                                                                                                                                                                                                                                                                                                                                                                                                                                                                                                                                                                                                                                                                                                                                                                                                                                                                                                                                                                                                                                                                                                                                                                                                                                                                                                                                                                                                                                                                                                                                                                                                                                                                                                                                                                                                                                                                                                                                                                                                                                                                                                                                                                                                                                                                                                                                                                                                                                                                                                                                                                                                                                                                                                                                                                                                                                                                                                                                                                                                                                                                                                                                                                                                                                                                                                                                                                                                                                                                                                                                                                                                                                                                                                                                                                                                                                                                                                                                                                                                                                                                                                                                                                                                                                          adduct_pdb  \\\n",
       "adduct_id                                                                                                                                                                                                                                                                                                                                                                                                                                                                                                                                                                                                                                                                                                                                                                                                                                                                                                                                                                                                                                                                                                                                                                                                                                                                                                                                                                                                                                                                                                                                                                                                                                                                                                                                                                                                                                                                                                                                                                                                                                                                                                                                                                                                                                                                                                                                                                                                                                                                                                                                                                                                                                                                                                                                                                                                                                                                                                                                                                                                                                                                                                                                                                                                                                                                                                                                                                                                                                                                                                                                                                                                                                                                                                                                                                                                                                                                                                                                                                                                                                                                                                                                                                                                                                                                                                                                                                                                                                                                                                                                                                                                                                                                                                                                                                                                                                                                                                                                                                                                                                                                                                                                                                                                                                                                                                                                                                                                                                                                                                                                                                                                                                                                                                                                                                                                                                                                                                                                                                                                                                                                                                                                                                                                                                                                                                                                                                                                                                                                                                                                                                                                                                                                                                                                                                                                                                                                                                                                                                                                                                                                                                                                              \n",
       "1C7Q_A_HIS_306_?_ND1_?_A_BE1_500_?_C1_?  <img data-content=\"rdkit/molecule\" src=\"data:image/png;base64,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\" alt=\"Mol\"/>   \n",
       "\n",
       "                                                            InChIKey  \\\n",
       "adduct_id                                                              \n",
       "1C7Q_A_HIS_306_?_ND1_?_A_BE1_500_?_C1_?  MUORYJVNLAHVKL-UHFFFAOYSA-N   \n",
       "\n",
       "                                                     adduct_InChIKey  \\\n",
       "adduct_id                                                              \n",
       "1C7Q_A_HIS_306_?_ND1_?_A_BE1_500_?_C1_?  HISJWWIPURRDBG-UHFFFAOYSA-O   \n",
       "\n",
       "                                               res_quad     binder_quad  \\\n",
       "adduct_id                                                                 \n",
       "1C7Q_A_HIS_306_?_ND1_?_A_BE1_500_?_C1_?  1C7Q_A_306_HIS  1C7Q_A_500_BE1   \n",
       "\n",
       "                                        binder_atom_alt res_atom_alt  \\\n",
       "adduct_id                                                              \n",
       "1C7Q_A_HIS_306_?_ND1_?_A_BE1_500_?_C1_?               ?            ?   \n",
       "\n",
       "                                        binder_chain_id binder_num  \\\n",
       "adduct_id                                                            \n",
       "1C7Q_A_HIS_306_?_ND1_?_A_BE1_500_?_C1_?               A        500   \n",
       "\n",
       "                                        drugbank_id drugbank_groups  \\\n",
       "adduct_id                                                             \n",
       "1C7Q_A_HIS_306_?_ND1_?_A_BE1_500_?_C1_?         NaN             NaN   \n",
       "\n",
       "                                         record_id  binder_id  \\\n",
       "adduct_id                                                       \n",
       "1C7Q_A_HIS_306_?_ND1_?_A_BE1_500_?_C1_?  CBR000001  CB0000001   \n",
       "\n",
       "                                        full_residue_name BindingDB_react_id  \n",
       "adduct_id                                                                     \n",
       "1C7Q_A_HIS_306_?_ND1_?_A_BE1_500_?_C1_?         Histidine                NaN  "
      ]
     },
     "execution_count": 2,
     "metadata": {},
     "output_type": "execute_result"
    }
   ],
   "source": [
    "from io import StringIO  \n",
    "import pandas as pd, math, json, os, sys\n",
    "from rdkit import Chem\n",
    "Chem.WrapLogs()  \n",
    "from rdkit.Chem import PandasTools, SDWriter\n",
    "pd.set_option('display.max_columns', None)\n",
    "pd.set_option('display.max_colwidth', None)\n",
    "#with pd.option_context(\"display.max_rows\", 1000): display(df_recovered)\n",
    "from IPython.core.display import display, HTML \n",
    "display(HTML(\"<style>.container { width:100% !important; }</style>\")) \n",
    "PandasTools.RenderImagesInAllDataFrames(images=True) \n",
    "df = pd.read_pickle('data/df_processed.pkl') \n",
    "df = df[df['InChIKey'].notna()]  \n",
    "df = df.drop_duplicates(['res_quad','res_atom_name','binder_quad', 'binder_atom_name']) \n",
    "print(len(df))\n",
    "df.head(1)"
   ]
  },
  {
   "cell_type": "code",
   "execution_count": 3,
   "id": "spanish-floor",
   "metadata": {
    "ExecuteTime": {
     "end_time": "2022-09-14T13:46:04.362701Z",
     "start_time": "2022-09-14T13:46:03.678123Z"
    }
   },
   "outputs": [],
   "source": [
    "achor = Chem.MolFromSmarts('[#52,#83,#84]') \n",
    "\n",
    "sub = {\n",
    "'ASP_OD1': Chem.MolFromSmiles('OC(=O)C[At]'            ),\n",
    "'ASP_OD2': Chem.MolFromSmiles('OC(=O)C[At]'            ),\n",
    "'CYS_SG' : Chem.MolFromSmiles('SC[At]'                 ),\n",
    "'GLU_OE1': Chem.MolFromSmiles('OC(=O)CC[At]'           ),\n",
    "'GLU_OE2': Chem.MolFromSmiles('OC(=O)CC[At]'           ),\n",
    "'HIS_ND1': Chem.MolFromSmiles('[N+]1=CNC=C1(C[At])'     ),\n",
    "'HIS_NE2': Chem.MolFromSmiles('[N]1C=C(C[At])[N]=C1'  ),\n",
    "'LYS_NZ' : Chem.MolFromSmiles('NCCCC[At]'              ),\n",
    "'MET_SD' : Chem.MolFromSmiles('[S+](C)CC[At]'            ),\n",
    "'THR_OG1': Chem.MolFromSmiles('OC(C)[At]'              ),\n",
    "'SER_OG' : Chem.MolFromSmiles('OC[At]'                 ),\n",
    "'TYR_OH' : Chem.MolFromSmiles('OC(C=C1)=CC=C1C[At]'     )\n",
    "}\n",
    "\n",
    "At = Chem.MolFromSmarts('[At]') \n",
    "df['adduct_pdb'] = df.apply(lambda x: Chem.Mol(Chem.ReplaceSubstructs(x.adduct_pdb, achor, sub[f'{x.res_name}_{x.res_atom_name}'])[0]), axis=1) "
   ]
  },
  {
   "cell_type": "code",
   "execution_count": 4,
   "id": "processed-buffalo",
   "metadata": {
    "ExecuteTime": {
     "end_time": "2022-09-14T13:46:12.618099Z",
     "start_time": "2022-09-14T13:46:06.786519Z"
    }
   },
   "outputs": [],
   "source": [
    "for idx, row in df.iterrows(): \n",
    "    mol = row['adduct_pdb']\n",
    "    mol = Chem.MolFromSmiles(Chem.MolToSmiles(mol))\n",
    "    try:\n",
    "        Chem.SanitizeMol(mol)   \n",
    "    except:\n",
    "        print(idx) \n",
    "        break\n",
    "df['adduct_pdb'] = df.apply(lambda r: Chem.MolFromSmiles(Chem.MolToSmiles(r.adduct_pdb)), axis=1) "
   ]
  },
  {
   "cell_type": "code",
   "execution_count": 5,
   "id": "norwegian-teddy",
   "metadata": {
    "ExecuteTime": {
     "end_time": "2022-09-14T13:46:13.331728Z",
     "start_time": "2022-09-14T13:46:12.619648Z"
    }
   },
   "outputs": [],
   "source": [
    "for name, row in df.iterrows():\n",
    "    m = row['adduct_pdb'] \n",
    "    try:\n",
    "        m.GetAtomWithIdx(m.GetSubstructMatch(At)[0]).SetProp(\"atomLabel\", row['res_name'])\n",
    "    except:\n",
    "        print(name)\n",
    "\n",
    "df['binder_img'     ] = df.apply(lambda r: str(r.binder_mol), axis=1)\n",
    "df['adduct_img'     ] = df.apply(lambda r: str(r.adduct_pdb), axis=1)   \n",
    "# 2m 21s"
   ]
  },
  {
   "cell_type": "code",
   "execution_count": 6,
   "id": "architectural-lafayette",
   "metadata": {
    "ExecuteTime": {
     "end_time": "2022-09-14T13:46:15.571210Z",
     "start_time": "2022-09-14T13:46:15.521817Z"
    }
   },
   "outputs": [
    {
     "name": "stdout",
     "output_type": "stream",
     "text": [
      "None\n"
     ]
    }
   ],
   "source": [
    "import Bio.PDB, os, urllib\n",
    "rcsb_cif_dir    = '/scratch/xg590/source/rcsb_cif' \n",
    "\n",
    "def add_bond_str(cbr, debug=False):\n",
    "    adduct_id = '_'.join([cbr.split(',')[i] for i in [0,2,4,6,7,8,9,12,14,16,17,18,19]])\n",
    "    pv_file_path = f'/scratch/xg590/scratch/pv_bond_str/{adduct_id}' \n",
    "    if os.path.exists(pv_file_path): return None \n",
    "    PDB_ID, _, chain_id_1, _, _, _, res_num_1, ins_code_1, atom_id_1, alt_id_1, _,  \\\n",
    "            _, chain_id_2, _, _, _, res_num_2, ins_code_2, atom_id_2, alt_id_2, _ = cbr.split(',')# alt_id_1 is not important\n",
    "    __bond_atom_id_1__ = f\"0_{chain_id_1}_{res_num_1}_{ins_code_1 if ins_code_1!='?' else ' '}_{atom_id_1}\"\n",
    "    __bond_atom_id_2__ = f\"0_{chain_id_2}_{res_num_2}_{ins_code_2 if ins_code_2!='?' else ' '}_{atom_id_2}\"\n",
    "    pdb_id = PDB_ID.lower()\n",
    "    parser = Bio.PDB.FastMMCIFParser()\n",
    "    \n",
    "    cif_file_path = f'{rcsb_cif_dir}/{pdb_id[1:3]}/{pdb_id}.cif'\n",
    "    if os.path.exists(cif_file_path): \n",
    "        pass\n",
    "    else: \n",
    "        r = urllib.request.urlopen(f'http://files.rcsb.org/download/{pdb_id}.cif')\n",
    "        with open(cif_file_path, 'wb') as fw:\n",
    "            fw.write(r.read()) \n",
    "    \n",
    "    try:\n",
    "        pdb = parser.get_structure(pdb_id, cif_file_path) \n",
    "    except:\n",
    "        print(adduct_id,cif_file_path,'\\n')\n",
    "        return None\n",
    "    bond_atom = []\n",
    "    for a in pdb.get_atoms(): \n",
    "        pdb_id, mod_id, chain_id, (_, res_num, ins_code), (atom_id, alt_id) = a.full_id\n",
    "        __atom_id__ = f'{mod_id}_{chain_id}_{res_num}_{ins_code}_{atom_id}'  \n",
    "        if __atom_id__ in [__bond_atom_id_1__, __bond_atom_id_2__]:  \n",
    "            bond_atom.append({'ele': a.element, 'coord':a.coord.tolist()})\n",
    "            if len(bond_atom) == 2: break  \n",
    "    if len(bond_atom) != 2: \n",
    "        print(cbr, adduct_id)\n",
    "        raise\n",
    "    color_code = { 'C':'grey', 'O':'red', 'N':'blue', 'P':'orange', 'S':'yellow', 'F':'green', 'CL':'green', 'BR':'red', 'I':'red', 'B':'red'}\n",
    "    middle_atom_coord = [(i+j)/2 for i, j in zip(bond_atom[0]['coord'], bond_atom[1]['coord'])]\n",
    "    #print( [k['coord'] for k in bond_atom])\n",
    "    _add_bond_str = f'''\n",
    "            var cm = viewer.customMesh('cross');\n",
    "            cm.addTube({bond_atom[0]['coord']}, {middle_atom_coord}, 0.3, {{ cap : true, color : '{color_code[bond_atom[0]['ele']]}'}});\n",
    "            cm.addTube({bond_atom[1]['coord']}, {middle_atom_coord}, 0.3, {{ cap : true, color : '{color_code[bond_atom[1]['ele']]}'}}); \n",
    "    '''  \n",
    "    if debug: print(_add_bond_str)\n",
    "    with open(pv_file_path, 'w') as fw: \n",
    "        fw.write(_add_bond_str)  \n",
    "print(add_bond_str('5F19,B,B,SER,SER,499,530,?,OG,?,polymer,B,B,OAS,OAS,0,0,?,C,?,non-polymer', True))"
   ]
  },
  {
   "cell_type": "code",
   "execution_count": 7,
   "id": "affected-danish",
   "metadata": {
    "ExecuteTime": {
     "end_time": "2022-09-14T13:46:19.098501Z",
     "start_time": "2022-09-14T13:46:18.524574Z"
    }
   },
   "outputs": [],
   "source": [
    "import multiprocessing\n",
    "with multiprocessing.Pool(processes=multiprocessing.cpu_count()) as p:\n",
    "    p.map(add_bond_str, df['covalent_bond_record'], multiprocessing.cpu_count()) "
   ]
  },
  {
   "cell_type": "code",
   "execution_count": 8,
   "id": "greenhouse-string",
   "metadata": {
    "ExecuteTime": {
     "end_time": "2022-09-14T13:46:23.851467Z",
     "start_time": "2022-09-14T13:46:23.420450Z"
    }
   },
   "outputs": [],
   "source": [
    "pv_bond_str = {file.name:open(file.path).read() for file in os.scandir('/scratch/xg590/scratch/pv_bond_str') if file.is_file()} \n",
    " \n",
    "df['add_bond_str'] = df.apply(lambda r: pv_bond_str[r.name], axis=1) "
   ]
  },
  {
   "cell_type": "code",
   "execution_count": 9,
   "id": "partial-occupation",
   "metadata": {
    "ExecuteTime": {
     "end_time": "2022-09-14T13:46:30.023008Z",
     "start_time": "2022-09-14T13:46:29.894636Z"
    }
   },
   "outputs": [],
   "source": [
    "df['NumHeavyAtoms'] = df.apply(lambda x: x['binder_mol'].GetNumHeavyAtoms(), axis=1)\n",
    "df_huge = df[df['NumHeavyAtoms']>=120].index"
   ]
  },
  {
   "cell_type": "code",
   "execution_count": 17,
   "id": "behavioral-thesis",
   "metadata": {
    "ExecuteTime": {
     "end_time": "2022-09-14T14:14:30.165499Z",
     "start_time": "2022-09-14T14:09:37.352699Z"
    }
   },
   "outputs": [
    {
     "name": "stderr",
     "output_type": "stream",
     "text": [
      "RDKit ERROR: [10:10:44] UFFTYPER: Unrecognized atom type: S_5+6 (21)\n",
      "RDKit ERROR: [10:11:19] UFFTYPER: Unrecognized charge state for atom: 4\n"
     ]
    }
   ],
   "source": [
    "import os\n",
    "def molGenerator(_):\n",
    "    mol, adduct_id, binder_id = _\n",
    "    if isinstance(mol, float): return None\n",
    "    file_path_adduct_id = f'/scratch/xg590/scratch/PDBcov/VueJs/s/struct/binder/{adduct_id}.mol'\n",
    "    file_path_binder_id = f'/scratch/xg590/scratch/PDBcov/VueJs/s/struct/binder/{binder_id}.sdf' \n",
    "    if os.path.exists(file_path_adduct_id) and os.path.exists(file_path_binder_id): return None\n",
    "        \n",
    "    mol = Chem.Mol(mol) \n",
    "    mol = Chem.AddHs(mol)\n",
    "    Chem.AllChem.EmbedMolecule(mol,randomSeed=0xf00d) \n",
    "    \n",
    "    if not os.path.exists(file_path_adduct_id): \n",
    "        with open(file_path_adduct_id, 'w') as fw: fw.write(Chem.MolToMolBlock(mol))  \n",
    "    \n",
    "    if not os.path.exists(file_path_binder_id): \n",
    "        writer = Chem.SDWriter(file_path_binder_id)\n",
    "        writer.write(mol)\n",
    "        writer.close \n",
    "\n",
    "_ = [[row['binder_mol'], _id, row['binder_id']] for _id, row in df.iterrows()] \n",
    "_ = [molGenerator(i) for i in _]"
   ]
  },
  {
   "cell_type": "raw",
   "id": "exempt-province",
   "metadata": {
    "ExecuteTime": {
     "end_time": "2022-09-06T17:01:31.320824Z",
     "start_time": "2022-09-06T17:01:31.316016Z"
    }
   },
   "source": [
    "for adduct_id in [ ]:\n",
    "    svg = f'/scratch/xg590/scratch/PDBcov/VueJs/s/img/reaction/{adduct_id}.svg'\n",
    "    mol = f'/scratch/xg590/scratch/PDBcov/VueJs/s/img/reaction/{adduct_id}.mol'\n",
    "    if os.path.exists(svg):\n",
    "        print(adduct_id,'-')\n",
    "        os.remove(svg)\n",
    "    if os.path.exists(mol):        \n",
    "        print(adduct_id,'+')\n",
    "        os.remove(mol)"
   ]
  },
  {
   "cell_type": "code",
   "execution_count": null,
   "id": "southern-mortgage",
   "metadata": {
    "ExecuteTime": {
     "end_time": "2022-09-14T07:01:18.079123Z",
     "start_time": "2022-09-14T07:01:17.836541Z"
    }
   },
   "outputs": [],
   "source": [
    "df.reindex(df_huge)[['binder_mol','adduct_pdb']].head(2)"
   ]
  },
  {
   "cell_type": "code",
   "execution_count": null,
   "id": "likely-prayer",
   "metadata": {
    "ExecuteTime": {
     "end_time": "2022-09-14T07:01:18.895900Z",
     "start_time": "2022-09-14T07:01:18.084165Z"
    }
   },
   "outputs": [],
   "source": [
    "import requests, os \n",
    "rcsb_cif_dir    = '/scratch/xg590/source/rcsb_cif'\n",
    "chimerax_port = 1\n",
    "def foo():\n",
    "    for idx, row in df.iterrows(): \n",
    "        PDB_ID, res_chain, binder_chain = [row['covalent_bond_record'].split(',')[i] for i in [0,2,12]]  \n",
    "        if os.path.exists(f'/scratch/xg590/scratch/PDBcov/VueJs/s/struct/chain/{PDB_ID}_{res_chain}_{binder_chain}.pdb') : continue\n",
    "        pdb_id = PDB_ID.lower() \n",
    "        print(pdb_id)\n",
    "        continue\n",
    "        \n",
    "        cmd = [ f'close all', f'open {rcsb_cif_dir}/{pdb_id[1:3]}/{pdb_id}.cif',]\n",
    "        requests.get(f'http://127.0.0.1:{chimerax_port}/run', params={'command': cmd}) \n",
    "        cmd = [\n",
    "                f'sel #1.1/{cr[1]} #1.1/{cr[7]} ',  \n",
    "        ]   \n",
    "        a = requests.get(f'http://127.0.0.1:{chimerax_port}/run', params={'command': cmd}) \n",
    "        if a.text!='Nothing selected\\n':    \n",
    "            cmd = [\n",
    "                'sel #1.1', 'del ~sel', \n",
    "            ] \n",
    "            requests.get(f'http://127.0.0.1:{chimerax_port}/run', params={'command': cmd})  \n",
    "        \n",
    "        cmd = [f'sel /{cr[1]} /{cr[7]} ', \n",
    "               f'save /scratch/xg590/scratch/PDBcov/VueJs/s/struct/chain/{PDB_ID}_{res_chain}_{binder_chain}.pdb format pdb selectedOnly true']  \n",
    "        requests.get(f'http://127.0.0.1:{chimerax_port}/run', params={'command': cmd})   \n",
    "foo()"
   ]
  },
  {
   "cell_type": "code",
   "execution_count": null,
   "id": "corresponding-palestine",
   "metadata": {
    "ExecuteTime": {
     "end_time": "2022-09-14T07:01:19.784009Z",
     "start_time": "2022-09-14T07:01:18.897031Z"
    }
   },
   "outputs": [],
   "source": [
    "df.to_pickle('/scratch/xg590/scratch/PDBcov/FlaskPy/df_web.pkl')"
   ]
  },
  {
   "cell_type": "raw",
   "id": "wicked-mailing",
   "metadata": {
    "ExecuteTime": {
     "end_time": "2022-09-14T03:35:56.771789Z",
     "start_time": "2022-09-14T03:35:56.722618Z"
    }
   },
   "source": [
    "df_huge[['warhead_name','note','doi']]"
   ]
  }
 ],
 "metadata": {
  "kernelspec": {
   "display_name": "Python 3",
   "language": "python",
   "name": "python3"
  },
  "language_info": {
   "codemirror_mode": {
    "name": "ipython",
    "version": 3
   },
   "file_extension": ".py",
   "mimetype": "text/x-python",
   "name": "python",
   "nbconvert_exporter": "python",
   "pygments_lexer": "ipython3",
   "version": "3.7.10"
  }
 },
 "nbformat": 4,
 "nbformat_minor": 5
}
