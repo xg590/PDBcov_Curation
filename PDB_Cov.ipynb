{
 "cells": [
  {
   "cell_type": "code",
   "execution_count": 1,
   "metadata": {
    "ExecuteTime": {
     "end_time": "2020-12-08T11:54:11.033609Z",
     "start_time": "2020-12-08T11:54:09.796517Z"
    },
    "code_folding": []
   },
   "outputs": [
    {
     "name": "stderr",
     "output_type": "stream",
     "text": [
      "RDKit WARNING: [06:54:10] Enabling RDKit 2019.09.3 jupyter extensions\n"
     ]
    }
   ],
   "source": [
    "import pickle5\n",
    "with open('pdb_cov.pkl', 'rb') as fr: df = pickle5.load(fr)\n",
    "df = df[df['recovery_strategy']=='manual']\n",
    "df['short_adduct_name'] = df.apply(lambda x: '_'.join([x.covalent_record.split(',')[i] for i in [4,8,14,18]]), axis=1)"
   ]
  },
  {
   "cell_type": "code",
   "execution_count": 2,
   "metadata": {
    "ExecuteTime": {
     "end_time": "2020-12-08T11:54:11.438777Z",
     "start_time": "2020-12-08T11:54:11.035692Z"
    },
    "code_folding": [
     18,
     23,
     110,
     122,
     265
    ]
   },
   "outputs": [],
   "source": [
    "# pip install biopython\n",
    "import io, urllib, Bio.PDB, sys, bs4\n",
    "from rdkit import Chem\n",
    "from rdkit.Chem import AllChem, PandasTools\n",
    "PandasTools.RenderImagesInAllDataFrames(images=True)\n",
    "from rdkit.Chem.Draw import IPythonConsole  \n",
    "from rdkit.Geometry.rdGeometry import Point3D\n",
    " \n",
    "class PDB_Cov_Exception(Exception):\n",
    "    def __init__(self, msg=None):\n",
    "        Exception.__init__(self, msg) \n",
    "        \n",
    "class WARHEAD: \n",
    "    def smarts(self, mol, smarts, name=None, ligand_type=None, reaction_type=None, note=None):\n",
    "        self.mol            = Chem.MolFromSmarts(smarts)\n",
    "        self.warhead_smiles = smarts\n",
    "        self.warhead        = name\n",
    "        self.ligand_type    = ligand_type\n",
    "        self.reaction_type  = reaction_type\n",
    "        self.note           = note\n",
    "        return mol.HasSubstructMatch(self.mol)\n",
    "\n",
    "class ONE:\n",
    "    def __init__(self):\n",
    "        pass\n",
    "    \n",
    "class PDB_Cov: \n",
    "    def __get_covalent_bond_record__(self, debug=False):\n",
    "        try:\n",
    "            pdbid = self.pdbid.lower()\n",
    "            blc = Bio.PDB.MMCIF2Dict.MMCIF2Dict(f'/beegfs/xg590/source/rcsb_cif/{pdbid[1:3]}/{pdbid}.cif')\n",
    "            if debug: print(f'We have local copy of {pdbid}.cif')\n",
    "        except FileNotFoundError: \n",
    "            r = urllib.request.urlopen(f'http://files.rcsb.org/download/{pdbid}.cif')\n",
    "            f = io.StringIO(r.read().decode())\n",
    "            if debug: print(f'We fetched {pdbid}.cif from RCSB PDB')\n",
    "            blc = Bio.PDB.MMCIF2Dict.MMCIF2Dict(f)   \n",
    "        if \"_struct_conn.id\" not in blc: return f'{blc[\"_entry.id\"]}:struct_conn_IS_NOT_FOUND'\n",
    "    \n",
    "        Acceptable_Nucleophile = [('ASP', 'OD1'), ('ASP', 'OD2'), ('CYS', 'SG'), ('GLU', 'OE1'), ('GLU', 'OE2'), ('HIS', 'ND1'), ('HIS', 'NE2'), ('LYS', 'NZ'), ('MET', 'SD'),  ('THR', 'OG1'), ('SER', 'OG'), ('TYR', 'OH')]\n",
    "        Invalid_Binder = {'ALA': 'is an amino-acid residue', 'ARG': 'is an amino-acid residue', 'ASN': 'is an amino-acid residue', 'ASP': 'is an amino-acid residue', 'CYS': 'is an amino-acid residue', 'GLU': 'is an amino-acid residue', 'GLN': 'is an amino-acid residue', 'GLY': 'is an amino-acid residue', 'HIS': 'is an amino-acid residue', 'ILE': 'is an amino-acid residue', 'LEU': 'is an amino-acid residue', 'LYS': 'is an amino-acid residue', 'MET': 'is an amino-acid residue', 'PHE': 'is an amino-acid residue', 'PRO': 'is an amino-acid residue', 'SER': 'is an amino-acid residue', 'THR': 'is an amino-acid residue', 'TRP': 'is an amino-acid residue', 'TYR': 'is an amino-acid residue', 'VAL': 'is an amino-acid residue', 'DA': 'is a nucleotide residue', 'DC': 'is a nucleotide residue', 'DG': 'is a nucleotide residue', 'DT': 'is a nucleotide residue', 'DI': 'is a nucleotide residue', 'A': 'is a nucleotide residue', 'C': 'is a nucleotide residue', 'G': 'is a nucleotide residue', 'U': 'is a nucleotide residue', 'UNL': 'Unknown Ligand/Atom', 'UNX': 'Unknown Ligand/Atom', 'UNK': 'Unknown Ligand/Atom', 'CO3': 'Anion', 'SO2': 'Anion', 'SO3': 'Anion', 'SO4': 'Anion', 'NO3': 'Anion', 'PO3': 'Anion', 'PO4': 'Anion', 'MAN': 'Alpha-D-Mannose', 'GOL': 'Pentaethylene Glycol', '1PE': 'Glycol', 'NAP': 'NADP+', 'BR': 'Element is not ligand ', 'CO2': 'Carbon Dioxide   see https://pubs.acs.org/doi/10.1021/bi960424z', 'PEG': 'Diethylene Glycol', 'PAM': 'PTM: Palmitoylation', 'DPN': 'AA: D-Phenylalanine', 'PYE': 'Tetrahydropyran ', 'BEN': 'A non-covalent inhibitor to trypsin and Xa factor, is often used as a ligand in protein crystallography to prevent proteases from degrading a protein of interest', 'GDP': \"Guanosine-5'-Diphosphate\", 'AMP': 'Adenosine Monophosphate', 'ADP': \"Adenosine-5'-Diphosphate\", 'ATP': \"Adenosine-5'-Triphosphate\", 'GTP': \"Guanosine-5'-Triphosphate\", 'NAG': 'GlcNAc PTM', 'O': 'Oxygen ??? 1ADL', 'IOD': 'Iodine', 'Z': 'DNA linking', 'CL': 'Chlorine ', 'AYE': 'part of UbPA', 'MLY': 'methylated LYS / PTM', 'MTN': 'MTSL is an organosulfur compound that is used as a nitroxide spin label.', 'PEB': 'PHYCOERYTHROBILIN', 'PUB': 'PHYCOUROBILIN', 'PVN': 'PHYCOVIOLOBILIN', 'VRB': 'Phycoviolobilin', 'CYC': 'PHYCOCYANOBILIN', 'COA': 'Cofactor CoA', 'BLA': 'BILIVERDINE IX ALPHA', 'DBV': '15,16-DIHYDROBILIVERDIN', 'PCA': 'Modified Residues', 'ABA': 'Modified Residues', 'CME': 'Modified Residues ', 'FAD': 'flavin adenine dinucleotide', 'PLP': 'Pyridoxal phosphate cofactors', 'PMP': \"pyridoxamine 5'-phosphate cofactors\", 'BME': '2-Mercaptoethanol Reducing Agents. If your protein contains cysteine residues, oxidation could become a problem and cause protein aggregation. To prevent this, keep a reducing agent such as DTT, TCEP, or 2-mercaptoethanol in your buffer.'}\n",
    "        Acceptable_Element = set(['C', 'H', 'D', 'O', 'N', 'P', 'S', 'F', 'CL', 'BR', 'I', 'B'])\n",
    "        for i, conn_type_id in enumerate(blc[\"_struct_conn.conn_type_id\"]):\n",
    "            if conn_type_id == 'covale':\n",
    "                col = []\n",
    "                for j, label_entity_id in enumerate(blc['_atom_site.label_entity_id']):\n",
    "                    if  blc[\"_atom_site.label_asym_id\"    ][j] == blc[\"_struct_conn.ptnr1_label_asym_id\"     ][i] and \\\n",
    "                        blc[\"_atom_site.auth_asym_id\"     ][j] == blc[\"_struct_conn.ptnr1_auth_asym_id\"      ][i] and \\\n",
    "                        blc[\"_atom_site.label_comp_id\"    ][j] == blc[\"_struct_conn.ptnr1_label_comp_id\"     ][i] and \\\n",
    "                        blc[\"_atom_site.auth_comp_id\"     ][j] == blc[\"_struct_conn.ptnr1_auth_comp_id\"      ][i] and \\\n",
    "                        blc[\"_atom_site.label_seq_id\"     ][j] == blc[\"_struct_conn.ptnr1_label_seq_id\"      ][i] and \\\n",
    "                        blc[\"_atom_site.auth_seq_id\"      ][j] == blc[\"_struct_conn.ptnr1_auth_seq_id\"       ][i] and \\\n",
    "                        blc[\"_atom_site.pdbx_PDB_ins_code\"][j] == blc[\"_struct_conn.pdbx_ptnr1_PDB_ins_code\" ][i]:\n",
    "                        for k, id_ in enumerate(blc[\"_entity.id\"]):\n",
    "                            if label_entity_id == id_:\n",
    "                                col.append(blc[\"_entry.id\"][0])\n",
    "                                col.append(blc[\"_struct_conn.ptnr1_label_asym_id\"     ][i])\n",
    "                                col.append(blc[\"_struct_conn.ptnr1_auth_asym_id\"      ][i])\n",
    "                                col.append(blc[\"_struct_conn.ptnr1_label_comp_id\"     ][i])\n",
    "                                col.append(blc[\"_struct_conn.ptnr1_auth_comp_id\"      ][i])\n",
    "                                col.append(blc[\"_struct_conn.ptnr1_label_seq_id\"      ][i])\n",
    "                                col.append(blc[\"_struct_conn.ptnr1_auth_seq_id\"       ][i])\n",
    "                                col.append(blc[\"_struct_conn.pdbx_ptnr1_PDB_ins_code\" ][i])\n",
    "                                col.append(blc[\"_struct_conn.ptnr1_label_atom_id\"     ][i])\n",
    "                                col.append(blc[\"_struct_conn.pdbx_ptnr1_label_alt_id\" ][i]) \n",
    "                                col.append(blc[\"_entity.type\"][k])    \n",
    "                                break\n",
    "                        break\n",
    "                for j, label_entity_id in enumerate(blc['_atom_site.label_entity_id']):\n",
    "                    if  blc[\"_atom_site.label_asym_id\"    ][j] == blc[\"_struct_conn.ptnr2_label_asym_id\"     ][i] and \\\n",
    "                        blc[\"_atom_site.auth_asym_id\"     ][j] == blc[\"_struct_conn.ptnr2_auth_asym_id\"      ][i] and \\\n",
    "                        blc[\"_atom_site.label_comp_id\"    ][j] == blc[\"_struct_conn.ptnr2_label_comp_id\"     ][i] and \\\n",
    "                        blc[\"_atom_site.auth_comp_id\"     ][j] == blc[\"_struct_conn.ptnr2_auth_comp_id\"      ][i] and \\\n",
    "                        blc[\"_atom_site.label_seq_id\"     ][j] == blc[\"_struct_conn.ptnr2_label_seq_id\"      ][i] and \\\n",
    "                        blc[\"_atom_site.auth_seq_id\"      ][j] == blc[\"_struct_conn.ptnr2_auth_seq_id\"       ][i] and \\\n",
    "                        blc[\"_atom_site.pdbx_PDB_ins_code\"][j] == blc[\"_struct_conn.pdbx_ptnr2_PDB_ins_code\" ][i]:\n",
    "                        for k, id_ in enumerate(blc[\"_entity.id\"]):\n",
    "                            if label_entity_id == id_: \n",
    "                                col.append(blc[\"_struct_conn.ptnr2_label_asym_id\"     ][i])\n",
    "                                col.append(blc[\"_struct_conn.ptnr2_auth_asym_id\"      ][i])\n",
    "                                col.append(blc[\"_struct_conn.ptnr2_label_comp_id\"     ][i])\n",
    "                                col.append(blc[\"_struct_conn.ptnr2_auth_comp_id\"      ][i])\n",
    "                                col.append(blc[\"_struct_conn.ptnr2_label_seq_id\"      ][i])\n",
    "                                col.append(blc[\"_struct_conn.ptnr2_auth_seq_id\"       ][i])\n",
    "                                col.append(blc[\"_struct_conn.pdbx_ptnr2_PDB_ins_code\" ][i])\n",
    "                                col.append(blc[\"_struct_conn.ptnr2_label_atom_id\"     ][i])\n",
    "                                col.append(blc[\"_struct_conn.pdbx_ptnr2_label_alt_id\" ][i]) \n",
    "                                col.append(blc[\"_entity.type\"][k]) \n",
    "                                break \n",
    "                        break\n",
    "                #    0 1 2   3   4   5   6 7 8 9      10 1 2   3   4   5   6 7 8 9      20    \n",
    "                # 2XAZ,A,A,LEU,LEU,729,729,?,C,?,polymer,A,A,NIY,NIY,730,730,?,N,?,polymer\n",
    "                if   (col[4],  col[8] ) in Acceptable_Nucleophile and col[10] == 'polymer': \n",
    "                    pass\n",
    "                elif (col[14], col[18]) in Acceptable_Nucleophile and col[20] == 'polymer': \n",
    "                    col = [col[0]] + col[11:] + col[1:11] # Reconstruct the list\n",
    "                else: \n",
    "                    if debug: print(f\"Invalid covalent bond record: {','.join(col)}\")\n",
    "                    continue # skip invalid covalent modification\n",
    "                if col[14] in Invalid_Binder: \n",
    "                    if debug: print(f'The binder {col[14]} is invalid because of {Invalid_Binder[col[14]]}')\n",
    "                    continue\n",
    "                binder_element_collector = [] \n",
    "                for i, type_symbol in enumerate(blc['_atom_site.type_symbol']):  \n",
    "                    if blc[\"_atom_site.auth_asym_id\"][i]==col[12] and blc[\"_atom_site.auth_comp_id\"][i]==col[14]: \n",
    "                        binder_element_collector.append(type_symbol) \n",
    "                if set(binder_element_collector).difference(Acceptable_Element):\n",
    "                    if debug: print(f'The binder in this record is invalid because it contains {set(binder_element_collector).difference(Acceptable_Element)}')\n",
    "                    continue   \n",
    "                one = ONE()\n",
    "                one.covalent_bond_record = ','.join(col)\n",
    "                self.ones.append(one)\n",
    "        return None\n",
    "\n",
    "    def __get_adduct_name__(self): \n",
    "        self._short_adduct_names_ = []\n",
    "        self._long_adduct_name_   = []\n",
    "        for one in self.ones:\n",
    "            cbr = one.covalent_bond_record + ',cif'\n",
    "            cbr = cbr.split(',')\n",
    "            one.short_adduct_name = '_'.join([cbr[j] for j in [4,8,14,18]])\n",
    "            self._short_adduct_names_.append(one.short_adduct_name)\n",
    "            one.long_adduct_name  = '_'.join([cbr[j] for j in [0,2,4,6,7,8,9,12,14,16,17,18,19,21]]) \n",
    "            self._long_adduct_name_.append(one.long_adduct_name)\n",
    "        return None\n",
    "\n",
    "    def __get_adduct_pdb_from_covalent_bond_record__(self, cbr, debug=False):\n",
    "        col = cbr.split(',')\n",
    "        pdbid,amino_acid_name,amino_acid_atom_name,binder_name,binder_atom_name=col[0],col[4],col[8],col[14],col[18]\n",
    "        try:\n",
    "            pdbid = pdbid.lower()\n",
    "            blc = Bio.PDB.MMCIF2Dict.MMCIF2Dict(f'/beegfs/xg590/source/rcsb_cif/{pdbid[1:3]}/{pdbid}.cif')\n",
    "            if debug: print(f'We have local copy of {pdbid}.cif')\n",
    "        except FileNotFoundError: \n",
    "            r = urllib.request.urlopen(f'http://files.rcsb.org/download/{pdbid}.cif')\n",
    "            f = io.StringIO(r.read().decode())\n",
    "            if debug: print(f'We fetched {pdbid}.cif from RCSB PDB')\n",
    "            blc = Bio.PDB.MMCIF2Dict.MMCIF2Dict(f)    \n",
    "        atom_name_in_adduct = []\n",
    "        for i, label_entity_id in enumerate(blc['_atom_site.label_entity_id']):\n",
    "            if  blc[\"_atom_site.label_asym_id\"    ][i] == col[11] and \\\n",
    "                blc[\"_atom_site.auth_asym_id\"     ][i] == col[12] and \\\n",
    "                blc[\"_atom_site.label_comp_id\"    ][i] == col[13] and \\\n",
    "                blc[\"_atom_site.auth_comp_id\"     ][i] == col[14] and \\\n",
    "                blc[\"_atom_site.label_seq_id\"     ][i] == col[15] and \\\n",
    "                blc[\"_atom_site.auth_seq_id\"      ][i] == col[16] and \\\n",
    "                blc[\"_atom_site.pdbx_PDB_ins_code\"][i] == col[17]: \n",
    "                atom_name_in_adduct.append(blc[\"_atom_site.auth_atom_id\"][i]) \n",
    "\n",
    "        try: \n",
    "            blc = Bio.PDB.MMCIF2Dict.MMCIF2Dict( f'/beegfs/xg590/source/cpd_cif/{binder_name}.cif')\n",
    "            if debug: print(f'We have local copy of {binder_name}.cif')\n",
    "        except FileNotFoundError:\n",
    "            r = urllib.request.urlopen(f'http://files.rcsb.org/ligands/view/{binder_name}.cif')\n",
    "            f = io.StringIO(r.read().decode())\n",
    "            if debug: print(f'We fetched {binder_name}.cif from RCSB PDB')\n",
    "            blc = Bio.PDB.MMCIF2Dict.MMCIF2Dict(f)\n",
    "          \n",
    "        Yes_to_True = {'Y':True, 'N':False}\n",
    "        symbol_map  = {'H': 'H', 'HE': 'He', 'LI': 'Li', 'BE': 'Be', 'B': 'B', 'C': 'C', 'N': 'N', 'O': 'O', 'F': 'F', 'NE': 'Ne', 'NA': 'Na', 'MG': 'Mg', 'AL': 'Al', 'SI': 'Si', 'P': 'P', 'S': 'S', 'CL': 'Cl', 'AR': 'Ar', 'K': 'K', 'CA': 'Ca', 'SC': 'Sc', 'TI': 'Ti', 'V': 'V', 'CR': 'Cr', 'MN': 'Mn', 'FE': 'Fe', 'CO': 'Co', 'NI': 'Ni', 'CU': 'Cu', 'ZN': 'Zn', 'GA': 'Ga', 'GE': 'Ge', 'AS': 'As', 'SE': 'Se', 'BR': 'Br', 'KR': 'Kr', 'RB': 'Rb', 'SR': 'Sr', 'Y': 'Y', 'ZR': 'Zr', 'NB': 'Nb', 'MO': 'Mo', 'TC': 'Tc', 'RU': 'Ru', 'RH': 'Rh', 'PD': 'Pd', 'AG': 'Ag', 'CD': 'Cd', 'IN': 'In', 'SN': 'Sn', 'SB': 'Sb', 'TE': 'Te', 'I': 'I', 'XE': 'Xe', 'CS': 'Cs', 'BA': 'Ba', 'LA': 'La', 'HF': 'Hf', 'TA': 'Ta', 'W': 'W', 'RE': 'Re', 'OS': 'Os', 'IR': 'Ir', 'PT': 'Pt', 'AU': 'Au', 'HG': 'Hg', 'TL': 'Tl', 'PB': 'Pb', 'BI': 'Bi', 'PO': 'Po', 'AT': 'At', 'RN': 'Rn', 'FR': 'Fr', 'RA': 'Ra', 'AC': 'Ac', 'RF': 'Rf', 'DB': 'Db', 'SG': 'Sg', 'BH': 'Bh', 'HS': 'Hs', 'MT': 'Mt', 'DS': 'Ds', 'RG': 'Rg', 'CN': 'Cn', 'NH': 'Nh', 'FL': 'Fl', 'MC': 'Mc', 'LV': 'Lv', 'TS': 'Ts', 'OG': 'Og', 'CE': 'Ce', 'PR': 'Pr', 'ND': 'Nd', 'PM': 'Pm', 'SM': 'Sm', 'EU': 'Eu', 'GD': 'Gd', 'TB': 'Tb', 'DY': 'Dy', 'HO': 'Ho', 'ER': 'Er', 'TM': 'Tm', 'YB': 'Yb', 'LU': 'Lu', 'TH': 'Th', 'PA': 'Pa', 'U': 'U', 'NP': 'Np', 'PU': 'Pu', 'AM': 'Am', 'CM': 'Cm', 'BK': 'Bk', 'CF': 'Cf', 'ES': 'Es', 'FM': 'Fm', 'MD': 'Md', 'NO': 'No', 'LR': 'Lr'}\n",
    "        bond_types  = {'SING':Chem.BondType.SINGLE, 'DOUB':Chem.BondType.DOUBLE, 'TRIP':Chem.BondType.TRIPLE}\n",
    "        \n",
    "        edMol       = Chem.EditableMol(Chem.Mol()) \n",
    "        # Atom Related Section \n",
    "        RESNs    = blc['_chem_comp_atom.comp_id'                  ]   \n",
    "        ATMNs    = blc['_chem_comp_atom.atom_id'                  ]  \n",
    "        SYMBOLs  = blc['_chem_comp_atom.type_symbol'              ]      \n",
    "        CHARGEs  = blc['_chem_comp_atom.charge'                   ]   \n",
    "        AROMFs   = blc['_chem_comp_atom.pdbx_aromatic_flag'       ]\n",
    "        Xs       = blc['_chem_comp_atom.model_Cartn_x'            ] \n",
    "        Ys       = blc['_chem_comp_atom.model_Cartn_y'            ] \n",
    "        Zs       = blc['_chem_comp_atom.model_Cartn_z'            ]  \n",
    "        Xs_ideal = blc['_chem_comp_atom.pdbx_model_Cartn_x_ideal' ]\n",
    "        Ys_ideal = blc['_chem_comp_atom.pdbx_model_Cartn_y_ideal' ]  \n",
    "        Zs_ideal = blc['_chem_comp_atom.pdbx_model_Cartn_z_ideal' ] \n",
    "        idx_map     = {}\n",
    "        for resn, atom_name, symbol, charge, aromatic in zip(RESNs, ATMNs, SYMBOLs, CHARGEs, AROMFs): \n",
    "            atom = Chem.Atom(symbol_map[symbol]) \n",
    "            atom.SetMonomerInfo(Chem.AtomPDBResidueInfo(atomName = atom_name, residueName = resn)) \n",
    "            if charge!='?': atom.SetFormalCharge(int(charge))\n",
    "            atom.SetIsAromatic(Yes_to_True[aromatic])\n",
    "            atom_id = edMol.AddAtom(atom) \n",
    "            idx_map[atom_name] = atom_id  \n",
    "            \n",
    "        # Bond Related Section \n",
    "        BGN_ATMNs   = blc['_chem_comp_bond.atom_id_1'   ]   \n",
    "        END_ATMNs   = blc['_chem_comp_bond.atom_id_2'   ] \n",
    "        ORDERs      = blc['_chem_comp_bond.value_order' ]    \n",
    "        for begin_atom_name, end_atom_name, bond_type in zip(BGN_ATMNs, END_ATMNs, ORDERs):\n",
    "            begin_atom_idx = idx_map[begin_atom_name] \n",
    "            end_atom_idx   = idx_map[end_atom_name  ]\n",
    "            bond_type      = bond_types[bond_type]\n",
    "            edMol.AddBond(begin_atom_idx, end_atom_idx, bond_type)  \n",
    "        \n",
    "        mol = edMol.GetMol()  \n",
    "        try:\n",
    "            Chem.SanitizeMol(mol)\n",
    "        except: \n",
    "            raise myException(f'Sanitation Failure for {pdbid}')\n",
    "        \n",
    "        # Conformation\n",
    "        if not '?' in Xs:\n",
    "            pass # Xs, Ys, Zs = Xs, Ys, Zs\n",
    "        elif '?' not in Xs_ideal: \n",
    "            Xs, Ys, Zs = Xs_ideal, Ys_ideal, Zs_ideal\n",
    "        else: \n",
    "            raise myException(f'Problem with atomic coordinate for {pdbid}')\n",
    "        conf = Chem.Conformer() \n",
    "        for atom_id, (x, y, z) in enumerate(zip(Xs, Ys, Zs)):\n",
    "            conf.SetAtomPosition(atom_id, Point3D(float(x), float(y), float(z)))   \n",
    "        mol.AddConformer(conf, assignId=True)\n",
    "        AllChem.AssignAtomChiralTagsFromStructure(mol)\n",
    "        mol.RemoveAllConformers() \n",
    "        \n",
    "        try:\n",
    "            mol = Chem.RemoveHs(mol)\n",
    "        except:\n",
    "            raise myException(f'RemoveHs Failure for {pdbid}') \n",
    "            \n",
    "        AN = lambda atom: atom.GetMonomerInfo().GetName().strip() # Atom Name   \n",
    "        # We begin with the ligand-side-covalent-bond-end-atom on ligand \n",
    "        BinderEndAtom_template = [atom for atom in mol.GetAtoms() if AN(atom) == binder_atom_name][0]          # Atom In tPDB\n",
    "        atom_name_around_ligand_end_atom_in_template = set([AN(atom) for atom in BinderEndAtom_template.GetNeighbors()])\n",
    "        more_atom_in_template = set(atom_name_around_ligand_end_atom_in_template).difference(set(atom_name_in_adduct))\n",
    "        \n",
    "        amino_acid_atom_info = Chem.AtomPDBResidueInfo(residueName=amino_acid_name, atomName=amino_acid_atom_name)\n",
    "        if len(more_atom_in_template)==1: # Substitution\n",
    "            if debug: print('substitution')\n",
    "            more_atom_in_template = more_atom_in_template.pop()\n",
    "            assumedAminoAcidEndAtom = [atom for atom in mol.GetAtoms() if AN(atom) == more_atom_in_template][0] # Atom In tPDB  \n",
    "            assumedAminoAcidEndAtom.SetAtomicNum(85) \n",
    "            assumedAminoAcidEndAtom.SetMonomerInfo(amino_acid_atom_info) \n",
    "            sio = sys.stderr = io.StringIO()\n",
    "            try:  \n",
    "                atom_idxs = [atom.GetIdx() for atom in assumedAminoAcidEndAtom.GetNeighbors() if AN(atom)!=binder_atom_name] \n",
    "                if atom_idxs:\n",
    "                    edMol = Chem.EditableMol(mol)\n",
    "                    [edMol.RemoveBond(i, assumedAminoAcidEndAtom.GetIdx()) for i in sorted(atom_idxs, reverse=True)]\n",
    "                    mol = edMol.GetMol()\n",
    "                    AtIdx = mol.GetSubstructMatch(Chem.MolFromSmarts('[At]'))[0] \n",
    "                    atom_idxs_to_remove = [atom_idxs for atom_idxs in Chem.GetMolFrags(mol) if AtIdx not in atom_idxs]\n",
    "                    atom_idxs_to_remove = sorted([j for i in atom_idxs_to_remove for j in i], reverse=True) \n",
    "                    edMol = Chem.EditableMol(mol) \n",
    "                    [edMol.RemoveAtom(i) for i in atom_idxs_to_remove]\n",
    "                    mol = edMol.GetMol()  \n",
    "                    AtIdx = mol.GetSubstructMatch(Chem.MolFromSmarts('[At]'))[0]\n",
    "                    assumedAminoAcidEndAtom = mol.GetAtomWithIdx(AtIdx)\n",
    "                    if assumedAminoAcidEndAtom.GetIsAromatic(): assumedAminoAcidEndAtom.SetIsAromatic(False) # ValueError: Sanitization error: non-ring atom 14 marked aromatic\n",
    "                    Chem.SanitizeMol(mol)  \n",
    "            except Exception as e:  \n",
    "                raise myException(f'Unable to recover adduct for {pdbid}')  \n",
    "        elif len(more_atom_in_template)==0: # Reaction mechanism tend to be addition\n",
    "            if debug: print('addition')\n",
    "            ed = Chem.EditableMol(mol)\n",
    "            atom = Chem.Atom(85)\n",
    "            atom.SetMonomerInfo(amino_acid_atom_info) \n",
    "            aaEndAtomIdx = ed.AddAtom(atom) \n",
    "            ed.AddBond(BinderEndAtom_template.GetIdx(), aaEndAtomIdx, order=Chem.rdchem.BondType.SINGLE)\n",
    "            mol = ed.GetMol()\n",
    "            try:\n",
    "                sio = sys.stderr = io.StringIO() \n",
    "                Chem.Draw.MolToImage(mol)\n",
    "                mol.RemoveAllConformers()\n",
    "            except Exception as e:\n",
    "                raise myException(f'Unable to recover adduct for {pdbid}')  \n",
    "        else:\n",
    "            raise myException(f'Unable to recover adduct for {pdbid}')  \n",
    "        return mol        \n",
    "\n",
    "    def __get_adduct_pdb__(self, debug=False):\n",
    "        unique_adduct_name = set(self._short_adduct_names_)\n",
    "        for i in range(self.size):\n",
    "            name = self.ones[i].short_adduct_name\n",
    "            cbr  = self.ones[i].covalent_bond_record\n",
    "            if name in unique_adduct_name:\n",
    "                unique_adduct_name.remove(name)\n",
    "                self.ones[i].adduct_pdb = self.__get_adduct_pdb_from_covalent_bond_record__(cbr)\n",
    "                if debug: print(name, 'new')\n",
    "            else:\n",
    "                j = self._short_adduct_names_.index(name) \n",
    "                self.ones[i].adduct_pdb = self.ones[j].adduct_pdb.__copy__()\n",
    "                if debug: print(name, 'old')\n",
    "                if debug: display(self.ones[i].adduct_pdb)\n",
    "        return None \n",
    "    \n",
    "    def __get_binder_pdb_by_recovery__(self, one, debug=False): \n",
    "        mol = Chem.Mol(one.adduct_pdb)\n",
    "        warhead = WARHEAD()\n",
    "        if   warhead.smarts(mol, \"[At]~[#5]\"):\n",
    "            At, B = mol.GetSubstructMatch(warhead.mol) \n",
    "            B = mol.GetAtomWithIdx(B)\n",
    "            if B.GetDegree() == 4: B.SetFormalCharge(-1)\n",
    "            B.UpdatePropertyCache()\n",
    "            if warhead.smarts(mol, '[At]~[#5;R]', name='Cyclic_Boronic_Acid', ligand_type='inhibitor', reaction_type='Ring-opening'): \n",
    "                mol = AllChem.DeleteSubstructs(mol, Chem.MolFromSmarts(\"[At]\"))  \n",
    "                Chem.GetSymmSSSR(mol)  \n",
    "            elif warhead.smarts(mol, '[At]~[#5](O)(O)*', name='Boronic_Acid', ligand_type='inhibitor', reaction_type='Addition'):  \n",
    "                mol = AllChem.DeleteSubstructs(mol, Chem.MolFromSmarts(\"[At]\"))\n",
    "            elif warhead.smarts(mol, '[At]~[#5D3]', name='Boronic_Acid', ligand_type='inhibitor', reaction_type='Addition'):   \n",
    "                mol = Chem.Mol(mol)\n",
    "                At  = mol.GetSubstructMatch(Chem.MolFromSmarts(\"[At]\"))[0]\n",
    "                mol.GetAtomWithIdx(At).SetAtomicNum(8)   \n",
    "                \n",
    "        elif warhead.smarts(mol, '[At]C(=O)CCN=[C;R][C;R]', 'β-lactam', reaction_type='Ring-opening'):\n",
    "            At, C1, _, _, _, N, C2, C3 = mol.GetSubstructMatch(warhead.mol) \n",
    "            mol.GetBondBetweenAtoms(N, C2).SetBondType(Chem.rdchem.BondType.SINGLE)  \n",
    "            mol.GetBondBetweenAtoms(C2, C3).SetBondType(Chem.rdchem.BondType.DOUBLE)\n",
    "            mol.GetAtomWithIdx(C3).SetNumExplicitHs(0)\n",
    "            edMol = Chem.EditableMol(mol)\n",
    "            edMol.AddBond(C1, N, Chem.rdchem.BondType.SINGLE) \n",
    "            edMol.RemoveAtom(At)\n",
    "            mol = edMol.GetMol()    \n",
    "            \n",
    "        elif warhead.smarts(mol, '[At]C(=O)CCN', 'β-lactam', reaction_type='Ring-opening'):\n",
    "            At, C, _, _, _, N = mol.GetSubstructMatch(warhead.mol) \n",
    "            edMol = Chem.EditableMol(mol)\n",
    "            edMol.AddBond(C, N, Chem.rdchem.BondType.SINGLE) \n",
    "            edMol.RemoveAtom(At)\n",
    "            mol = edMol.GetMol() \n",
    "                \n",
    "        elif warhead.smarts(mol, '[At]C(=O)CCO', name='β-lactone', reaction_type='Ring-opening'):\n",
    "            At, C, _, _, _, O = mol.GetSubstructMatch(warhead.mol) \n",
    "            edMol = Chem.EditableMol(mol)\n",
    "            edMol.AddBond(C, O, Chem.rdchem.BondType.SINGLE) \n",
    "            edMol.RemoveAtom(At)\n",
    "            mol = edMol.GetMol()\n",
    "        \n",
    "        elif warhead.smarts(mol, '[At]C(C=O)C(O)C=O', name='Epoxy', reaction_type='Ring-opening'): \n",
    "            At, C, _, _, _, O, _, _ = mol.GetSubstructMatch(warhead.mol) \n",
    "            edMol = Chem.EditableMol(mol)\n",
    "            edMol.AddBond(C, O, Chem.rdchem.BondType.SINGLE) \n",
    "            edMol.RemoveAtom(At)\n",
    "            mol = edMol.GetMol()  \n",
    "                \n",
    "        elif warhead.smarts(mol, '[At]C~CC=O', name='Conjugated_Pi_Bond', reaction_type='Addition'):    \n",
    "            At, Cb, Ca, _, _ = mol.GetSubstructMatch(warhead.mol) \n",
    "            mol.GetBondBetweenAtoms(Ca, Cb).SetBondType(Chem.rdchem.BondType.SINGLE)\n",
    "            mol = Chem.Mol(mol)\n",
    "            mol.GetBondBetweenAtoms(Ca, Cb).SetBondType(Chem.rdchem.BondType.DOUBLE)\n",
    "            mol.GetAtomWithIdx(Cb).SetNumExplicitHs(0)\n",
    "            Chem.SanitizeMol(mol, sanitizeOps=Chem.SANITIZE_SETHYBRIDIZATION)\n",
    "            Ca = mol.GetAtomWithIdx(Ca)\n",
    "            Ca.SetNumExplicitHs(0)\n",
    "            edMol = Chem.EditableMol(mol) \n",
    "            edMol.RemoveAtom(At)\n",
    "            mol = edMol.GetMol()  \n",
    "            \n",
    "        elif warhead.smarts(mol, '[At]C~CS=O', name='Conjugated_Pi_Bond', reaction_type='Addition'):    \n",
    "            At, Cb, Ca, _, _ = mol.GetSubstructMatch(warhead.mol)  \n",
    "            mol.GetBondBetweenAtoms(Cb, Ca).SetBondType(Chem.rdchem.BondType.DOUBLE)  \n",
    "            edMol = Chem.EditableMol(mol)\n",
    "            edMol.RemoveAtom(At)\n",
    "            mol = edMol.GetMol() \n",
    "            Chem.SanitizeMol(mol, sanitizeOps=Chem.SANITIZE_SETHYBRIDIZATION) \n",
    "            \n",
    "        elif warhead.smarts(mol, '[At]~[CD3](~[ND1])', name='Nitrile', reaction_type='Addition'): \n",
    "            At, C, N = mol.GetSubstructMatch(Chem.MolFromSmarts(warhead.mol))\n",
    "            mol.GetBondBetweenAtoms(C, N).SetBondType(Chem.rdchem.BondType.DOUBLE)  \n",
    "            mol.GetBondBetweenAtoms(C, At).SetBondType(Chem.rdchem.BondType.SINGLE)  \n",
    "            mol.GetAtomWithIdx(C).SetNumExplicitHs(0)\n",
    "            mol = Chem.Mol(mol) \n",
    "            mol.GetBondBetweenAtoms(C, N).SetBondType(Chem.rdchem.BondType.TRIPLE)  \n",
    "            edMol = Chem.EditableMol(mol)\n",
    "            edMol.RemoveAtom(At)\n",
    "            mol = edMol.GetMol() \n",
    "            Chem.SanitizeMol(mol, sanitizeOps=Chem.SANITIZE_SETHYBRIDIZATION)\n",
    "            mol = Chem.MolFromSmiles(Chem.MolToSmiles(mol))\n",
    "            row['ligand_pdb'    ] = mol\n",
    "            row['warhead'          ] = '' \n",
    "            row['ligand_type'      ] = 'inhibitor'  \n",
    "            row['reaction_type'    ] = ''  \n",
    "            df.update( pd.DataFrame(data=row, index=[index])) \n",
    "        \n",
    "        elif warhead.smarts(mol, '[At][#6](~[OD1])([#6])[#6]', name='Ketone', reaction_type='Addition'):   \n",
    "            At, C, O, _, _ = mol.GetSubstructMatch(warhead.mol)\n",
    "            mol.GetBondBetweenAtoms(C, O).SetBondType(Chem.rdchem.BondType.SINGLE)\n",
    "            row['adduct_pdb'] = Chem.MolFromSmiles(Chem.MolToSmiles(mol)) \n",
    "            mol.GetAtomWithIdx(C).SetNumExplicitHs(0)   \n",
    "            mol.GetBondBetweenAtoms(C, O).SetBondType(Chem.rdchem.BondType.DOUBLE)\n",
    "            edMol = Chem.EditableMol(mol)\n",
    "            edMol.RemoveAtom(At)\n",
    "            mol = edMol.GetMol() \n",
    "            Chem.SanitizeMol(mol, sanitizeOps=Chem.SANITIZE_SETHYBRIDIZATION) \n",
    "        \n",
    "        elif warhead.smarts(mol, '[At][#6](~[OD1])NCCNOS', name='γ-lactam', reaction_type='Ring-opening', note='Diazabicyclooctane'):  \n",
    "            At, C, _, _, _, _, N, _, _ = mol.GetSubstructMatch(warhead.mol)\n",
    "            edMol = Chem.EditableMol(mol)\n",
    "            edMol.AddBond(C, N, Chem.rdchem.BondType.SINGLE)\n",
    "            edMol.RemoveAtom(At)\n",
    "            mol = edMol.GetMol() \n",
    "            Chem.SanitizeMol(mol, sanitizeOps=Chem.SANITIZE_SETHYBRIDIZATION) \n",
    "            \n",
    "        elif warhead.smarts(mol, '[At]=[#6;D3]', name='Carbonyl_Oxygen', reaction_type='Addition-Elimination', note='Schiff Base'):   \n",
    "            At, = mol.GetSubstructMatch(Chem.MolFromSmarts('[At]'))\n",
    "            mol.GetAtomWithIdx(At).SetFormalCharge(1) \n",
    "            mol = Chem.Mol(mol)\n",
    "            mol.GetAtomWithIdx(At).SetAtomicNum(8) \n",
    "        \n",
    "        elif warhead.smarts(mol, '[At]~[#6;D3](~[#16])~[#7]', name='Isothiocyanate', reaction_type='Addition', note='Schiff Base'):    \n",
    "            At, C, S, N = mol.GetSubstructMatch(warhead.mol) \n",
    "            mol.GetBondBetweenAtoms(C, N).SetBondType(Chem.rdchem.BondType.DOUBLE) \n",
    "            mol.GetBondBetweenAtoms(C, S).SetBondType(Chem.rdchem.BondType.SINGLE)  \n",
    "            mol = Chem.Mol(mol)\n",
    "            mol.GetBondBetweenAtoms(C, S).SetBondType(Chem.rdchem.BondType.DOUBLE)   \n",
    "            edMol = Chem.EditableMol(mol)\n",
    "            edMol.RemoveAtom(At)\n",
    "            mol = edMol.GetMol() \n",
    "            Chem.SanitizeMol(mol, sanitizeOps=Chem.SANITIZE_SETHYBRIDIZATION) \n",
    "        \n",
    "        else: \n",
    "            print('[ Curate on you own~ ] :', one.long_adduct_name)  \n",
    "            return None \n",
    "        \n",
    "        one.recovery_strategy = 'automated'\n",
    "        one.ligand_pdb = mol          \n",
    "        [one.__setattr__(i, warhead.__getattribute__(i)) for i in ['warhead_smiles','warhead','ligand_type','reaction_type','note']]\n",
    "        print('[ Automated Recovery ] :', one.long_adduct_name) \n",
    "        return None\n",
    "    \n",
    "    def __get_binder_pdb__(self, debug=False):\n",
    "        match = False\n",
    "        for i in range(self.size):   \n",
    "            if self.ones[i].long_adduct_name in df.index:  \n",
    "                [self.ones[i].__setattr__(j,k) for j,k in df.loc[self.ones[i].long_adduct_name].to_dict().items()]\n",
    "                print('[       Manual       ] :',self.ones[i].long_adduct_name)\n",
    "            elif len(df[df['short_adduct_name'].str.match(self.ones[i].short_adduct_name)]):\n",
    "                [self.ones[i].__setattr__(j,k) for j,k in df[df['short_adduct_name'].str.match(self.ones[i].short_adduct_name)].to_dict('row')[0].items()]\n",
    "                print('[    Adduct match    ] :',self.ones[i].short_adduct_name)\n",
    "            else:\n",
    "                self.__get_binder_pdb_by_recovery__(self.ones[i])\n",
    "        return None\n",
    "    \n",
    "    def __get_doi_by_pdb_id__(self):\n",
    "        pdbid = self.pdbid.lower()\n",
    "        soup = bs4.BeautifulSoup(urllib.request.urlopen(f'http://www.rcsb.org/structure/{pdbid}').read(), 'lxml')\n",
    "        \n",
    "        primarycitation = soup.find_all(id=\"primarycitation\") \n",
    "        if primarycitation[0].text[-16:] == 'To be published.':  \n",
    "            self.doi = 'No DOI is available on RCSB website because the article is be published.'\n",
    "        primarycitation = primarycitation[0].find_all(id=\"pubmedDOI\")\n",
    "        if len(primarycitation) != 1:  \n",
    "            self.doi = 'No DOI is available on RCSB website for no reason.'\n",
    "            #raise PDB_Cov_Exception(self.doi) \n",
    "            return None\n",
    "        self.doi = primarycitation[0].text[9:]\n",
    "\n",
    "    \n",
    "    def __init__(self, pdbid):\n",
    "        self.pdbid = pdbid\n",
    "        self.__get_doi_by_pdb_id__()\n",
    "        self.ones = []\n",
    "        self.__get_covalent_bond_record__() \n",
    "        self.size = len(self.ones)\n",
    "        self.__get_adduct_name__()\n",
    "        self.__get_adduct_pdb__()\n",
    "        self.__get_binder_pdb__() "
   ]
  },
  {
   "cell_type": "code",
   "execution_count": 3,
   "metadata": {
    "ExecuteTime": {
     "end_time": "2020-12-08T11:54:12.727090Z",
     "start_time": "2020-12-08T11:54:11.440831Z"
    }
   },
   "outputs": [
    {
     "name": "stdout",
     "output_type": "stream",
     "text": [
      "[    Adduct match    ] : CYS_SG_COM_S1\n",
      "[       Manual       ] : 4POL_A_CYS_62_?_SG_?_A_COM_201_?_S1_?_cif\n",
      "[       Manual       ] : 4POL_B_CYS_62_?_SG_?_B_COM_201_?_S1_?_cif\n",
      "[    Adduct match    ] : CYS_SG_COM_S1\n"
     ]
    }
   ],
   "source": [
    "pdb_4POL = PDB_Cov('4POL') "
   ]
  },
  {
   "cell_type": "code",
   "execution_count": 4,
   "metadata": {
    "ExecuteTime": {
     "end_time": "2020-12-08T11:54:12.796316Z",
     "start_time": "2020-12-08T11:54:12.729488Z"
    }
   },
   "outputs": [
    {
     "name": "stdout",
     "output_type": "stream",
     "text": [
      "size (How many records) : 4\n",
      "DOI : No DOI is available on RCSB website for no reason.\n",
      "[First Record] aa_bond_atom_name : SG\n",
      "[First Record] aa_name : CYS\n",
      "[First Record] aa_name_atom_name : CYS_SG\n"
     ]
    },
    {
     "data": {
      "text/plain": [
       "'[First Record] adduct_pdb'"
      ]
     },
     "metadata": {},
     "output_type": "display_data"
    },
    {
     "data": {
      "image/png": "[encoded data removed]",
      "text/plain": [
       "<rdkit.Chem.rdchem.Mol at 0x2b058818f5e0>"
      ]
     },
     "metadata": {},
     "output_type": "display_data"
    },
    {
     "name": "stdout",
     "output_type": "stream",
     "text": [
      "[First Record] adduct_smiles : O=S(=O)(O)CCS[At]\n",
      "[First Record] common_name : nan\n",
      "[First Record] covalent_bond_record : 4POL,B,B,CYS,CYS,73,69,?,SG,?,polymer,G,B,COM,COM,.,200,?,S1,?,non-polymer\n",
      "[First Record] doi : 10.3390/molecules20034928\n",
      "[First Record] ligand_bond_atom_name : S1\n",
      "[First Record] ligand_name : COM\n"
     ]
    },
    {
     "data": {
      "text/plain": [
       "'[First Record] ligand_pdb'"
      ]
     },
     "metadata": {},
     "output_type": "display_data"
    },
    {
     "data": {
      "image/png": "[encoded data removed]",
      "text/plain": [
       "<rdkit.Chem.rdchem.Mol at 0x2b058c22fb90>"
      ]
     },
     "metadata": {},
     "output_type": "display_data"
    },
    {
     "name": "stdout",
     "output_type": "stream",
     "text": [
      "[First Record] ligand_smiles : O=[S](=O)([O-])CCSSCC[S](=O)(=O)[O-]\n",
      "[First Record] ligand_type : inhibitor\n",
      "[First Record] long_adduct_name : 4POL_B_CYS_69_?_SG_?_B_COM_200_?_S1_?_cif\n",
      "[First Record] note : BNP7787\n",
      "[First Record] reaction_type : Addition-Elimination\n",
      "[First Record] recovery_strategy : manual\n",
      "[First Record] short_adduct_name : CYS_SG_COM_S1\n",
      "[First Record] url : http://doi.org/10.3390/molecules20034928\n",
      "[First Record] warhead : Disulfide\n",
      "[First Record] warhead_smiles : SS\n"
     ]
    }
   ],
   "source": [
    "print  ( 'size (How many records)',               ':', pdb_4POL.size                         )\n",
    "print  ( 'DOI',                                   ':', pdb_4POL.doi                          )\n",
    "print  ( '[First Record] aa_bond_atom_name',      ':', pdb_4POL.ones[0].aa_bond_atom_name    )                       \n",
    "print  ( '[First Record] aa_name',                ':', pdb_4POL.ones[0].aa_name              )      \n",
    "print  ( '[First Record] aa_name_atom_name',      ':', pdb_4POL.ones[0].aa_name_atom_name    )                \n",
    "display( '[First Record] adduct_pdb',                  pdb_4POL.ones[0].adduct_pdb           )         \n",
    "print  ( '[First Record] adduct_smiles',          ':', pdb_4POL.ones[0].adduct_smiles        )            \n",
    "print  ( '[First Record] common_name',            ':', pdb_4POL.ones[0].common_name          )          \n",
    "print  ( '[First Record] covalent_bond_record',   ':', pdb_4POL.ones[0].covalent_bond_record )               \n",
    "print  ( '[First Record] doi',                    ':', pdb_4POL.ones[0].doi                  )  \n",
    "print  ( '[First Record] ligand_bond_atom_name',  ':', pdb_4POL.ones[0].ligand_bond_atom_name)                    \n",
    "print  ( '[First Record] ligand_name',            ':', pdb_4POL.ones[0].ligand_name          )          \n",
    "display( '[First Record] ligand_pdb',                  pdb_4POL.ones[0].ligand_pdb           )         \n",
    "print  ( '[First Record] ligand_smiles',          ':', pdb_4POL.ones[0].ligand_smiles        )            \n",
    "print  ( '[First Record] ligand_type',            ':', pdb_4POL.ones[0].ligand_type          )          \n",
    "print  ( '[First Record] long_adduct_name',       ':', pdb_4POL.ones[0].long_adduct_name     )               \n",
    "print  ( '[First Record] note',                   ':', pdb_4POL.ones[0].note                 )   \n",
    "print  ( '[First Record] reaction_type',          ':', pdb_4POL.ones[0].reaction_type        )            \n",
    "print  ( '[First Record] recovery_strategy',      ':', pdb_4POL.ones[0].recovery_strategy    )                \n",
    "print  ( '[First Record] short_adduct_name',      ':', pdb_4POL.ones[0].short_adduct_name    )                \n",
    "print  ( '[First Record] url',                    ':', pdb_4POL.ones[0].url                  )  \n",
    "print  ( '[First Record] warhead',                ':', pdb_4POL.ones[0].warhead              )      \n",
    "print  ( '[First Record] warhead_smiles',         ':', pdb_4POL.ones[0].warhead_smiles       )             "
   ]
  },
  {
   "cell_type": "code",
   "execution_count": 5,
   "metadata": {
    "ExecuteTime": {
     "end_time": "2020-12-08T11:54:14.352050Z",
     "start_time": "2020-12-08T11:54:12.798139Z"
    }
   },
   "outputs": [
    {
     "name": "stdout",
     "output_type": "stream",
     "text": [
      "[ Automated Recovery ] : 1PWC_A_SER_62_?_OG_?_A_PNM_400_?_C7_A_cif\n"
     ]
    }
   ],
   "source": [
    "pdb_1PWC = PDB_Cov('1PWC')"
   ]
  },
  {
   "cell_type": "code",
   "execution_count": 6,
   "metadata": {
    "ExecuteTime": {
     "end_time": "2020-12-08T11:54:14.383915Z",
     "start_time": "2020-12-08T11:54:14.353481Z"
    }
   },
   "outputs": [
    {
     "name": "stdout",
     "output_type": "stream",
     "text": [
      "size (How many records) : 1\n",
      "DOI : 10.1016/j.jmb.2004.10.076\n"
     ]
    },
    {
     "data": {
      "text/plain": [
       "'[First Record] adduct_pdb'"
      ]
     },
     "metadata": {},
     "output_type": "display_data"
    },
    {
     "data": {
      "image/png": "[encoded data removed]",
      "text/plain": [
       "<rdkit.Chem.rdchem.Mol at 0x2b058fe1adf0>"
      ]
     },
     "metadata": {},
     "output_type": "display_data"
    },
    {
     "name": "stdout",
     "output_type": "stream",
     "text": [
      "[First Record] covalent_bond_record : 1PWC,A,A,SER,SER,62,62,?,OG,?,polymer,B,A,PNM,PNM,.,400,?,C7,A,non-polymer\n"
     ]
    },
    {
     "data": {
      "text/plain": [
       "'[First Record] ligand_pdb'"
      ]
     },
     "metadata": {},
     "output_type": "display_data"
    },
    {
     "data": {
      "image/png": "[encoded data removed]",
      "text/plain": [
       "<rdkit.Chem.rdchem.Mol at 0x2b058ef58210>"
      ]
     },
     "metadata": {},
     "output_type": "display_data"
    },
    {
     "name": "stdout",
     "output_type": "stream",
     "text": [
      "[First Record] ligand_type : None\n",
      "[First Record] long_adduct_name : 1PWC_A_SER_62_?_OG_?_A_PNM_400_?_C7_A_cif\n",
      "[First Record] note : None\n",
      "[First Record] reaction_type : Ring-opening\n",
      "[First Record] recovery_strategy : automated\n",
      "[First Record] short_adduct_name : SER_OG_PNM_C7\n",
      "[First Record] warhead : β-lactam\n",
      "[First Record] warhead_smiles : [At]C(=O)CCN\n"
     ]
    }
   ],
   "source": [
    "print  ( 'size (How many records)',               ':', pdb_1PWC.size                         )\n",
    "print  ( 'DOI',                                   ':', pdb_1PWC.doi                          )              \n",
    "display( '[First Record] adduct_pdb',                  pdb_1PWC.ones[0].adduct_pdb           )         \n",
    "print  ( '[First Record] covalent_bond_record',   ':', pdb_1PWC.ones[0].covalent_bond_record )            \n",
    "display( '[First Record] ligand_pdb',                  pdb_1PWC.ones[0].ligand_pdb           )             \n",
    "print  ( '[First Record] ligand_type',            ':', pdb_1PWC.ones[0].ligand_type          )          \n",
    "print  ( '[First Record] long_adduct_name',       ':', pdb_1PWC.ones[0].long_adduct_name     )               \n",
    "print  ( '[First Record] note',                   ':', pdb_1PWC.ones[0].note                 )   \n",
    "print  ( '[First Record] reaction_type',          ':', pdb_1PWC.ones[0].reaction_type        )            \n",
    "print  ( '[First Record] recovery_strategy',      ':', pdb_1PWC.ones[0].recovery_strategy    )                \n",
    "print  ( '[First Record] short_adduct_name',      ':', pdb_1PWC.ones[0].short_adduct_name    )   \n",
    "print  ( '[First Record] warhead',                ':', pdb_1PWC.ones[0].warhead              )      \n",
    "print  ( '[First Record] warhead_smiles',         ':', pdb_1PWC.ones[0].warhead_smiles       )   "
   ]
  }
 ],
 "metadata": {
  "kernelspec": {
   "display_name": "Python 3",
   "language": "python",
   "name": "python3"
  },
  "language_info": {
   "codemirror_mode": {
    "name": "ipython",
    "version": 3
   },
   "file_extension": ".py",
   "mimetype": "text/x-python",
   "name": "python",
   "nbconvert_exporter": "python",
   "pygments_lexer": "ipython3",
   "version": "3.6.5"
  }
 },
 "nbformat": 4,
 "nbformat_minor": 2
}
