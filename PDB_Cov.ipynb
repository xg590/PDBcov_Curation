{
 "cells": [
  {
   "cell_type": "code",
   "execution_count": 1,
   "metadata": {
    "ExecuteTime": {
     "end_time": "2020-11-23T15:17:58.700896Z",
     "start_time": "2020-11-23T15:17:58.518116Z"
    },
    "code_folding": [
     21,
     44
    ]
   },
   "outputs": [],
   "source": [
    "# pip install biopython\n",
    "import io, urllib, Bio.PDB \n",
    "def get_covalent_bond_record_by_pdbid(pdbid, debug=False):\n",
    "    try:\n",
    "        pdbid = pdbid.lower()\n",
    "        blc = Bio.PDB.MMCIF2Dict.MMCIF2Dict(f'/beegfs/xg590/source/rcsb_cif/{pdbid[1:3]}/{pdbid}.cif')\n",
    "        if debug: print(f'We have local copy of {pdbid}.cif')\n",
    "    except FileNotFoundError: \n",
    "        r = urllib.request.urlopen(f'http://files.rcsb.org/download/{pdbid}.cif')\n",
    "        f = io.StringIO(r.read().decode())\n",
    "        if debug: print(f'We fetched {pdbid}.cif from RCSB PDB')\n",
    "        blc = Bio.PDB.MMCIF2Dict.MMCIF2Dict(f)   \n",
    "    if \"_struct_conn.id\" not in blc: return f'{blc[\"_entry.id\"]}:struct_conn_IS_NOT_FOUND'\n",
    "\n",
    "    Acceptable_Nucleophile = [('ASP', 'OD1'), ('ASP', 'OD2'), ('CYS', 'SG'), ('GLU', 'OE2'), ('HIS', 'ND1'), ('HIS', 'NE2'), ('LYS', 'NZ'), ('MET', 'SD'),  ('THR', 'OG1'), ('SER', 'OG'), ('TYR', 'OH')]\n",
    "    Invalid_Binder = {'ALA': 'is an amino-acid residue', 'ARG': 'is an amino-acid residue', 'ASN': 'is an amino-acid residue', 'ASP': 'is an amino-acid residue', 'CYS': 'is an amino-acid residue', 'GLU': 'is an amino-acid residue', 'GLN': 'is an amino-acid residue', 'GLY': 'is an amino-acid residue', 'HIS': 'is an amino-acid residue', 'ILE': 'is an amino-acid residue', 'LEU': 'is an amino-acid residue', 'LYS': 'is an amino-acid residue', 'MET': 'is an amino-acid residue', 'PHE': 'is an amino-acid residue', 'PRO': 'is an amino-acid residue', 'SER': 'is an amino-acid residue', 'THR': 'is an amino-acid residue', 'TRP': 'is an amino-acid residue', 'TYR': 'is an amino-acid residue', 'VAL': 'is an amino-acid residue', 'DA': 'is a nucleotide residue', 'DC': 'is a nucleotide residue', 'DG': 'is a nucleotide residue', 'DT': 'is a nucleotide residue', 'DI': 'is a nucleotide residue', 'A': 'is a nucleotide residue', 'C': 'is a nucleotide residue', 'G': 'is a nucleotide residue', 'U': 'is a nucleotide residue', 'UNL': 'Unknown Ligand/Atom', 'UNX': 'Unknown Ligand/Atom', 'UNK': 'Unknown Ligand/Atom', 'CO3': 'Anion', 'SO2': 'Anion', 'SO3': 'Anion', 'SO4': 'Anion', 'NO3': 'Anion', 'PO3': 'Anion', 'PO4': 'Anion', 'MAN': 'Alpha-D-Mannose', 'GOL': 'Pentaethylene Glycol', '1PE': 'Glycol', 'NAP': 'NADP+', 'BR': 'Element is not ligand ', 'CO2': 'Carbon Dioxide   see https://pubs.acs.org/doi/10.1021/bi960424z', 'PEG': 'Diethylene Glycol', 'PAM': 'PTM: Palmitoylation', 'DPN': 'AA: D-Phenylalanine', 'PYE': 'Tetrahydropyran ', 'BEN': 'A non-covalent inhibitor to trypsin and Xa factor, is often used as a ligand in protein crystallography to prevent proteases from degrading a protein of interest', 'GDP': \"Guanosine-5'-Diphosphate\", 'AMP': 'Adenosine Monophosphate', 'ADP': \"Adenosine-5'-Diphosphate\", 'ATP': \"Adenosine-5'-Triphosphate\", 'GTP': \"Guanosine-5'-Triphosphate\", 'NAG': 'GlcNAc PTM', 'O': 'Oxygen ??? 1ADL', 'IOD': 'Iodine', 'Z': 'DNA linking', 'CL': 'Chlorine ', 'AYE': 'part of UbPA', 'MLY': 'methylated LYS / PTM', 'MTN': 'MTSL is an organosulfur compound that is used as a nitroxide spin label.', 'PEB': 'PHYCOERYTHROBILIN', 'PUB': 'PHYCOUROBILIN', 'PVN': 'PHYCOVIOLOBILIN', 'VRB': 'Phycoviolobilin', 'CYC': 'PHYCOCYANOBILIN', 'COA': 'Cofactor CoA', 'BLA': 'BILIVERDINE IX ALPHA', 'DBV': '15,16-DIHYDROBILIVERDIN', 'PCA': 'Modified Residues', 'ABA': 'Modified Residues', 'CME': 'Modified Residues ', 'FAD': 'flavin adenine dinucleotide', 'PLP': 'Pyridoxal phosphate cofactors', 'PMP': \"pyridoxamine 5'-phosphate cofactors\", 'BME': '2-Mercaptoethanol Reducing Agents. If your protein contains cysteine residues, oxidation could become a problem and cause protein aggregation. To prevent this, keep a reducing agent such as DTT, TCEP, or 2-mercaptoethanol in your buffer.'}\n",
    "    Acceptable_Element = set(['C', 'H', 'D', 'O', 'N', 'P', 'S', 'F', 'CL', 'BR', 'I', 'B'])\n",
    "    covalent_bond_record = '' \n",
    "    for i, conn_type_id in enumerate(blc[\"_struct_conn.conn_type_id\"]):\n",
    "        if conn_type_id == 'covale':\n",
    "            col = []\n",
    "            for j, label_entity_id in enumerate(blc['_atom_site.label_entity_id']):\n",
    "                if  blc[\"_atom_site.label_asym_id\"    ][j] == blc[\"_struct_conn.ptnr1_label_asym_id\"     ][i] and \\\n",
    "                    blc[\"_atom_site.auth_asym_id\"     ][j] == blc[\"_struct_conn.ptnr1_auth_asym_id\"      ][i] and \\\n",
    "                    blc[\"_atom_site.label_comp_id\"    ][j] == blc[\"_struct_conn.ptnr1_label_comp_id\"     ][i] and \\\n",
    "                    blc[\"_atom_site.auth_comp_id\"     ][j] == blc[\"_struct_conn.ptnr1_auth_comp_id\"      ][i] and \\\n",
    "                    blc[\"_atom_site.label_seq_id\"     ][j] == blc[\"_struct_conn.ptnr1_label_seq_id\"      ][i] and \\\n",
    "                    blc[\"_atom_site.auth_seq_id\"      ][j] == blc[\"_struct_conn.ptnr1_auth_seq_id\"       ][i] and \\\n",
    "                    blc[\"_atom_site.pdbx_PDB_ins_code\"][j] == blc[\"_struct_conn.pdbx_ptnr1_PDB_ins_code\" ][i]:\n",
    "                    for k, id_ in enumerate(blc[\"_entity.id\"]):\n",
    "                        if label_entity_id == id_:\n",
    "                            col.append(blc[\"_entry.id\"][0])\n",
    "                            col.append(blc[\"_struct_conn.ptnr1_label_asym_id\"     ][i])\n",
    "                            col.append(blc[\"_struct_conn.ptnr1_auth_asym_id\"      ][i])\n",
    "                            col.append(blc[\"_struct_conn.ptnr1_label_comp_id\"     ][i])\n",
    "                            col.append(blc[\"_struct_conn.ptnr1_auth_comp_id\"      ][i])\n",
    "                            col.append(blc[\"_struct_conn.ptnr1_label_seq_id\"      ][i])\n",
    "                            col.append(blc[\"_struct_conn.ptnr1_auth_seq_id\"       ][i])\n",
    "                            col.append(blc[\"_struct_conn.pdbx_ptnr1_PDB_ins_code\" ][i])\n",
    "                            col.append(blc[\"_struct_conn.ptnr1_label_atom_id\"     ][i])\n",
    "                            col.append(blc[\"_struct_conn.pdbx_ptnr1_label_alt_id\" ][i]) \n",
    "                            col.append(blc[\"_entity.type\"][k])    \n",
    "                            break\n",
    "                    break\n",
    "            for j, label_entity_id in enumerate(blc['_atom_site.label_entity_id']):\n",
    "                if  blc[\"_atom_site.label_asym_id\"    ][j] == blc[\"_struct_conn.ptnr2_label_asym_id\"     ][i] and \\\n",
    "                    blc[\"_atom_site.auth_asym_id\"     ][j] == blc[\"_struct_conn.ptnr2_auth_asym_id\"      ][i] and \\\n",
    "                    blc[\"_atom_site.label_comp_id\"    ][j] == blc[\"_struct_conn.ptnr2_label_comp_id\"     ][i] and \\\n",
    "                    blc[\"_atom_site.auth_comp_id\"     ][j] == blc[\"_struct_conn.ptnr2_auth_comp_id\"      ][i] and \\\n",
    "                    blc[\"_atom_site.label_seq_id\"     ][j] == blc[\"_struct_conn.ptnr2_label_seq_id\"      ][i] and \\\n",
    "                    blc[\"_atom_site.auth_seq_id\"      ][j] == blc[\"_struct_conn.ptnr2_auth_seq_id\"       ][i] and \\\n",
    "                    blc[\"_atom_site.pdbx_PDB_ins_code\"][j] == blc[\"_struct_conn.pdbx_ptnr2_PDB_ins_code\" ][i]:\n",
    "                    for k, id_ in enumerate(blc[\"_entity.id\"]):\n",
    "                        if label_entity_id == id_: \n",
    "                            col.append(blc[\"_struct_conn.ptnr2_label_asym_id\"     ][i])\n",
    "                            col.append(blc[\"_struct_conn.ptnr2_auth_asym_id\"      ][i])\n",
    "                            col.append(blc[\"_struct_conn.ptnr2_label_comp_id\"     ][i])\n",
    "                            col.append(blc[\"_struct_conn.ptnr2_auth_comp_id\"      ][i])\n",
    "                            col.append(blc[\"_struct_conn.ptnr2_label_seq_id\"      ][i])\n",
    "                            col.append(blc[\"_struct_conn.ptnr2_auth_seq_id\"       ][i])\n",
    "                            col.append(blc[\"_struct_conn.pdbx_ptnr2_PDB_ins_code\" ][i])\n",
    "                            col.append(blc[\"_struct_conn.ptnr2_label_atom_id\"     ][i])\n",
    "                            col.append(blc[\"_struct_conn.pdbx_ptnr2_label_alt_id\" ][i]) \n",
    "                            col.append(blc[\"_entity.type\"][k]) \n",
    "                            break \n",
    "                    break\n",
    "            #    0 1 2   3   4   5   6 7 8 9      10 1 2   3   4   5   6 7 8 9      20    \n",
    "            # 2XAZ,A,A,LEU,LEU,729,729,?,C,?,polymer,A,A,NIY,NIY,730,730,?,N,?,polymer\n",
    "            if   (col[4],  col[8] ) in Acceptable_Nucleophile and col[10] == 'polymer': \n",
    "                pass\n",
    "            elif (col[14], col[18]) in Acceptable_Nucleophile and col[20] == 'polymer': \n",
    "                col = [col[0]] + col[11:] + col[1:11] # Reconstruct the list\n",
    "            else: \n",
    "                if debug: print(f\"Invalid covalent bond record: {','.join(col)}\")\n",
    "                continue # skip invalid covalent modification\n",
    "            if col[14] in Invalid_Binder: \n",
    "                if debug: print(f'The binder {col[14]} is invalid because of {Invalid_Binder[col[14]]}')\n",
    "                continue\n",
    "            binder_element_collector = [] \n",
    "            for i, type_symbol in enumerate(blc['_atom_site.type_symbol']):  \n",
    "                if blc[\"_atom_site.auth_asym_id\"][i]==col[12] and blc[\"_atom_site.auth_comp_id\"][i]==col[14]: \n",
    "                    binder_element_collector.append(type_symbol) \n",
    "            if set(binder_element_collector).difference(Acceptable_Element):\n",
    "                if debug: print(f'The binder in this record is invalid because it contains {set(binder_element_collector).difference(Acceptable_Element)}')\n",
    "                continue  \n",
    "            covalent_bond_record += ','.join(col)\n",
    "            covalent_bond_record += '\\n'\n",
    "    return covalent_bond_record if covalent_bond_record else None"
   ]
  },
  {
   "cell_type": "code",
   "execution_count": 2,
   "metadata": {
    "ExecuteTime": {
     "end_time": "2020-11-23T15:17:58.971834Z",
     "start_time": "2020-11-23T15:17:58.702514Z"
    },
    "code_folding": []
   },
   "outputs": [
    {
     "name": "stdout",
     "output_type": "stream",
     "text": [
      "1PWC,A,A,SER,SER,62,62,?,OG,?,polymer,B,A,PNM,PNM,.,400,?,C7,A,non-polymer\n",
      "\n"
     ]
    }
   ],
   "source": [
    "_ = get_covalent_bond_record_by_pdbid('1PWC')\n",
    "print(_)"
   ]
  },
  {
   "cell_type": "code",
   "execution_count": 3,
   "metadata": {
    "ExecuteTime": {
     "end_time": "2020-11-23T15:17:59.091650Z",
     "start_time": "2020-11-23T15:17:58.973575Z"
    },
    "code_folding": []
   },
   "outputs": [
    {
     "name": "stdout",
     "output_type": "stream",
     "text": [
      "We have local copy of 1bh6.cif\n",
      "1BH6,A,A,SER,SER,220,221,?,OG,?,polymer,D,A,1BH,1BH,.,300,?,C9,?,non-polymer\n",
      "1BH6,A,A,HIS,HIS,63,64,?,NE2,?,polymer,D,A,1BH,1BH,.,300,?,CC,?,non-polymer\n",
      "\n"
     ]
    }
   ],
   "source": [
    "_ = get_covalent_bond_record_by_pdbid('1BH6', True)\n",
    "print(_)"
   ]
  },
  {
   "cell_type": "code",
   "execution_count": 4,
   "metadata": {
    "ExecuteTime": {
     "end_time": "2020-11-23T15:17:59.853355Z",
     "start_time": "2020-11-23T15:17:59.093086Z"
    },
    "code_folding": []
   },
   "outputs": [
    {
     "name": "stdout",
     "output_type": "stream",
     "text": [
      "None\n"
     ]
    }
   ],
   "source": [
    "_ = get_covalent_bond_record_by_pdbid('1JGC') \n",
    "print(_)"
   ]
  }
 ],
 "metadata": {
  "kernelspec": {
   "display_name": "Python 3",
   "language": "python",
   "name": "python3"
  },
  "language_info": {
   "codemirror_mode": {
    "name": "ipython",
    "version": 3
   },
   "file_extension": ".py",
   "mimetype": "text/x-python",
   "name": "python",
   "nbconvert_exporter": "python",
   "pygments_lexer": "ipython3",
   "version": "3.6.5"
  }
 },
 "nbformat": 4,
 "nbformat_minor": 2
}
