{
 "cells": [
  {
   "cell_type": "code",
   "execution_count": 1,
   "metadata": {
    "ExecuteTime": {
     "end_time": "2022-06-09T19:10:15.470966Z",
     "start_time": "2022-06-09T19:10:15.213037Z"
    }
   },
   "outputs": [],
   "source": [
    "# https://www.bindingdb.org/bind/chemsearch/marvin/SDFdownload.jsp?all_download=yes\n",
    "# BindingDB_BindingDB_Inhibition_2021m6.tsv.zip\n",
    "\n",
    "from rdkit import Chem\n",
    "from rdkit.Chem import AllChem, PandasTools \n",
    "from rdkit.Chem.Draw import IPythonConsole  \n",
    "import pandas as pd, sqlite3, math\n",
    "pd.set_option('display.max_columns', None)\n",
    "#pd.set_option('display.max_rows', None)\n",
    "pd.set_option('display.max_colwidth', None) "
   ]
  },
  {
   "cell_type": "raw",
   "metadata": {
    "ExecuteTime": {
     "end_time": "2021-07-05T15:24:27.161058Z",
     "start_time": "2021-07-05T15:24:27.150352Z"
    }
   },
   "source": [
    "tsv = '/scratch/xg590/source/BindingDB_All.tsv'\n",
    "csv = '/scratch/xg590/scratch/BindingDB_All.csv'\n",
    "with open(tsv, 'r') as fr, open(csv, 'w') as fw:\n",
    "    fr.readline()\n",
    "    print('BindingDB Reactant_set_id,Ligand SMILES,UniProt (SwissProt) ID of Target Chain,Ligand InChIKey', file=fw)\n",
    "    while True:\n",
    "        line = fr.readline()\n",
    "        if line:\n",
    "            line = line.split('\\t')\n",
    "            item = [line[i] for i in [0,1,41,42]] \n",
    "            if item[2]:\n",
    "                mol = Chem.MolFromSmiles(item[1])\n",
    "                if not mol: continue\n",
    "                smiles = Chem.MolToSmiles(mol,isomericSmiles=True,canonical=True)\n",
    "                inchikey = Chem.MolToInchiKey(mol)\n",
    "                for i in item[2].split(','):\n",
    "                    print(','.join([item[0], smiles, i, ]), file=fw)\n",
    "            if item[3]:\n",
    "                print(line)\n",
    "                beak\n",
    "                for i in item[3].split(','):\n",
    "                    \n",
    "                    print(','.join([item[0], smiles, i]), file=fw)  \n",
    "        else:  \n",
    "            break # executed in 15m 13s"
   ]
  },
  {
   "cell_type": "raw",
   "metadata": {
    "ExecuteTime": {
     "end_time": "2021-07-09T18:47:11.219365Z",
     "start_time": "2021-07-09T18:43:46.973892Z"
    }
   },
   "source": [
    "csv = '/scratch/xg590/source/BindingDB_All.csv'\n",
    "df = pd.read_csv(csv, usecols=['BindingDB Reactant_set_id', 'Ligand InChI Key',\n",
    "       'UniProt (SwissProt) Primary ID of Target Chain',\n",
    "       'UniProt (SwissProt) Secondary ID(s) of Target Chain'], low_memory=False)\n",
    "\n",
    "df = df[df['UniProt (SwissProt) Primary ID of Target Chain'].notna()]\n",
    "df = df.fillna('N/A')\n",
    "\n",
    "con = sqlite3.connect('/scratch/xg590/scratch/BindingDB.db') #  :memory:\n",
    "\n",
    "df[['BindingDB Reactant_set_id', 'Ligand InChI Key',\n",
    "   'UniProt (SwissProt) Primary ID of Target Chain']].\\\n",
    "   rename(columns={\n",
    "    'BindingDB Reactant_set_id': 'react_id',\n",
    "    'Ligand InChI Key':'inchikey',\n",
    "    'UniProt (SwissProt) Primary ID of Target Chain':'unprotid'\n",
    "   }).\\\n",
    "   to_sql('bindingdb',con,if_exists=\"replace\",index=False) \n",
    "\n",
    "cur = con.cursor()\n",
    "\n",
    "for _, row in df.iterrows(): \n",
    "    react_id = row['BindingDB Reactant_set_id']\n",
    "    inchikey = row['Ligand InChI Key']\n",
    "    uniprot  = row['UniProt (SwissProt) Secondary ID(s) of Target Chain'] \n",
    "    cur.executemany('''\n",
    "        insert into bindingdb(react_id, inchikey, unprotid) values (?, ?, ?)\n",
    "    ''', [(react_id, inchikey, i) for i in uniprot.split(',')])\n",
    "\n",
    "con.commit()\n",
    "\n",
    "con.close()"
   ]
  },
  {
   "cell_type": "code",
   "execution_count": 2,
   "metadata": {
    "ExecuteTime": {
     "end_time": "2022-06-09T19:10:15.524664Z",
     "start_time": "2022-06-09T19:10:15.472057Z"
    }
   },
   "outputs": [],
   "source": [
    "con = sqlite3.connect('/scratch/xg590/scratch/BindingDB.db') #  :memory:\n",
    "cur = con.cursor()"
   ]
  },
  {
   "cell_type": "code",
   "execution_count": 3,
   "metadata": {
    "ExecuteTime": {
     "end_time": "2022-06-09T19:10:16.450739Z",
     "start_time": "2022-06-09T19:10:15.525822Z"
    }
   },
   "outputs": [],
   "source": [
    "df = pd.read_pickle('data/df_processed.pkl') \n",
    "df[['InChIKey','binder_smiles','unp_accessionid','unp_resnum','record_id']].to_sql('pdbcov',con,if_exists=\"replace\",index=True)  "
   ]
  },
  {
   "cell_type": "code",
   "execution_count": 4,
   "metadata": {
    "ExecuteTime": {
     "end_time": "2022-06-09T19:10:16.462843Z",
     "start_time": "2022-06-09T19:10:16.451962Z"
    }
   },
   "outputs": [
    {
     "data": {
      "text/html": [
       "<div>\n",
       "<style scoped>\n",
       "    .dataframe tbody tr th:only-of-type {\n",
       "        vertical-align: middle;\n",
       "    }\n",
       "\n",
       "    .dataframe tbody tr th {\n",
       "        vertical-align: top;\n",
       "    }\n",
       "\n",
       "    .dataframe thead th {\n",
       "        text-align: right;\n",
       "    }\n",
       "</style>\n",
       "<table border=\"1\" class=\"dataframe\">\n",
       "  <thead>\n",
       "    <tr style=\"text-align: right;\">\n",
       "      <th></th>\n",
       "      <th>react_id</th>\n",
       "      <th>inchikey</th>\n",
       "      <th>unprotid</th>\n",
       "    </tr>\n",
       "  </thead>\n",
       "  <tbody>\n",
       "    <tr>\n",
       "      <th>0</th>\n",
       "      <td>143</td>\n",
       "      <td>ZYQKMYRXVHUATB-UHFFFAOYSA-N</td>\n",
       "      <td>P08684</td>\n",
       "    </tr>\n",
       "  </tbody>\n",
       "</table>\n",
       "</div>"
      ],
      "text/plain": [
       "   react_id                     inchikey unprotid\n",
       "0       143  ZYQKMYRXVHUATB-UHFFFAOYSA-N   P08684"
      ]
     },
     "execution_count": 4,
     "metadata": {},
     "output_type": "execute_result"
    }
   ],
   "source": [
    "pd.read_sql('select * from bindingdb limit 1', con)"
   ]
  },
  {
   "cell_type": "code",
   "execution_count": 5,
   "metadata": {
    "ExecuteTime": {
     "end_time": "2022-06-09T19:10:16.473592Z",
     "start_time": "2022-06-09T19:10:16.463803Z"
    }
   },
   "outputs": [
    {
     "data": {
      "text/html": [
       "<div>\n",
       "<style scoped>\n",
       "    .dataframe tbody tr th:only-of-type {\n",
       "        vertical-align: middle;\n",
       "    }\n",
       "\n",
       "    .dataframe tbody tr th {\n",
       "        vertical-align: top;\n",
       "    }\n",
       "\n",
       "    .dataframe thead th {\n",
       "        text-align: right;\n",
       "    }\n",
       "</style>\n",
       "<table border=\"1\" class=\"dataframe\">\n",
       "  <thead>\n",
       "    <tr style=\"text-align: right;\">\n",
       "      <th></th>\n",
       "      <th>adduct_id</th>\n",
       "      <th>InChIKey</th>\n",
       "      <th>binder_smiles</th>\n",
       "      <th>unp_accessionid</th>\n",
       "      <th>unp_resnum</th>\n",
       "      <th>record_id</th>\n",
       "    </tr>\n",
       "  </thead>\n",
       "  <tbody>\n",
       "    <tr>\n",
       "      <th>0</th>\n",
       "      <td>1C7Q_A_HIS_306_?_ND1_?_A_BE1_500_?_C1_?</td>\n",
       "      <td>MUORYJVNLAHVKL-UHFFFAOYSA-N</td>\n",
       "      <td>O=C(CBr)NCCOP(=O)(O)O</td>\n",
       "      <td>P13376</td>\n",
       "      <td>306</td>\n",
       "      <td>CBR000001</td>\n",
       "    </tr>\n",
       "  </tbody>\n",
       "</table>\n",
       "</div>"
      ],
      "text/plain": [
       "                                 adduct_id                     InChIKey  \\\n",
       "0  1C7Q_A_HIS_306_?_ND1_?_A_BE1_500_?_C1_?  MUORYJVNLAHVKL-UHFFFAOYSA-N   \n",
       "\n",
       "           binder_smiles unp_accessionid unp_resnum  record_id  \n",
       "0  O=C(CBr)NCCOP(=O)(O)O          P13376        306  CBR000001  "
      ]
     },
     "execution_count": 5,
     "metadata": {},
     "output_type": "execute_result"
    }
   ],
   "source": [
    "pd.read_sql('select * from pdbcov limit 1', con)"
   ]
  },
  {
   "cell_type": "code",
   "execution_count": 6,
   "metadata": {
    "ExecuteTime": {
     "end_time": "2022-06-09T19:10:41.369576Z",
     "start_time": "2022-06-09T19:10:16.474477Z"
    }
   },
   "outputs": [],
   "source": [
    "Mapping = pd.read_sql_query('''SELECT pdbcov.adduct_id, bindingdb.react_id, unp_accessionid, binder_smiles, record_id\n",
    "                               FROM pdbcov JOIN bindingdb\n",
    "                               ON     pdbcov.unp_accessionid = bindingdb.unprotid\n",
    "                                  AND pdbcov.InChIKey        = bindingdb.inchikey''' , con) \n",
    "# executed in 39.3s, finished 06:37:50 2021-05-21"
   ]
  },
  {
   "cell_type": "code",
   "execution_count": 7,
   "metadata": {
    "ExecuteTime": {
     "end_time": "2022-06-09T19:10:41.384394Z",
     "start_time": "2022-06-09T19:10:41.370919Z"
    },
    "scrolled": true
   },
   "outputs": [
    {
     "data": {
      "text/html": [
       "<div>\n",
       "<style scoped>\n",
       "    .dataframe tbody tr th:only-of-type {\n",
       "        vertical-align: middle;\n",
       "    }\n",
       "\n",
       "    .dataframe tbody tr th {\n",
       "        vertical-align: top;\n",
       "    }\n",
       "\n",
       "    .dataframe thead th {\n",
       "        text-align: right;\n",
       "    }\n",
       "</style>\n",
       "<table border=\"1\" class=\"dataframe\">\n",
       "  <thead>\n",
       "    <tr style=\"text-align: right;\">\n",
       "      <th></th>\n",
       "      <th>adduct_id</th>\n",
       "      <th>react_id</th>\n",
       "      <th>unp_accessionid</th>\n",
       "      <th>binder_smiles</th>\n",
       "      <th>record_id</th>\n",
       "    </tr>\n",
       "  </thead>\n",
       "  <tbody>\n",
       "    <tr>\n",
       "      <th>0</th>\n",
       "      <td>3IKA_A_CYS_797_?_SG_?_A_0UN_1797_?_CAP_?</td>\n",
       "      <td>479094</td>\n",
       "      <td>P00533</td>\n",
       "      <td>C=CC(=O)Nc1cccc(Oc2nc(Nc3ccc(N4CCN(C)CC4)cc3OC)ncc2Cl)c1</td>\n",
       "      <td>CBR000181</td>\n",
       "    </tr>\n",
       "    <tr>\n",
       "      <th>38</th>\n",
       "      <td>1AHT_H_SER_195_?_OG_?_H_APA_401_?_C2_?</td>\n",
       "      <td>50089760</td>\n",
       "      <td>P00734</td>\n",
       "      <td>N=C(N)c1ccc(CC(=O)C(=O)O)cc1</td>\n",
       "      <td>CBR000221</td>\n",
       "    </tr>\n",
       "    <tr>\n",
       "      <th>39</th>\n",
       "      <td>3K83_A_SER_241_?_OG_?_A_F27_1_?_C13_?</td>\n",
       "      <td>50856616</td>\n",
       "      <td>P97612</td>\n",
       "      <td>O=C(O)c1cccc(-c2cnc(C(=O)CCc3ccc(-c4ccccc4)cc3)o2)n1</td>\n",
       "      <td>CBR000239</td>\n",
       "    </tr>\n",
       "    <tr>\n",
       "      <th>43</th>\n",
       "      <td>1YT7_A_CYS_25_?_SG_?_A_3FC_301_?_C31_?</td>\n",
       "      <td>50312286</td>\n",
       "      <td>P43235</td>\n",
       "      <td>CCCC[C@H](NC(=O)O[C@H](Cc1nnc(-c2ccc(C(F)(F)F)cc2)o1)C(C)(C)C)C(=O)C(=O)NN1CCOC1=O</td>\n",
       "      <td>CBR000247</td>\n",
       "    </tr>\n",
       "    <tr>\n",
       "      <th>45</th>\n",
       "      <td>7DUR_R_CYS_347_?_SG_?_R_HNO_701_?_C12_?</td>\n",
       "      <td>50145013</td>\n",
       "      <td>P43220</td>\n",
       "      <td>CC(C)(C)NC2=C(N=C1C=C(C(=CC1=N2)Cl)Cl)[S](C)(=O)=O</td>\n",
       "      <td>CBR000254</td>\n",
       "    </tr>\n",
       "    <tr>\n",
       "      <th>...</th>\n",
       "      <td>...</td>\n",
       "      <td>...</td>\n",
       "      <td>...</td>\n",
       "      <td>...</td>\n",
       "      <td>...</td>\n",
       "    </tr>\n",
       "    <tr>\n",
       "      <th>2697</th>\n",
       "      <td>1LHD_H_SER_195_?_OG_?_H_DI2_400_?_B1_?</td>\n",
       "      <td>50479752</td>\n",
       "      <td>P00734</td>\n",
       "      <td>CC(=O)N[C@H](Cc1ccccc1)C(=O)N1CCC[C@H]1C(=O)N[C@@H](CCCCN)B(O)O</td>\n",
       "      <td>CBR007515</td>\n",
       "    </tr>\n",
       "    <tr>\n",
       "      <th>2698</th>\n",
       "      <td>1LHC_H_SER_195_?_OG_?_H_DP7_400_?_B2_?</td>\n",
       "      <td>50479734</td>\n",
       "      <td>P00734</td>\n",
       "      <td>CC(=O)N[C@H](Cc1ccccc1)C(=O)N1CCC[C@H]1C(=O)N[C@@H](CCCN=C(N)N)B(O)O</td>\n",
       "      <td>CBR007518</td>\n",
       "    </tr>\n",
       "    <tr>\n",
       "      <th>2700</th>\n",
       "      <td>6TFP_A_CYS_481_?_SG_?_A_N6Z_702_?_C37_?</td>\n",
       "      <td>451867</td>\n",
       "      <td>Q06187</td>\n",
       "      <td>C=CC(=O)N(C)CCOc1c(N)ncnc1-c1cc(F)cc(NC(=O)c2ccc(C3CC3)cc2F)c1C</td>\n",
       "      <td>CBR007536</td>\n",
       "    </tr>\n",
       "    <tr>\n",
       "      <th>2735</th>\n",
       "      <td>7LCQ_A_CYS_145_?_SG_?_A_UED_603_?_C21_?</td>\n",
       "      <td>868798</td>\n",
       "      <td>P0C6X7</td>\n",
       "      <td>O=S([O-])(C(O)[C@H](C[C@@H]1CCNC1=O)NC([C@@H](NC(OCc2ccccc2)=O)CC(C)C)=O)=O</td>\n",
       "      <td>CBR007574</td>\n",
       "    </tr>\n",
       "    <tr>\n",
       "      <th>2737</th>\n",
       "      <td>5F19_B_SER_530_?_OG_?_B_OAS_0_?_C_?</td>\n",
       "      <td>40429</td>\n",
       "      <td>P35354</td>\n",
       "      <td>CC(=O)OC1=CC=CC=C1C(=O)O</td>\n",
       "      <td>CBR007597</td>\n",
       "    </tr>\n",
       "  </tbody>\n",
       "</table>\n",
       "<p>228 rows × 5 columns</p>\n",
       "</div>"
      ],
      "text/plain": [
       "                                     adduct_id  react_id unp_accessionid  \\\n",
       "0     3IKA_A_CYS_797_?_SG_?_A_0UN_1797_?_CAP_?    479094          P00533   \n",
       "38      1AHT_H_SER_195_?_OG_?_H_APA_401_?_C2_?  50089760          P00734   \n",
       "39       3K83_A_SER_241_?_OG_?_A_F27_1_?_C13_?  50856616          P97612   \n",
       "43      1YT7_A_CYS_25_?_SG_?_A_3FC_301_?_C31_?  50312286          P43235   \n",
       "45     7DUR_R_CYS_347_?_SG_?_R_HNO_701_?_C12_?  50145013          P43220   \n",
       "...                                        ...       ...             ...   \n",
       "2697    1LHD_H_SER_195_?_OG_?_H_DI2_400_?_B1_?  50479752          P00734   \n",
       "2698    1LHC_H_SER_195_?_OG_?_H_DP7_400_?_B2_?  50479734          P00734   \n",
       "2700   6TFP_A_CYS_481_?_SG_?_A_N6Z_702_?_C37_?    451867          Q06187   \n",
       "2735   7LCQ_A_CYS_145_?_SG_?_A_UED_603_?_C21_?    868798          P0C6X7   \n",
       "2737       5F19_B_SER_530_?_OG_?_B_OAS_0_?_C_?     40429          P35354   \n",
       "\n",
       "                                                                           binder_smiles  \\\n",
       "0                               C=CC(=O)Nc1cccc(Oc2nc(Nc3ccc(N4CCN(C)CC4)cc3OC)ncc2Cl)c1   \n",
       "38                                                          N=C(N)c1ccc(CC(=O)C(=O)O)cc1   \n",
       "39                                  O=C(O)c1cccc(-c2cnc(C(=O)CCc3ccc(-c4ccccc4)cc3)o2)n1   \n",
       "43    CCCC[C@H](NC(=O)O[C@H](Cc1nnc(-c2ccc(C(F)(F)F)cc2)o1)C(C)(C)C)C(=O)C(=O)NN1CCOC1=O   \n",
       "45                                    CC(C)(C)NC2=C(N=C1C=C(C(=CC1=N2)Cl)Cl)[S](C)(=O)=O   \n",
       "...                                                                                  ...   \n",
       "2697                     CC(=O)N[C@H](Cc1ccccc1)C(=O)N1CCC[C@H]1C(=O)N[C@@H](CCCCN)B(O)O   \n",
       "2698                CC(=O)N[C@H](Cc1ccccc1)C(=O)N1CCC[C@H]1C(=O)N[C@@H](CCCN=C(N)N)B(O)O   \n",
       "2700                     C=CC(=O)N(C)CCOc1c(N)ncnc1-c1cc(F)cc(NC(=O)c2ccc(C3CC3)cc2F)c1C   \n",
       "2735         O=S([O-])(C(O)[C@H](C[C@@H]1CCNC1=O)NC([C@@H](NC(OCc2ccccc2)=O)CC(C)C)=O)=O   \n",
       "2737                                                            CC(=O)OC1=CC=CC=C1C(=O)O   \n",
       "\n",
       "      record_id  \n",
       "0     CBR000181  \n",
       "38    CBR000221  \n",
       "39    CBR000239  \n",
       "43    CBR000247  \n",
       "45    CBR000254  \n",
       "...         ...  \n",
       "2697  CBR007515  \n",
       "2698  CBR007518  \n",
       "2700  CBR007536  \n",
       "2735  CBR007574  \n",
       "2737  CBR007597  \n",
       "\n",
       "[228 rows x 5 columns]"
      ]
     },
     "execution_count": 7,
     "metadata": {},
     "output_type": "execute_result"
    }
   ],
   "source": [
    "Mapping.drop_duplicates(['unp_accessionid','binder_smiles'])"
   ]
  },
  {
   "cell_type": "code",
   "execution_count": 8,
   "metadata": {
    "ExecuteTime": {
     "end_time": "2022-06-09T19:10:42.074764Z",
     "start_time": "2022-06-09T19:10:41.385769Z"
    }
   },
   "outputs": [],
   "source": [
    "mapping = Mapping.sort_values('record_id')\\\n",
    "                 .drop_duplicates(['record_id'])[['record_id','react_id']]\\\n",
    "                 .set_index('record_id')\\\n",
    "                 .to_dict('dict')['react_id']\n",
    "df['BindingDB_react_id']=df.apply(lambda r: str(mapping[r.record_id]) if r.record_id in mapping else math.nan,axis=1)\n",
    "df.to_pickle('data/df_processed.pkl') "
   ]
  },
  {
   "cell_type": "code",
   "execution_count": null,
   "metadata": {},
   "outputs": [],
   "source": []
  }
 ],
 "metadata": {
  "kernelspec": {
   "display_name": "Python 3",
   "language": "python",
   "name": "python3"
  },
  "language_info": {
   "codemirror_mode": {
    "name": "ipython",
    "version": 3
   },
   "file_extension": ".py",
   "mimetype": "text/x-python",
   "name": "python",
   "nbconvert_exporter": "python",
   "pygments_lexer": "ipython3",
   "version": "3.7.10"
  }
 },
 "nbformat": 4,
 "nbformat_minor": 2
}
