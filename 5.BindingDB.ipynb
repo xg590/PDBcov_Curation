{
 "cells": [
  {
   "cell_type": "code",
   "execution_count": null,
   "metadata": {
    "ExecuteTime": {
     "end_time": "2021-12-18T00:13:57.898958Z",
     "start_time": "2021-12-18T00:13:57.596757Z"
    }
   },
   "outputs": [],
   "source": [
    "# https://www.bindingdb.org/bind/chemsearch/marvin/SDFdownload.jsp?all_download=yes\n",
    "# BindingDB_BindingDB_Inhibition_2021m6.tsv.zip\n",
    "\n",
    "from rdkit import Chem\n",
    "from rdkit.Chem import AllChem, PandasTools \n",
    "from rdkit.Chem.Draw import IPythonConsole  \n",
    "import pandas as pd, sqlite3, math\n",
    "pd.set_option('display.max_columns', None)\n",
    "#pd.set_option('display.max_rows', None)\n",
    "pd.set_option('display.max_colwidth', None) "
   ]
  },
  {
   "cell_type": "raw",
   "metadata": {
    "ExecuteTime": {
     "end_time": "2021-07-05T15:24:27.161058Z",
     "start_time": "2021-07-05T15:24:27.150352Z"
    }
   },
   "source": [
    "tsv = '/scratch/xg590/source/BindingDB_All.tsv'\n",
    "csv = '/scratch/xg590/scratch/BindingDB_All.csv'\n",
    "with open(tsv, 'r') as fr, open(csv, 'w') as fw:\n",
    "    fr.readline()\n",
    "    print('BindingDB Reactant_set_id,Ligand SMILES,UniProt (SwissProt) ID of Target Chain,Ligand InChIKey', file=fw)\n",
    "    while True:\n",
    "        line = fr.readline()\n",
    "        if line:\n",
    "            line = line.split('\\t')\n",
    "            item = [line[i] for i in [0,1,41,42]] \n",
    "            if item[2]:\n",
    "                mol = Chem.MolFromSmiles(item[1])\n",
    "                if not mol: continue\n",
    "                smiles = Chem.MolToSmiles(mol,isomericSmiles=True,canonical=True)\n",
    "                inchikey = Chem.MolToInchiKey(mol)\n",
    "                for i in item[2].split(','):\n",
    "                    print(','.join([item[0], smiles, i, ]), file=fw)\n",
    "            if item[3]:\n",
    "                print(line)\n",
    "                beak\n",
    "                for i in item[3].split(','):\n",
    "                    \n",
    "                    print(','.join([item[0], smiles, i]), file=fw)  \n",
    "        else:  \n",
    "            break # executed in 15m 13s"
   ]
  },
  {
   "cell_type": "raw",
   "metadata": {
    "ExecuteTime": {
     "end_time": "2021-07-09T18:47:11.219365Z",
     "start_time": "2021-07-09T18:43:46.973892Z"
    }
   },
   "source": [
    "csv = '/scratch/xg590/source/BindingDB_All.csv'\n",
    "df = pd.read_csv(csv, usecols=['BindingDB Reactant_set_id', 'Ligand InChI Key',\n",
    "       'UniProt (SwissProt) Primary ID of Target Chain',\n",
    "       'UniProt (SwissProt) Secondary ID(s) of Target Chain'], low_memory=False)\n",
    "\n",
    "df = df[df['UniProt (SwissProt) Primary ID of Target Chain'].notna()]\n",
    "df = df.fillna('N/A')\n",
    "\n",
    "con = sqlite3.connect('/scratch/xg590/scratch/BindingDB.db') #  :memory:\n",
    "\n",
    "df[['BindingDB Reactant_set_id', 'Ligand InChI Key',\n",
    "   'UniProt (SwissProt) Primary ID of Target Chain']].\\\n",
    "   rename(columns={\n",
    "    'BindingDB Reactant_set_id': 'react_id',\n",
    "    'Ligand InChI Key':'inchikey',\n",
    "    'UniProt (SwissProt) Primary ID of Target Chain':'unprotid'\n",
    "   }).\\\n",
    "   to_sql('bindingdb',con,if_exists=\"replace\",index=False) \n",
    "\n",
    "cur = con.cursor()\n",
    "\n",
    "for _, row in df.iterrows(): \n",
    "    react_id = row['BindingDB Reactant_set_id']\n",
    "    inchikey = row['Ligand InChI Key']\n",
    "    uniprot  = row['UniProt (SwissProt) Secondary ID(s) of Target Chain'] \n",
    "    cur.executemany('''\n",
    "        insert into bindingdb(react_id, inchikey, unprotid) values (?, ?, ?)\n",
    "    ''', [(react_id, inchikey, i) for i in uniprot.split(',')])\n",
    "\n",
    "con.commit()\n",
    "\n",
    "con.close()"
   ]
  },
  {
   "cell_type": "code",
   "execution_count": null,
   "metadata": {
    "ExecuteTime": {
     "end_time": "2021-12-18T00:13:57.902683Z",
     "start_time": "2021-12-18T00:13:57.900331Z"
    }
   },
   "outputs": [],
   "source": [
    "con = sqlite3.connect('/scratch/xg590/scratch/BindingDB.db') #  :memory:\n",
    "cur = con.cursor()"
   ]
  },
  {
   "cell_type": "code",
   "execution_count": null,
   "metadata": {
    "ExecuteTime": {
     "end_time": "2021-12-18T00:13:58.673684Z",
     "start_time": "2021-12-18T00:13:57.904841Z"
    }
   },
   "outputs": [],
   "source": [
    "df = pd.read_pickle('data/df_processed.pkl') \n",
    "df[['InChIKey','binder_smiles','unp_accessionid','unp_resnum','record_id']].to_sql('pdbcov',con,if_exists=\"replace\",index=True)  "
   ]
  },
  {
   "cell_type": "code",
   "execution_count": null,
   "metadata": {
    "ExecuteTime": {
     "end_time": "2021-12-18T00:13:58.688552Z",
     "start_time": "2021-12-18T00:13:58.675176Z"
    }
   },
   "outputs": [],
   "source": [
    "pd.read_sql('select * from bindingdb limit 1', con)"
   ]
  },
  {
   "cell_type": "code",
   "execution_count": null,
   "metadata": {
    "ExecuteTime": {
     "end_time": "2021-12-18T00:13:58.841293Z",
     "start_time": "2021-12-18T00:13:58.689715Z"
    }
   },
   "outputs": [],
   "source": [
    "pd.read_sql('select * from pdbcov limit 1', con)"
   ]
  },
  {
   "cell_type": "code",
   "execution_count": null,
   "metadata": {
    "ExecuteTime": {
     "end_time": "2021-12-18T00:14:32.491748Z",
     "start_time": "2021-12-18T00:13:58.842314Z"
    }
   },
   "outputs": [],
   "source": [
    "Mapping = pd.read_sql_query('''SELECT pdbcov.adduct_id, bindingdb.react_id, unp_accessionid, binder_smiles, record_id\n",
    "                               FROM pdbcov JOIN bindingdb\n",
    "                               ON     pdbcov.unp_accessionid = bindingdb.unprotid\n",
    "                                  AND pdbcov.InChIKey        = bindingdb.inchikey''' , con) \n",
    "# executed in 39.3s, finished 06:37:50 2021-05-21"
   ]
  },
  {
   "cell_type": "code",
   "execution_count": null,
   "metadata": {
    "ExecuteTime": {
     "end_time": "2021-12-18T00:14:32.507947Z",
     "start_time": "2021-12-18T00:14:32.493436Z"
    }
   },
   "outputs": [],
   "source": [
    "Mapping.drop_duplicates(['unp_accessionid','binder_smiles'])"
   ]
  },
  {
   "cell_type": "code",
   "execution_count": null,
   "metadata": {
    "ExecuteTime": {
     "end_time": "2021-12-18T00:20:49.840151Z",
     "start_time": "2021-12-18T00:20:49.712976Z"
    }
   },
   "outputs": [],
   "source": [
    "mapping = Mapping.sort_values('record_id')\\\n",
    "                 .drop_duplicates(['record_id'])[['record_id','react_id']]\\\n",
    "                 .set_index('record_id')\\\n",
    "                 .to_dict('dict')['react_id']\n",
    "df['BindingDB_react_id']=df.apply(lambda r: str(mapping[r.record_id]) if r.record_id in mapping else math.nan,axis=1)\n",
    "df.astype({'BindingDB_react_id'}).to_pickle('data/df_processed.pkl') "
   ]
  }
 ],
 "metadata": {
  "kernelspec": {
   "display_name": "Python 3",
   "language": "python",
   "name": "python3"
  },
  "language_info": {
   "codemirror_mode": {
    "name": "ipython",
    "version": 3
   },
   "file_extension": ".py",
   "mimetype": "text/x-python",
   "name": "python",
   "nbconvert_exporter": "python",
   "pygments_lexer": "ipython3",
   "version": "3.7.10"
  }
 },
 "nbformat": 4,
 "nbformat_minor": 2
}
