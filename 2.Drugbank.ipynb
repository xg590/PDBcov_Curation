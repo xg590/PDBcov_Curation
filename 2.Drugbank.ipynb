{
 "cells": [
  {
   "cell_type": "raw",
   "metadata": {
    "ExecuteTime": {
     "end_time": "2021-07-09T16:53:42.180007Z",
     "start_time": "2021-07-09T16:53:38.283327Z"
    }
   },
   "source": [
    "pip install xmltodict"
   ]
  },
  {
   "cell_type": "code",
   "execution_count": 1,
   "metadata": {
    "ExecuteTime": {
     "end_time": "2021-12-17T20:00:29.306497Z",
     "start_time": "2021-12-17T20:00:29.006509Z"
    }
   },
   "outputs": [],
   "source": [
    "import xmltodict, json\n",
    "import pandas as pd, sqlite3 \n",
    "from rdkit import Chem\n",
    "from rdkit.Chem import AllChem, PandasTools \n",
    "from rdkit.Chem.Draw import IPythonConsole  "
   ]
  },
  {
   "cell_type": "markdown",
   "metadata": {},
   "source": [
    "### Format conversion"
   ]
  },
  {
   "cell_type": "markdown",
   "metadata": {},
   "source": [
    "* visit https://www.drugbank.ca/releases/latest\n",
    "* download drugbank_all_full_database.xml.zip\n",
    "* unzip and get full database.xml\n",
    "* rename to drugbank.5.1.7.xml"
   ]
  },
  {
   "cell_type": "raw",
   "metadata": {
    "ExecuteTime": {
     "end_time": "2021-07-01T12:22:10.490335Z",
     "start_time": "2021-07-01T12:19:40.014643Z"
    }
   },
   "source": [
    "with open(\"/scratch/xg590/source/drugbank_all_full_database.5.1.8.xml\", 'r') as xml_file:\n",
    "    data_dict = xmltodict.parse(xml_file.read()) \n",
    "# executed in 2m 33s, finished 04:46:32 2021-05-21"
   ]
  },
  {
   "cell_type": "markdown",
   "metadata": {},
   "source": [
    "### Put into Database"
   ]
  },
  {
   "cell_type": "raw",
   "metadata": {
    "ExecuteTime": {
     "end_time": "2021-07-01T12:26:25.774284Z",
     "start_time": "2021-07-01T12:26:19.454021Z"
    }
   },
   "source": [
    "con = sqlite3.connect('/scratch/xg590/scratch/drugbank.5.1.8.db') \n",
    "cur = con.cursor() \n",
    "cur.execute('CREATE TABLE IF NOT EXISTS drugbank(drugbank_id TEXT, InChIKey TEXT, groups TEXT)') \n",
    "\n",
    "for one_drug_entry in data_dict[\"drugbank\"]['drug']:\n",
    "    if 'calculated-properties' in one_drug_entry.keys(): \n",
    "        if one_drug_entry['calculated-properties'] == None: continue\n",
    "        #try:\n",
    "        if '#text' in one_drug_entry['drugbank-id']:\n",
    "            DB_ID = one_drug_entry['drugbank-id']['#text']\n",
    "        else:\n",
    "            DB_ID = one_drug_entry['drugbank-id'][0]['#text']\n",
    "        if 'kind' in one_drug_entry['calculated-properties']['property']:\n",
    "            one_property = one_drug_entry['calculated-properties']['property'] \n",
    "        else:\n",
    "            for one_property in one_drug_entry['calculated-properties']['property']:\n",
    "                if one_property['kind'] == 'SMILES': \n",
    "                    break \n",
    "        groups = one_drug_entry['groups']['group']\n",
    "        if isinstance(groups, list): \n",
    "            groups = '|'.join(groups)\n",
    "        SMILES = one_property['value']\n",
    "        mol = Chem.MolFromSmiles(SMILES)\n",
    "        if mol: \n",
    "            cur.execute('INSERT INTO drugbank (drugbank_id, InChIKey, groups) VALUES(?, ?, ?);',\n",
    "                        (DB_ID, Chem.MolToInchiKey(mol), groups))  \n",
    "\n",
    "cur.execute('commit;')\n",
    "cur.close()"
   ]
  },
  {
   "cell_type": "markdown",
   "metadata": {},
   "source": [
    "### Compare"
   ]
  },
  {
   "cell_type": "code",
   "execution_count": 2,
   "metadata": {
    "ExecuteTime": {
     "end_time": "2021-12-17T20:00:29.942574Z",
     "start_time": "2021-12-17T20:00:29.307734Z"
    }
   },
   "outputs": [],
   "source": [
    "con = sqlite3.connect('/scratch/xg590/scratch/drugbank.5.1.8.db') \n",
    "\n",
    "pd.read_pickle('data/df_latest.pkl').drop_duplicates('InChIKey')[['InChIKey']].to_sql('covdb',con,if_exists=\"replace\",index=False)\n",
    "\n",
    "df = pd.read_sql('''SELECT covdb.InChIKey, drugbank.drugbank_id, groups \n",
    "               FROM drugbank JOIN covdb   \n",
    "               ON drugbank.InChIKey=covdb.InChIKey;''', con) \n",
    "\n",
    "df.to_csv('data/drugbank.csv',index=False) \n",
    "with open('data/drugbank.csv','a') as fw:\n",
    "    fw.write('RICZEKWVNZFTNZ-LFGITCQGSA-N,DB14760,\\n')"
   ]
  },
  {
   "cell_type": "code",
   "execution_count": 3,
   "metadata": {
    "ExecuteTime": {
     "end_time": "2021-12-17T20:00:29.959223Z",
     "start_time": "2021-12-17T20:00:29.944038Z"
    }
   },
   "outputs": [
    {
     "data": {
      "text/html": [
       "<div>\n",
       "<style scoped>\n",
       "    .dataframe tbody tr th:only-of-type {\n",
       "        vertical-align: middle;\n",
       "    }\n",
       "\n",
       "    .dataframe tbody tr th {\n",
       "        vertical-align: top;\n",
       "    }\n",
       "\n",
       "    .dataframe thead th {\n",
       "        text-align: right;\n",
       "    }\n",
       "</style>\n",
       "<table border=\"1\" class=\"dataframe\">\n",
       "  <thead>\n",
       "    <tr style=\"text-align: right;\">\n",
       "      <th></th>\n",
       "      <th>drugbank_id</th>\n",
       "      <th>InChIKey</th>\n",
       "      <th>groups</th>\n",
       "    </tr>\n",
       "  </thead>\n",
       "  <tbody>\n",
       "    <tr>\n",
       "      <th>0</th>\n",
       "      <td>DB14760</td>\n",
       "      <td>RICZEKWVNZFTNZ-IOBYQIKSSA-N</td>\n",
       "      <td>experimental</td>\n",
       "    </tr>\n",
       "  </tbody>\n",
       "</table>\n",
       "</div>"
      ],
      "text/plain": [
       "  drugbank_id                     InChIKey        groups\n",
       "0     DB14760  RICZEKWVNZFTNZ-IOBYQIKSSA-N  experimental"
      ]
     },
     "execution_count": 3,
     "metadata": {},
     "output_type": "execute_result"
    }
   ],
   "source": [
    "pd.read_sql(\"select * from drugbank where drugbank_id='DB14760'\", con)"
   ]
  },
  {
   "cell_type": "code",
   "execution_count": null,
   "metadata": {},
   "outputs": [],
   "source": []
  }
 ],
 "metadata": {
  "kernelspec": {
   "display_name": "Python 3",
   "language": "python",
   "name": "python3"
  },
  "language_info": {
   "codemirror_mode": {
    "name": "ipython",
    "version": 3
   },
   "file_extension": ".py",
   "mimetype": "text/x-python",
   "name": "python",
   "nbconvert_exporter": "python",
   "pygments_lexer": "ipython3",
   "version": "3.7.10"
  }
 },
 "nbformat": 4,
 "nbformat_minor": 2
}
