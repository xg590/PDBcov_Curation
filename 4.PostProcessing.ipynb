{
 "cells": [
  {
   "cell_type": "code",
   "execution_count": 1,
   "id": "forced-thesaurus",
   "metadata": {
    "ExecuteTime": {
     "end_time": "2022-06-09T19:09:30.608201Z",
     "start_time": "2022-06-09T19:09:22.439412Z"
    }
   },
   "outputs": [],
   "source": [
    "from rdkit import Chem\n",
    "from rdkit.Chem import PandasTools \n",
    "PandasTools.RenderImagesInAllDataFrames(images=True)  \n",
    "import pandas as pd  \n",
    "pd.set_option('display.max_columns', None)\n",
    "#pd.set_option('display.max_rows', None)\n",
    "pd.set_option('display.max_colwidth', None) \n",
    "import math, json\n",
    "show = lambda df, n=5: display(HTML(df.head(n).to_html()))\n",
    "df = pd.read_pickle('data/df_latest.pkl') \n",
    "df = df[df['InChIKey'].notna()]\n",
    "df = df[df['warhead_name'].notna()]  \n",
    "\n",
    "df_sifts = pd.read_csv(\"data/sifts.matched.csv\", \n",
    "                     dtype={'unp_accessionid': str,\n",
    "                            'unp_resnum': str,\n",
    "                            'adduct_id': str}\n",
    "                    ) \n",
    "df_sifts = df_sifts[['unp_accessionid', 'unp_resnum', 'adduct_id']] \n",
    "df_sifts = df_sifts.set_index('adduct_id')\n",
    "\n",
    "df.update(df_sifts)\n",
    "df['unp_accessionid'] = df.apply(lambda r: r.unp_accessionid if isinstance(r.unp_accessionid, str) else r.pdb_id, axis=1) \n",
    "df['unp_resnum'] = df.apply(lambda r: r.unp_resnum if isinstance(r.unp_resnum, str) else r.res_num, axis=1)  \n",
    "\n",
    "achor = Chem.MolFromSmarts('[#52,#83,#84]')  \n",
    "sub = {\n",
    "'ASP_OD1': Chem.MolFromSmiles('[O][At]'               ),\n",
    "'ASP_OD2': Chem.MolFromSmiles('[O][At]'               ),\n",
    "'CYS_SG' : Chem.MolFromSmiles('[S][At]'               ),\n",
    "'GLU_OE1': Chem.MolFromSmiles('[O][At]'               ),\n",
    "'GLU_OE2': Chem.MolFromSmiles('[O][At]'               ),\n",
    "'HIS_ND1': Chem.MolFromSmiles('[N+]1=CNC=C1([At])'  ),\n",
    "'HIS_NE2': Chem.MolFromSmiles('[N]1C=C([At])[NH+]=C1' ),\n",
    "'LYS_NZ' : Chem.MolFromSmiles('[N][At]'               ),\n",
    "'MET_SD' : Chem.MolFromSmiles('[S+](C)[At]'         ),\n",
    "'THR_OG1': Chem.MolFromSmiles('[O][At]'               ),\n",
    "'SER_OG' : Chem.MolFromSmiles('[O][At]'               ),\n",
    "'TYR_OH' : Chem.MolFromSmiles('[O][At]'               )\n",
    "}  \n",
    "df['adduct_InChIKey'] = df.apply(lambda x: Chem.MolToInchiKey(Chem.ReplaceSubstructs(x.adduct_pdb, achor, sub[f'{x.res_name}_{x.res_atom_name}'])[0]), axis=1) \n",
    "\n",
    "df['res_quad'] = df.apply(lambda r: r.pdb_id+'_'+r.chain_id+'_'+r.res_num+'_'+r.res_name, axis=1)  \n",
    "df['binder_quad'] = df.apply(lambda r: r.pdb_id+'_'+r.covalent_bond_record.split(',')[12]+'_'+r.covalent_bond_record.split(',')[16]+'_'+r.binder_id_in_adduct, axis=1) \n",
    "df['binder_atom_alt'] = df.apply(lambda r: r.covalent_bond_record.split(',')[19], axis=1) \n",
    "df['res_atom_alt'] = df.apply(lambda r: r.covalent_bond_record.split(',')[9], axis=1)\n",
    "df['binder_chain_id'] = df.apply(lambda r: r.covalent_bond_record.split(',')[12], axis=1)\n",
    "df['binder_num'     ] = df.apply(lambda r: r.covalent_bond_record.split(',')[16], axis=1) \n",
    "    \n",
    "mapping = {row.InChIKey: row.drugbank_id for i,row in pd.read_csv('data/drugbank.csv').iterrows()} \n",
    "df['drugbank_id']=df.apply(lambda r: mapping[r.InChIKey] if r.InChIKey in mapping else math.nan,axis=1)\n",
    "mapping = {row.InChIKey: row.groups for i,row in pd.read_csv('data/drugbank.csv').iterrows()} \n",
    "df['drugbank_groups']=df.apply(lambda r: mapping[r.InChIKey] if r.InChIKey in mapping else math.nan,axis=1) \n",
    "\n",
    "def MolToSmiles(mol, s):\n",
    "    if isinstance(s, str):\n",
    "        return s\n",
    "    else:\n",
    "        s = Chem.MolToSmiles(mol)\n",
    "        if s:\n",
    "            return s\n",
    "        else:\n",
    "            raise \n",
    "df['binder_smiles'] = df.apply(lambda x: None if isinstance(x.binder_mol, float) else MolToSmiles(x.binder_mol, x.binder_smiles), axis=1)\n",
    "df['adduct_smiles'] = df.apply(lambda x: MolToSmiles(x.adduct_pdb, x.adduct_smiles), axis=1)\n",
    "  \n",
    "def record_id_generator():\n",
    "    i = 0\n",
    "    while 1:\n",
    "        i += 1\n",
    "        yield f\"CBR{i:0>6}\" \n",
    "r_gen = record_id_generator() \n",
    "df['record_id'] = df.apply(lambda r: next(r_gen), axis=1)  \n",
    "\n",
    "def covalent_binder_id_generator():\n",
    "    i = 0\n",
    "    while 1:\n",
    "        i += 1\n",
    "        yield f\"CB{i:0>7}\"\n",
    "\n",
    "cb_gen = covalent_binder_id_generator()   \n",
    "binder_id_dict = {binder_id: next(cb_gen) for binder_id in df[df['InChIKey'].notna()]['InChIKey'].unique()} \n",
    "import math \n",
    "df['binder_id'] = df.apply(lambda r: binder_id_dict[r.InChIKey] if isinstance(r.InChIKey, str) else math.nan, axis=1)  \n",
    "\n",
    "res_map_long_to_short = {\"Alanine\" :\"ALA\", \"Arginine\" :\"ARG\", \"Asparagine\" :\"ASN\", \"Aspartic Acid\" :\"ASP\", \"Cysteine\" :\"CYS\", \"Glutamine\" :\"GLN\", \"Glutamic Acid\" :\"GLU\", \"Glycine\" :\"GLY\", \"Histidine\" :\"HIS\", \"Isoleucine\" :\"ILE\", \"Leucine\" :\"LEU\", \"Lysine\" :\"LYS\", \"Methionine\" :\"MET\", \"Phenylalanine\" :\"PHE\", \"Proline\" :\"PRO\", \"Serine\" :\"SER\", \"Threonine\" :\"THR\", \"Tryptophan\" :\"TRP\", \"Tyrosine\" :\"TYR\", \"Valine\" :\"VAL\"}\n",
    "Acceptable_Nucleophile = [('ASP', 'OD1'), ('ASP', 'OD2'), ('CYS', 'SG'), ('GLU', 'OE1'), ('GLU', 'OE2'), ('HIS', 'ND1'), ('HIS', 'NE2'), ('LYS', 'NZ'), ('MET', 'SD'),  ('THR', 'OG1'), ('SER', 'OG'), ('TYR', 'OH')]\n",
    "res_map_short_to_long = dict([(v,k) for k,v in res_map_long_to_short.items()]) \n",
    "df['full_residue_name'] = df.apply(lambda r: res_map_short_to_long[r.res_name], axis=1)  \n",
    "\n",
    "df.to_pickle('data/df_processed.pkl')"
   ]
  },
  {
   "cell_type": "code",
   "execution_count": 2,
   "id": "major-boost",
   "metadata": {
    "ExecuteTime": {
     "end_time": "2022-06-09T19:09:30.619404Z",
     "start_time": "2022-06-09T19:09:30.609710Z"
    }
   },
   "outputs": [
    {
     "data": {
      "text/plain": [
       "2172"
      ]
     },
     "execution_count": 2,
     "metadata": {},
     "output_type": "execute_result"
    }
   ],
   "source": [
    "df['InChIKey'].nunique()"
   ]
  },
  {
   "cell_type": "raw",
   "id": "latin-center",
   "metadata": {
    "ExecuteTime": {
     "end_time": "2021-09-13T12:34:18.894030Z",
     "start_time": "2021-09-13T12:34:17.269052Z"
    }
   },
   "source": [
    "import os\n",
    "for t in os.scandir('/scratch/xg590/scratch/adduct_bin/'):\n",
    "    if t.name[-5:] == '.test': continue\n",
    "    if t.is_file:\n",
    "        with open(t.path, 'rb') as fr: m = Chem.Mol(fr.read())\n",
    "        try:\n",
    "            m = Chem.RemoveAllHs(m) \n",
    "            with open(t.path, 'wb') as fw: \n",
    "                fw.write(m.ToBinary())  \n",
    "        except:\n",
    "            pass"
   ]
  },
  {
   "cell_type": "code",
   "execution_count": null,
   "id": "aquatic-portuguese",
   "metadata": {},
   "outputs": [],
   "source": []
  }
 ],
 "metadata": {
  "kernelspec": {
   "display_name": "Python 3",
   "language": "python",
   "name": "python3"
  },
  "language_info": {
   "codemirror_mode": {
    "name": "ipython",
    "version": 3
   },
   "file_extension": ".py",
   "mimetype": "text/x-python",
   "name": "python",
   "nbconvert_exporter": "python",
   "pygments_lexer": "ipython3",
   "version": "3.7.10"
  }
 },
 "nbformat": 4,
 "nbformat_minor": 5
}
